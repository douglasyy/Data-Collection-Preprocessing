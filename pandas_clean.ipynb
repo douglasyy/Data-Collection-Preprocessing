{
 "cells": [
  {
   "cell_type": "markdown",
   "metadata": {},
   "source": [
    "<h1>Pandas</h1>"
   ]
  },
  {
   "cell_type": "markdown",
   "metadata": {},
   "source": [
    "<li>Integrated data manipulation and analysis capabilities\n",
    "<li>Integration with data visualization libraries\n",
    "<li>Integration with machine learning libraries\n",
    "<li>Built in time-series capabilities (Pandas was originally designed for financial time series data)\n",
    "<li>Optimized for speed\n",
    "<li>Built-in support for grabbing data from multiple sources csv, xls, html tables, yahoo, google, worldbank, FRED\n",
    "<li>Integrated data manipulation support (messy data, missing data, feature construction)\n",
    "<li><b>End to end support for data manipulation, data visualization, data analysis, and presenting results</b>"
   ]
  },
  {
   "cell_type": "markdown",
   "metadata": {},
   "source": [
    "<h2>Types of data in data analysis</h2>\n",
    "<li><b>Categorical</b>  data with a fixed (finite) set of values and not necessarily ordered\n",
    "<ul>\n",
    "<li>gender, marital status, income level, semester grade etc.\n",
    "<li>Pandas uses a <b>Categoricals</b> data type to represent this type of data\n",
    "</ul>\n",
    "<li><b>Continuous</b> Data that is drawn from an infinite set of ordered values and there are an infinite number of values between any two data elements\n",
    "<ul>\n",
    "<li>stock prices, sales revenue, dollar income, etc.\n",
    "<li>Pandas uses the numpy <b>float</b> and <b>int</b> types to represent this type of data\n",
    "</ul>\n",
    "<li><b>Discrete</b> Data that is numerical but cannot be atomized further\n",
    "<ul>\n",
    "<li>Counts of categorical data\n",
    "<li>Number of males, number of people in an income level, etc.\n",
    "<li>Pandas uses the numpy <b>int</b> to represent this type of data\n",
    "</ul>"
   ]
  },
  {
   "cell_type": "markdown",
   "metadata": {},
   "source": [
    "<h3>Pandas organizes data into two data objects</h3>\n",
    "<li>Series: A one dimensional array object\n",
    "<li>DataFrame: A two dimensional table object\n",
    "<ul>\n",
    "<li>Each column in a dataframe corresponds to a named series\n",
    "\n",
    "<li>Rows in a dataframe can be indexed by a column of any datatype\n",
    "</ul>"
   ]
  },
  {
   "cell_type": "code",
   "execution_count": 41,
   "metadata": {},
   "outputs": [],
   "source": [
    "import pandas as pd\n",
    "import numpy as np"
   ]
  },
  {
   "cell_type": "markdown",
   "metadata": {},
   "source": [
    "<h1>Series</h1>"
   ]
  },
  {
   "cell_type": "code",
   "execution_count": 2,
   "metadata": {},
   "outputs": [
    {
     "data": {
      "text/plain": [
       "0    885\n",
       "1    908\n",
       "2    324\n",
       "3    517\n",
       "4    441\n",
       "5      5\n",
       "6    169\n",
       "7    954\n",
       "8    551\n",
       "9    761\n",
       "dtype: int32"
      ]
     },
     "execution_count": 2,
     "metadata": {},
     "output_type": "execute_result"
    }
   ],
   "source": [
    "x = pd.Series(np.random.randint(1000,size=1000))\n",
    "x[:10]"
   ]
  },
  {
   "cell_type": "code",
   "execution_count": null,
   "metadata": {},
   "outputs": [],
   "source": [
    "print(x.head(10))\n",
    "print(x.tail(10))"
   ]
  },
  {
   "cell_type": "markdown",
   "metadata": {},
   "source": [
    "<h3>Series are indexed</h3>\n",
    "<li>Every series contains an index and the values of each index item\n",
    "<li>Series items must be accessed through the index\n",
    "<li>Iterators:  iterate on the index returning values "
   ]
  },
  {
   "cell_type": "code",
   "execution_count": 3,
   "metadata": {},
   "outputs": [
    {
     "data": {
      "text/plain": [
       "885"
      ]
     },
     "execution_count": 3,
     "metadata": {},
     "output_type": "execute_result"
    }
   ],
   "source": [
    "x[0] #0 is the first location, get the corresponding item"
   ]
  },
  {
   "cell_type": "code",
   "execution_count": 4,
   "metadata": {},
   "outputs": [
    {
     "name": "stdout",
     "output_type": "stream",
     "text": [
      "885\n",
      "908\n",
      "324\n",
      "517\n",
      "441\n",
      "5\n",
      "169\n",
      "954\n",
      "551\n",
      "761\n",
      "518\n",
      "955\n",
      "85\n",
      "295\n",
      "227\n",
      "756\n",
      "757\n",
      "581\n",
      "431\n",
      "158\n",
      "821\n",
      "975\n",
      "181\n",
      "163\n",
      "467\n",
      "539\n",
      "993\n",
      "696\n",
      "705\n",
      "653\n",
      "1\n",
      "722\n",
      "560\n",
      "631\n",
      "865\n",
      "296\n",
      "940\n",
      "493\n",
      "209\n",
      "482\n",
      "490\n",
      "267\n",
      "989\n",
      "368\n",
      "174\n",
      "505\n",
      "730\n",
      "818\n",
      "15\n",
      "343\n",
      "315\n",
      "350\n",
      "386\n",
      "339\n",
      "264\n",
      "871\n",
      "753\n",
      "522\n",
      "223\n",
      "822\n",
      "857\n",
      "103\n",
      "574\n",
      "951\n",
      "980\n",
      "113\n",
      "82\n",
      "898\n",
      "394\n",
      "298\n",
      "150\n",
      "254\n",
      "93\n",
      "515\n",
      "584\n",
      "127\n",
      "264\n",
      "246\n",
      "565\n",
      "697\n",
      "613\n",
      "427\n",
      "706\n",
      "295\n",
      "996\n",
      "176\n",
      "29\n",
      "911\n",
      "121\n",
      "131\n",
      "285\n",
      "544\n",
      "267\n",
      "6\n",
      "339\n",
      "915\n",
      "630\n",
      "349\n",
      "598\n",
      "30\n",
      "74\n",
      "753\n",
      "605\n",
      "122\n",
      "714\n",
      "902\n",
      "427\n",
      "56\n",
      "290\n",
      "579\n",
      "512\n",
      "159\n",
      "128\n",
      "860\n",
      "44\n",
      "89\n",
      "731\n",
      "908\n",
      "728\n",
      "273\n",
      "890\n",
      "473\n",
      "628\n",
      "662\n",
      "252\n",
      "15\n",
      "967\n",
      "987\n",
      "579\n",
      "245\n",
      "569\n",
      "223\n",
      "636\n",
      "355\n",
      "732\n",
      "379\n",
      "187\n",
      "128\n",
      "410\n",
      "117\n",
      "167\n",
      "757\n",
      "105\n",
      "220\n",
      "827\n",
      "558\n",
      "538\n",
      "295\n",
      "567\n",
      "511\n",
      "603\n",
      "779\n",
      "950\n",
      "196\n",
      "317\n",
      "869\n",
      "485\n",
      "693\n",
      "237\n",
      "998\n",
      "1\n",
      "372\n",
      "941\n",
      "93\n",
      "220\n",
      "160\n",
      "936\n",
      "124\n",
      "459\n",
      "659\n",
      "614\n",
      "361\n",
      "489\n",
      "751\n",
      "631\n",
      "328\n",
      "585\n",
      "425\n",
      "486\n",
      "332\n",
      "165\n",
      "827\n",
      "975\n",
      "594\n",
      "385\n",
      "297\n",
      "159\n",
      "360\n",
      "330\n",
      "140\n",
      "460\n",
      "704\n",
      "939\n",
      "181\n",
      "604\n",
      "563\n",
      "273\n",
      "270\n",
      "569\n",
      "270\n",
      "522\n",
      "411\n",
      "100\n",
      "761\n",
      "605\n",
      "897\n",
      "378\n",
      "320\n",
      "245\n",
      "205\n",
      "948\n",
      "11\n",
      "731\n",
      "207\n",
      "290\n",
      "949\n",
      "631\n",
      "102\n",
      "620\n",
      "462\n",
      "601\n",
      "268\n",
      "11\n",
      "251\n",
      "351\n",
      "672\n",
      "149\n",
      "225\n",
      "389\n",
      "109\n",
      "100\n",
      "427\n",
      "986\n",
      "205\n",
      "601\n",
      "665\n",
      "806\n",
      "90\n",
      "349\n",
      "854\n",
      "900\n",
      "811\n",
      "563\n",
      "978\n",
      "937\n",
      "587\n",
      "968\n",
      "568\n",
      "375\n",
      "933\n",
      "636\n",
      "805\n",
      "837\n",
      "8\n",
      "691\n",
      "31\n",
      "23\n",
      "969\n",
      "981\n",
      "74\n",
      "962\n",
      "454\n",
      "21\n",
      "938\n",
      "802\n",
      "740\n",
      "138\n",
      "512\n",
      "46\n",
      "289\n",
      "298\n",
      "463\n",
      "932\n",
      "354\n",
      "914\n",
      "175\n",
      "445\n",
      "58\n",
      "201\n",
      "402\n",
      "592\n",
      "333\n",
      "542\n",
      "769\n",
      "390\n",
      "754\n",
      "796\n",
      "12\n",
      "113\n",
      "876\n",
      "441\n",
      "237\n",
      "869\n",
      "255\n",
      "853\n",
      "396\n",
      "789\n",
      "241\n",
      "648\n",
      "212\n",
      "72\n",
      "189\n",
      "226\n",
      "870\n",
      "365\n",
      "201\n",
      "285\n",
      "165\n",
      "316\n",
      "793\n",
      "584\n",
      "224\n",
      "421\n",
      "110\n",
      "769\n",
      "404\n",
      "139\n",
      "422\n",
      "366\n",
      "24\n",
      "900\n",
      "443\n",
      "228\n",
      "301\n",
      "567\n",
      "801\n",
      "825\n",
      "946\n",
      "796\n",
      "240\n",
      "860\n",
      "62\n",
      "280\n",
      "74\n",
      "736\n",
      "52\n",
      "44\n",
      "861\n",
      "735\n",
      "91\n",
      "799\n",
      "62\n",
      "161\n",
      "267\n",
      "553\n",
      "692\n",
      "552\n",
      "208\n",
      "438\n",
      "649\n",
      "256\n",
      "418\n",
      "323\n",
      "863\n",
      "648\n",
      "474\n",
      "644\n",
      "730\n",
      "828\n",
      "454\n",
      "574\n",
      "973\n",
      "572\n",
      "925\n",
      "763\n",
      "817\n",
      "336\n",
      "510\n",
      "416\n",
      "780\n",
      "380\n",
      "582\n",
      "545\n",
      "377\n",
      "773\n",
      "706\n",
      "616\n",
      "310\n",
      "117\n",
      "566\n",
      "727\n",
      "273\n",
      "684\n",
      "755\n",
      "222\n",
      "536\n",
      "330\n",
      "853\n",
      "287\n",
      "94\n",
      "126\n",
      "865\n",
      "613\n",
      "811\n",
      "700\n",
      "389\n",
      "567\n",
      "832\n",
      "145\n",
      "167\n",
      "525\n",
      "603\n",
      "666\n",
      "793\n",
      "389\n",
      "963\n",
      "469\n",
      "194\n",
      "673\n",
      "792\n",
      "869\n",
      "826\n",
      "677\n",
      "328\n",
      "812\n",
      "692\n",
      "153\n",
      "806\n",
      "476\n",
      "219\n",
      "876\n",
      "41\n",
      "486\n",
      "791\n",
      "754\n",
      "191\n",
      "940\n",
      "312\n",
      "72\n",
      "2\n",
      "864\n",
      "703\n",
      "56\n",
      "895\n",
      "917\n",
      "683\n",
      "732\n",
      "317\n",
      "510\n",
      "165\n",
      "436\n",
      "865\n",
      "244\n",
      "232\n",
      "438\n",
      "298\n",
      "411\n",
      "219\n",
      "777\n",
      "548\n",
      "340\n",
      "783\n",
      "440\n",
      "421\n",
      "687\n",
      "661\n",
      "226\n",
      "340\n",
      "187\n",
      "881\n",
      "911\n",
      "877\n",
      "874\n",
      "347\n",
      "971\n",
      "260\n",
      "975\n",
      "873\n",
      "814\n",
      "246\n",
      "847\n",
      "38\n",
      "909\n",
      "118\n",
      "537\n",
      "327\n",
      "214\n",
      "644\n",
      "990\n",
      "648\n",
      "252\n",
      "438\n",
      "334\n",
      "79\n",
      "142\n",
      "559\n",
      "644\n",
      "68\n",
      "83\n",
      "49\n",
      "127\n",
      "600\n",
      "658\n",
      "828\n",
      "15\n",
      "241\n",
      "881\n",
      "494\n",
      "720\n",
      "151\n",
      "762\n",
      "963\n",
      "3\n",
      "473\n",
      "586\n",
      "752\n",
      "534\n",
      "915\n",
      "483\n",
      "598\n",
      "21\n",
      "283\n",
      "79\n",
      "655\n",
      "452\n",
      "176\n",
      "382\n",
      "734\n",
      "455\n",
      "839\n",
      "37\n",
      "858\n",
      "895\n",
      "410\n",
      "391\n",
      "165\n",
      "829\n",
      "446\n",
      "952\n",
      "235\n",
      "529\n",
      "846\n",
      "624\n",
      "542\n",
      "532\n",
      "874\n",
      "468\n",
      "791\n",
      "515\n",
      "768\n",
      "470\n",
      "378\n",
      "511\n",
      "828\n",
      "91\n",
      "382\n",
      "956\n",
      "20\n",
      "283\n",
      "900\n",
      "978\n",
      "424\n",
      "903\n",
      "967\n",
      "665\n",
      "818\n",
      "378\n",
      "352\n",
      "694\n",
      "511\n",
      "993\n",
      "478\n",
      "629\n",
      "197\n",
      "717\n",
      "39\n",
      "771\n",
      "967\n",
      "887\n",
      "908\n",
      "476\n",
      "58\n",
      "754\n",
      "387\n",
      "662\n",
      "232\n",
      "228\n",
      "459\n",
      "978\n",
      "200\n",
      "8\n",
      "231\n",
      "432\n",
      "951\n",
      "487\n",
      "772\n",
      "585\n",
      "115\n",
      "714\n",
      "66\n",
      "942\n",
      "959\n",
      "86\n",
      "681\n",
      "144\n",
      "801\n",
      "169\n",
      "228\n",
      "623\n",
      "444\n",
      "739\n",
      "385\n",
      "676\n",
      "0\n",
      "385\n",
      "656\n",
      "703\n",
      "897\n",
      "824\n",
      "189\n",
      "200\n",
      "923\n",
      "719\n",
      "428\n",
      "831\n",
      "357\n",
      "735\n",
      "572\n",
      "313\n",
      "294\n",
      "212\n",
      "619\n",
      "695\n",
      "375\n",
      "387\n",
      "60\n",
      "315\n",
      "34\n",
      "4\n",
      "610\n",
      "93\n",
      "210\n",
      "239\n",
      "154\n",
      "680\n",
      "846\n",
      "537\n",
      "109\n",
      "669\n",
      "24\n",
      "743\n",
      "651\n",
      "156\n",
      "580\n",
      "744\n",
      "261\n",
      "921\n",
      "998\n",
      "90\n",
      "492\n",
      "150\n",
      "857\n",
      "112\n",
      "877\n",
      "466\n",
      "974\n",
      "238\n",
      "575\n",
      "425\n",
      "325\n",
      "760\n",
      "671\n",
      "75\n",
      "645\n",
      "17\n",
      "72\n",
      "25\n",
      "173\n",
      "538\n",
      "397\n",
      "626\n",
      "88\n",
      "629\n",
      "668\n",
      "108\n",
      "977\n",
      "31\n",
      "723\n",
      "78\n",
      "949\n",
      "117\n",
      "416\n",
      "44\n",
      "633\n",
      "422\n",
      "407\n",
      "116\n",
      "286\n",
      "140\n",
      "438\n",
      "692\n",
      "358\n",
      "550\n",
      "283\n",
      "546\n",
      "818\n",
      "657\n",
      "889\n",
      "152\n",
      "960\n",
      "501\n",
      "390\n",
      "524\n",
      "889\n",
      "75\n",
      "17\n",
      "218\n",
      "311\n",
      "738\n",
      "968\n",
      "665\n",
      "943\n",
      "641\n",
      "637\n",
      "989\n",
      "920\n",
      "751\n",
      "609\n",
      "409\n",
      "317\n",
      "330\n",
      "271\n",
      "676\n",
      "134\n",
      "294\n",
      "183\n",
      "816\n",
      "886\n",
      "783\n",
      "471\n",
      "369\n",
      "824\n",
      "650\n",
      "756\n",
      "177\n",
      "576\n",
      "845\n",
      "881\n",
      "719\n",
      "366\n",
      "411\n",
      "261\n",
      "671\n",
      "668\n",
      "353\n",
      "926\n",
      "245\n",
      "328\n",
      "49\n",
      "304\n",
      "202\n",
      "847\n",
      "133\n",
      "741\n",
      "1\n",
      "900\n",
      "615\n",
      "988\n",
      "792\n",
      "871\n",
      "553\n",
      "115\n",
      "870\n",
      "559\n",
      "875\n",
      "877\n",
      "837\n",
      "179\n",
      "425\n",
      "674\n",
      "110\n",
      "215\n",
      "748\n",
      "808\n",
      "997\n",
      "54\n",
      "74\n",
      "216\n",
      "121\n",
      "562\n",
      "876\n",
      "192\n",
      "788\n",
      "341\n",
      "997\n",
      "999\n",
      "27\n",
      "851\n",
      "293\n",
      "702\n",
      "290\n",
      "754\n",
      "318\n",
      "941\n",
      "598\n",
      "396\n",
      "869\n",
      "822\n",
      "824\n",
      "441\n",
      "795\n",
      "343\n",
      "447\n",
      "51\n",
      "982\n",
      "85\n",
      "953\n",
      "159\n",
      "659\n",
      "0\n",
      "434\n",
      "761\n",
      "499\n",
      "0\n",
      "750\n",
      "243\n",
      "316\n",
      "595\n",
      "189\n",
      "4\n",
      "578\n",
      "706\n",
      "719\n",
      "722\n",
      "584\n",
      "663\n",
      "294\n",
      "998\n",
      "445\n",
      "313\n",
      "805\n",
      "500\n",
      "284\n",
      "394\n",
      "797\n",
      "792\n",
      "545\n",
      "304\n",
      "222\n",
      "94\n",
      "253\n",
      "83\n",
      "585\n",
      "279\n",
      "281\n",
      "496\n",
      "11\n",
      "295\n",
      "737\n",
      "84\n",
      "257\n",
      "360\n",
      "183\n",
      "817\n",
      "134\n",
      "428\n",
      "479\n",
      "988\n",
      "260\n",
      "121\n",
      "364\n",
      "536\n",
      "360\n",
      "492\n",
      "890\n",
      "94\n",
      "469\n",
      "969\n",
      "844\n",
      "908\n",
      "894\n",
      "155\n",
      "373\n",
      "543\n",
      "122\n",
      "373\n",
      "719\n",
      "465\n",
      "350\n",
      "98\n",
      "214\n",
      "483\n",
      "659\n",
      "548\n",
      "55\n",
      "490\n",
      "699\n",
      "924\n",
      "417\n",
      "438\n",
      "848\n",
      "335\n",
      "526\n",
      "787\n",
      "375\n",
      "400\n",
      "201\n",
      "454\n",
      "579\n",
      "201\n",
      "317\n",
      "827\n",
      "609\n",
      "906\n",
      "115\n",
      "789\n",
      "599\n",
      "270\n",
      "229\n",
      "507\n",
      "499\n",
      "477\n",
      "464\n",
      "792\n",
      "174\n",
      "526\n",
      "584\n",
      "829\n",
      "882\n",
      "561\n",
      "785\n",
      "211\n",
      "806\n",
      "773\n",
      "337\n",
      "346\n",
      "86\n",
      "757\n",
      "331\n",
      "421\n",
      "417\n",
      "16\n",
      "709\n",
      "14\n",
      "133\n",
      "940\n",
      "973\n",
      "189\n",
      "390\n",
      "294\n",
      "827\n",
      "513\n",
      "531\n",
      "209\n",
      "561\n",
      "518\n",
      "652\n",
      "772\n",
      "204\n",
      "682\n",
      "800\n",
      "83\n",
      "274\n",
      "671\n",
      "857\n",
      "163\n",
      "461\n",
      "661\n",
      "626\n",
      "230\n",
      "200\n",
      "510\n",
      "423\n",
      "63\n",
      "156\n",
      "129\n",
      "333\n",
      "980\n",
      "159\n",
      "237\n",
      "329\n",
      "757\n",
      "997\n",
      "544\n",
      "599\n",
      "232\n",
      "336\n",
      "927\n",
      "912\n",
      "626\n",
      "63\n",
      "308\n",
      "793\n",
      "207\n",
      "588\n",
      "942\n",
      "146\n",
      "464\n",
      "31\n",
      "646\n",
      "355\n",
      "114\n",
      "37\n",
      "267\n",
      "851\n",
      "101\n",
      "416\n",
      "541\n",
      "304\n",
      "911\n"
     ]
    }
   ],
   "source": [
    "for i in x.index: # iterating through the index objects\n",
    "    \n",
    "    print(x[i])"
   ]
  },
  {
   "cell_type": "code",
   "execution_count": 5,
   "metadata": {},
   "outputs": [
    {
     "name": "stdout",
     "output_type": "stream",
     "text": [
      "490\n",
      "229\n",
      "567\n",
      "734\n",
      "865\n",
      "5\n",
      "659\n",
      "857\n",
      "424\n",
      "115\n",
      "455\n",
      "163\n",
      "176\n",
      "396\n",
      "225\n",
      "615\n",
      "988\n",
      "231\n",
      "703\n",
      "237\n",
      "706\n",
      "232\n",
      "827\n",
      "93\n",
      "873\n",
      "768\n",
      "267\n",
      "657\n",
      "17\n",
      "877\n",
      "908\n",
      "676\n",
      "993\n",
      "210\n",
      "94\n",
      "789\n",
      "827\n",
      "828\n",
      "205\n",
      "334\n",
      "127\n",
      "512\n",
      "646\n",
      "416\n",
      "631\n",
      "752\n",
      "369\n",
      "189\n",
      "756\n",
      "267\n",
      "404\n",
      "256\n",
      "330\n",
      "91\n",
      "802\n",
      "155\n",
      "741\n",
      "895\n",
      "251\n",
      "719\n",
      "988\n",
      "122\n",
      "662\n",
      "83\n",
      "63\n",
      "860\n",
      "706\n",
      "579\n",
      "700\n",
      "648\n",
      "603\n",
      "691\n",
      "6\n",
      "176\n",
      "487\n",
      "987\n",
      "802\n",
      "968\n",
      "39\n",
      "889\n",
      "428\n",
      "312\n",
      "218\n",
      "396\n",
      "416\n",
      "585\n",
      "653\n",
      "477\n",
      "473\n",
      "223\n",
      "754\n",
      "91\n",
      "512\n",
      "169\n",
      "91\n",
      "526\n",
      "93\n",
      "649\n",
      "623\n",
      "1\n",
      "584\n",
      "741\n",
      "656\n",
      "628\n",
      "989\n",
      "609\n",
      "312\n",
      "753\n",
      "441\n",
      "200\n",
      "79\n",
      "998\n",
      "579\n",
      "364\n",
      "174\n",
      "131\n",
      "824\n",
      "229\n",
      "783\n",
      "354\n",
      "848\n",
      "118\n",
      "4\n",
      "75\n",
      "837\n",
      "756\n",
      "980\n",
      "464\n",
      "200\n",
      "587\n",
      "908\n",
      "251\n",
      "537\n",
      "474\n",
      "650\n",
      "566\n",
      "360\n",
      "579\n",
      "869\n",
      "908\n",
      "124\n",
      "988\n",
      "902\n",
      "601\n",
      "998\n",
      "694\n",
      "515\n",
      "396\n",
      "967\n",
      "283\n",
      "0\n",
      "562\n",
      "800\n",
      "273\n",
      "422\n",
      "908\n",
      "559\n",
      "283\n",
      "90\n",
      "304\n",
      "908\n",
      "545\n",
      "513\n",
      "6\n",
      "601\n",
      "1\n",
      "973\n",
      "252\n",
      "881\n",
      "325\n",
      "831\n",
      "973\n",
      "49\n",
      "847\n",
      "210\n",
      "796\n",
      "772\n",
      "191\n",
      "644\n",
      "280\n",
      "160\n",
      "998\n",
      "232\n",
      "144\n",
      "536\n",
      "241\n",
      "998\n",
      "574\n",
      "860\n",
      "167\n",
      "911\n",
      "75\n",
      "294\n",
      "827\n",
      "385\n",
      "197\n",
      "354\n",
      "298\n",
      "908\n",
      "298\n",
      "895\n",
      "826\n",
      "74\n",
      "115\n",
      "656\n",
      "454\n",
      "117\n",
      "900\n",
      "587\n",
      "897\n",
      "204\n",
      "955\n",
      "824\n",
      "320\n",
      "441\n",
      "682\n",
      "210\n",
      "605\n",
      "212\n",
      "874\n",
      "385\n",
      "46\n",
      "955\n",
      "805\n",
      "418\n",
      "629\n",
      "511\n",
      "672\n",
      "94\n",
      "579\n",
      "74\n",
      "312\n",
      "146\n",
      "897\n",
      "385\n",
      "72\n",
      "953\n",
      "285\n",
      "649\n",
      "134\n",
      "317\n",
      "761\n",
      "197\n",
      "912\n",
      "189\n",
      "115\n",
      "159\n",
      "887\n",
      "706\n",
      "14\n",
      "537\n",
      "85\n",
      "304\n",
      "551\n",
      "358\n",
      "722\n",
      "163\n",
      "237\n",
      "308\n",
      "584\n",
      "423\n",
      "687\n",
      "975\n",
      "390\n",
      "447\n",
      "411\n",
      "410\n",
      "79\n",
      "730\n",
      "876\n",
      "648\n",
      "347\n",
      "709\n",
      "648\n",
      "174\n",
      "328\n",
      "298\n",
      "223\n",
      "411\n",
      "666\n",
      "86\n",
      "74\n",
      "511\n",
      "674\n",
      "126\n",
      "1\n",
      "869\n",
      "85\n",
      "860\n",
      "719\n",
      "865\n",
      "90\n",
      "908\n",
      "31\n",
      "817\n",
      "567\n",
      "702\n",
      "811\n",
      "90\n",
      "731\n",
      "93\n",
      "140\n",
      "149\n",
      "894\n",
      "817\n",
      "411\n",
      "754\n",
      "160\n",
      "139\n",
      "941\n",
      "487\n",
      "351\n",
      "41\n",
      "512\n",
      "674\n",
      "389\n",
      "117\n",
      "486\n",
      "336\n",
      "467\n",
      "317\n",
      "232\n",
      "389\n",
      "189\n",
      "967\n",
      "343\n",
      "663\n",
      "652\n",
      "869\n",
      "900\n",
      "364\n",
      "574\n",
      "592\n",
      "584\n",
      "845\n",
      "386\n",
      "174\n",
      "536\n",
      "576\n",
      "544\n",
      "441\n",
      "574\n",
      "372\n",
      "512\n",
      "967\n",
      "550\n",
      "903\n",
      "245\n",
      "510\n",
      "492\n",
      "23\n",
      "476\n",
      "301\n",
      "492\n",
      "90\n",
      "537\n",
      "744\n",
      "369\n",
      "445\n",
      "687\n",
      "662\n",
      "544\n",
      "754\n",
      "346\n",
      "559\n",
      "595\n",
      "44\n",
      "21\n",
      "153\n",
      "876\n",
      "727\n",
      "432\n",
      "382\n",
      "310\n",
      "808\n",
      "218\n",
      "735\n",
      "584\n",
      "908\n",
      "771\n",
      "886\n",
      "354\n",
      "422\n",
      "900\n",
      "11\n",
      "468\n",
      "860\n",
      "817\n",
      "12\n",
      "339\n",
      "967\n",
      "94\n",
      "428\n",
      "761\n",
      "501\n",
      "94\n",
      "967\n",
      "284\n",
      "558\n",
      "124\n",
      "165\n",
      "0\n",
      "25\n",
      "941\n",
      "94\n",
      "63\n",
      "246\n",
      "604\n",
      "668\n",
      "318\n",
      "908\n",
      "294\n",
      "723\n",
      "796\n",
      "499\n",
      "550\n",
      "196\n",
      "953\n",
      "214\n",
      "462\n",
      "719\n",
      "267\n",
      "644\n",
      "754\n",
      "1\n",
      "704\n",
      "827\n",
      "421\n",
      "93\n",
      "324\n",
      "890\n",
      "889\n",
      "753\n",
      "400\n",
      "829\n",
      "633\n",
      "650\n",
      "422\n",
      "21\n",
      "160\n",
      "732\n",
      "94\n",
      "937\n",
      "986\n",
      "510\n",
      "648\n",
      "826\n",
      "462\n",
      "216\n",
      "283\n",
      "799\n",
      "341\n",
      "436\n",
      "41\n",
      "286\n",
      "671\n",
      "149\n",
      "799\n",
      "360\n",
      "483\n",
      "477\n",
      "465\n",
      "122\n",
      "208\n",
      "757\n",
      "962\n",
      "232\n",
      "543\n",
      "750\n",
      "968\n",
      "295\n",
      "209\n",
      "507\n",
      "728\n",
      "791\n",
      "946\n",
      "290\n",
      "744\n",
      "355\n",
      "90\n",
      "837\n",
      "510\n",
      "736\n",
      "697\n",
      "105\n",
      "511\n",
      "744\n",
      "394\n",
      "295\n",
      "343\n",
      "987\n",
      "739\n",
      "425\n",
      "445\n",
      "756\n",
      "811\n",
      "483\n",
      "15\n",
      "330\n",
      "779\n",
      "870\n",
      "63\n",
      "517\n",
      "118\n",
      "585\n",
      "133\n",
      "532\n",
      "526\n",
      "79\n",
      "623\n",
      "975\n",
      "769\n",
      "697\n",
      "974\n",
      "440\n",
      "585\n",
      "684\n",
      "177\n",
      "661\n",
      "94\n",
      "493\n",
      "260\n",
      "400\n",
      "869\n",
      "865\n",
      "160\n",
      "313\n",
      "411\n",
      "274\n",
      "665\n",
      "235\n",
      "11\n",
      "387\n",
      "511\n",
      "624\n",
      "122\n",
      "814\n",
      "754\n",
      "176\n",
      "425\n",
      "847\n",
      "117\n",
      "283\n",
      "445\n",
      "544\n",
      "684\n",
      "461\n",
      "821\n",
      "769\n",
      "317\n",
      "912\n",
      "754\n",
      "906\n",
      "980\n",
      "72\n",
      "189\n",
      "117\n",
      "323\n",
      "546\n",
      "283\n",
      "267\n",
      "990\n",
      "610\n",
      "270\n",
      "609\n",
      "482\n",
      "215\n",
      "980\n",
      "924\n",
      "229\n",
      "214\n",
      "223\n",
      "1\n",
      "853\n",
      "75\n",
      "986\n",
      "389\n",
      "881\n",
      "912\n",
      "522\n",
      "551\n",
      "427\n",
      "56\n",
      "83\n",
      "68\n",
      "748\n",
      "772\n",
      "89\n",
      "989\n",
      "82\n",
      "531\n",
      "230\n",
      "29\n",
      "416\n",
      "827\n",
      "343\n",
      "659\n",
      "389\n",
      "375\n",
      "438\n",
      "366\n",
      "536\n",
      "31\n",
      "885\n",
      "536\n",
      "238\n",
      "889\n",
      "454\n",
      "584\n",
      "140\n",
      "522\n",
      "773\n",
      "317\n",
      "72\n",
      "500\n",
      "730\n",
      "576\n",
      "754\n",
      "110\n",
      "853\n",
      "731\n",
      "294\n",
      "818\n",
      "706\n",
      "853\n",
      "857\n",
      "404\n",
      "865\n",
      "441\n",
      "200\n",
      "6\n",
      "948\n",
      "854\n",
      "317\n",
      "117\n",
      "11\n",
      "791\n",
      "579\n",
      "397\n",
      "467\n",
      "668\n",
      "857\n",
      "485\n",
      "8\n",
      "353\n",
      "454\n",
      "211\n",
      "304\n",
      "285\n",
      "658\n",
      "603\n",
      "988\n",
      "128\n",
      "465\n",
      "975\n",
      "599\n",
      "349\n",
      "232\n",
      "191\n",
      "801\n",
      "553\n",
      "88\n",
      "127\n",
      "261\n",
      "581\n",
      "93\n",
      "539\n",
      "751\n",
      "515\n",
      "832\n",
      "315\n",
      "121\n",
      "610\n",
      "538\n",
      "290\n",
      "927\n",
      "722\n",
      "134\n",
      "565\n",
      "682\n",
      "908\n",
      "153\n",
      "174\n",
      "154\n",
      "486\n",
      "194\n",
      "731\n",
      "796\n",
      "167\n",
      "510\n",
      "550\n",
      "828\n",
      "978\n",
      "769\n",
      "956\n",
      "189\n",
      "575\n",
      "438\n",
      "950\n",
      "200\n",
      "963\n",
      "126\n",
      "391\n",
      "438\n",
      "127\n",
      "581\n",
      "620\n",
      "224\n",
      "719\n",
      "159\n",
      "72\n",
      "209\n",
      "651\n",
      "109\n",
      "646\n",
      "785\n",
      "847\n",
      "189\n",
      "792\n",
      "422\n",
      "860\n",
      "463\n",
      "31\n",
      "732\n",
      "853\n",
      "594\n",
      "316\n",
      "699\n",
      "341\n",
      "38\n",
      "780\n",
      "584\n",
      "150\n",
      "615\n",
      "425\n",
      "228\n",
      "496\n",
      "483\n",
      "317\n",
      "336\n",
      "826\n",
      "454\n",
      "88\n",
      "538\n",
      "863\n",
      "86\n",
      "587\n",
      "796\n",
      "343\n",
      "365\n",
      "100\n",
      "295\n",
      "355\n",
      "261\n",
      "908\n",
      "317\n",
      "357\n",
      "31\n",
      "318\n",
      "155\n",
      "967\n",
      "89\n",
      "894\n",
      "511\n",
      "373\n",
      "465\n",
      "304\n",
      "332\n",
      "191\n",
      "108\n",
      "512\n",
      "949\n",
      "49\n",
      "659\n",
      "541\n",
      "264\n",
      "584\n",
      "631\n",
      "473\n",
      "629\n",
      "719\n",
      "939\n",
      "293\n",
      "62\n",
      "541\n",
      "911\n",
      "696\n",
      "360\n",
      "255\n",
      "524\n",
      "441\n",
      "1\n",
      "366\n",
      "513\n",
      "623\n",
      "567\n",
      "908\n",
      "719\n",
      "584\n",
      "865\n",
      "396\n",
      "267\n",
      "219\n",
      "350\n",
      "793\n",
      "176\n",
      "671\n",
      "998\n",
      "325\n",
      "885\n",
      "917\n",
      "115\n",
      "151\n",
      "885\n",
      "202\n",
      "978\n",
      "139\n",
      "801\n",
      "140\n",
      "441\n",
      "978\n",
      "218\n",
      "317\n",
      "676\n",
      "487\n",
      "645\n",
      "853\n",
      "304\n",
      "298\n",
      "110\n",
      "85\n",
      "762\n",
      "390\n",
      "700\n",
      "822\n",
      "318\n",
      "382\n",
      "365\n",
      "11\n",
      "339\n",
      "8\n",
      "295\n",
      "772\n",
      "402\n",
      "333\n",
      "881\n",
      "955\n",
      "396\n",
      "881\n",
      "996\n",
      "969\n",
      "574\n",
      "594\n",
      "595\n",
      "732\n",
      "72\n",
      "648\n",
      "31\n",
      "962\n",
      "473\n",
      "763\n",
      "468\n",
      "574\n",
      "658\n",
      "848\n",
      "339\n",
      "246\n",
      "237\n",
      "281\n",
      "229\n",
      "375\n",
      "869\n",
      "377\n",
      "828\n",
      "628\n",
      "377\n",
      "317\n",
      "260\n",
      "256\n",
      "598\n",
      "290\n",
      "79\n",
      "325\n",
      "283\n",
      "871\n",
      "127\n",
      "960\n",
      "337\n",
      "806\n",
      "510\n",
      "737\n",
      "52\n",
      "829\n",
      "851\n",
      "706\n",
      "525\n",
      "411\n",
      "687\n",
      "200\n",
      "411\n",
      "422\n",
      "998\n",
      "189\n",
      "599\n",
      "89\n",
      "702\n",
      "444\n",
      "298\n",
      "109\n",
      "915\n",
      "151\n",
      "644\n",
      "971\n",
      "318\n",
      "631\n",
      "829\n",
      "487\n",
      "313\n",
      "659\n",
      "478\n",
      "999\n",
      "11\n",
      "953\n",
      "808\n",
      "861\n",
      "552\n",
      "29\n",
      "988\n",
      "62\n",
      "41\n",
      "806\n",
      "757\n",
      "968\n",
      "227\n",
      "355\n",
      "827\n",
      "544\n",
      "140\n",
      "126\n",
      "853\n",
      "998\n",
      "655\n",
      "846\n",
      "205\n",
      "478\n",
      "455\n",
      "112\n",
      "748\n",
      "605\n",
      "44\n",
      "795\n",
      "295\n",
      "914\n",
      "88\n",
      "988\n",
      "93\n",
      "877\n",
      "671\n",
      "315\n",
      "100\n",
      "522\n",
      "21\n",
      "791\n",
      "951\n",
      "485\n",
      "245\n",
      "74\n",
      "63\n",
      "998\n",
      "90\n",
      "240\n",
      "988\n",
      "541\n",
      "91\n",
      "444\n",
      "986\n",
      "44\n",
      "757\n",
      "464\n",
      "315\n",
      "951\n",
      "316\n",
      "941\n",
      "320\n",
      "714\n",
      "531\n",
      "538\n",
      "971\n",
      "722\n",
      "921\n",
      "474\n",
      "44\n",
      "493\n",
      "512\n",
      "360\n",
      "753\n",
      "153\n",
      "378\n",
      "365\n",
      "477\n"
     ]
    }
   ],
   "source": [
    "#The i's in the following loop are values in x, not locations in x!\n",
    "for i in x:\n",
    "    print(x[i])"
   ]
  },
  {
   "cell_type": "code",
   "execution_count": 1,
   "metadata": {},
   "outputs": [],
   "source": [
    "# for i in x:\n",
    "#     print(i)"
   ]
  },
  {
   "cell_type": "markdown",
   "metadata": {},
   "source": [
    "<h3>Series and dict</h3>\n",
    "<li> A dictionary will automatically be broken up into index and value pairs</li>\n",
    "<li> In the following example, the index is ['a','b','c'] and the series contains [1,2,3]"
   ]
  },
  {
   "cell_type": "code",
   "execution_count": 4,
   "metadata": {},
   "outputs": [
    {
     "data": {
      "text/plain": [
       "a    1\n",
       "b    2\n",
       "c    3\n",
       "dtype: int64"
      ]
     },
     "execution_count": 4,
     "metadata": {},
     "output_type": "execute_result"
    }
   ],
   "source": [
    "x = {'a':1,'b':2,'c':3}\n",
    "y=pd.Series(x)\n",
    "y\n",
    "# print(y['b'])"
   ]
  },
  {
   "cell_type": "markdown",
   "metadata": {},
   "source": [
    "<h3>Series objects work like numpy ndarrays</h3>\n",
    "<li>but with an independent index attached to the values of the array\n",
    "<li>the index can be of any immutable data type"
   ]
  },
  {
   "cell_type": "code",
   "execution_count": 5,
   "metadata": {},
   "outputs": [
    {
     "data": {
      "text/plain": [
       "3"
      ]
     },
     "execution_count": 5,
     "metadata": {},
     "output_type": "execute_result"
    }
   ],
   "source": [
    "nums = np.array([1,2,3,4,5,6,7,8,9,10,11,12])\n",
    "names = np.array(('Jan','Feb','Mar','Apr','May','Jun','Jul','Aug','Sep','Oct','Nov','Dec'))\n",
    "months = pd.Series(nums,index=names)\n",
    "months['Mar']\n",
    "#months\n"
   ]
  },
  {
   "cell_type": "markdown",
   "metadata": {},
   "source": [
    "<h4>The index attribute returns the index associated with a series<h4>\n",
    "<li> The data type associated with the index is \"pandas index\""
   ]
  },
  {
   "cell_type": "code",
   "execution_count": 6,
   "metadata": {},
   "outputs": [
    {
     "data": {
      "text/plain": [
       "Index(['Jan', 'Feb', 'Mar', 'Apr', 'May', 'Jun', 'Jul', 'Aug', 'Sep', 'Oct',\n",
       "       'Nov', 'Dec'],\n",
       "      dtype='object')"
      ]
     },
     "execution_count": 6,
     "metadata": {},
     "output_type": "execute_result"
    }
   ],
   "source": [
    "months.index"
   ]
  },
  {
   "cell_type": "markdown",
   "metadata": {},
   "source": [
    "<h3>Accessing data by row number</h3>\n",
    "<li>Series objects are considered to be \"ordered\"\n",
    "<li>So we can also access objects by row number"
   ]
  },
  {
   "cell_type": "code",
   "execution_count": 7,
   "metadata": {},
   "outputs": [
    {
     "data": {
      "text/plain": [
       "1"
      ]
     },
     "execution_count": 7,
     "metadata": {},
     "output_type": "execute_result"
    }
   ],
   "source": [
    "months[0] # can also be accessed by row number ins of index, since the series are ordered"
   ]
  },
  {
   "cell_type": "markdown",
   "metadata": {},
   "source": [
    "<h4>And we can find the row number given an index value<p>\n",
    "and then use that to access the data at that row</h4>"
   ]
  },
  {
   "cell_type": "code",
   "execution_count": 1,
   "metadata": {},
   "outputs": [
    {
     "name": "stdout",
     "output_type": "stream",
     "text": [
      "     A     B      C       D\n",
      "0    1     2      3       4\n",
      "1  one   two  three    four\n",
      "2  uno   duo   tres  quatro\n",
      "3  une  deux  trois  quatre\n"
     ]
    },
    {
     "data": {
      "text/plain": [
       "Group 1    2\n",
       "Group 2    2\n",
       "dtype: int64"
      ]
     },
     "execution_count": 1,
     "metadata": {},
     "output_type": "execute_result"
    }
   ],
   "source": [
    "import pandas as pd\n",
    "import numpy as np\n",
    "df = pd.DataFrame({'A' : ['1', 'one', 'uno', 'une'],\n",
    "                   'B' : ['2', 'two', 'duo', 'deux'],\n",
    "                   'C' : ['3', 'three', 'tres', 'trois'],\n",
    "                   'D' : ['4', 'four', 'quatro', 'quatre']})\n",
    "header = ['Numeral','English','Spanish','French']\n",
    "df\n",
    "def is_group1(word):\n",
    "    if len(word) <= 4 :\n",
    "        return True\n",
    "    return False\n",
    "\n",
    "def is_group1_group(df,ind,col):\n",
    "    try:\n",
    "        if is_group1(df[col].loc[ind]):\n",
    "            return 'Group 1'\n",
    "    except:\n",
    "        pass\n",
    "    return 'Group 2'\n",
    "\n",
    "grouped = df.groupby(lambda x: is_group1_group(df,x,'C')) # how is the x here working?\n",
    "# If by is a function, it’s called on each value of the object’s index.\n",
    "\n",
    "print(df)\n",
    "grouped.size()"
   ]
  },
  {
   "cell_type": "code",
   "execution_count": null,
   "metadata": {},
   "outputs": [],
   "source": []
  },
  {
   "cell_type": "code",
   "execution_count": 8,
   "metadata": {},
   "outputs": [
    {
     "name": "stdout",
     "output_type": "stream",
     "text": [
      "2\n",
      "6\n"
     ]
    }
   ],
   "source": [
    "row = months.index.get_loc('Mar') # give row name, get row number\n",
    "print(row)\n",
    "print(months.iloc[5]) # iloc method, give iloc a row number, it returns the value correspinds to that index position\n"
   ]
  },
  {
   "cell_type": "markdown",
   "metadata": {},
   "source": [
    "<h4>We can do numpy operations on a pandas series</h4>\n"
   ]
  },
  {
   "cell_type": "markdown",
   "metadata": {},
   "source": [
    "<b>Scalar multiplication"
   ]
  },
  {
   "cell_type": "code",
   "execution_count": 9,
   "metadata": {},
   "outputs": [
    {
     "data": {
      "text/plain": [
       "Jan     2\n",
       "Feb     4\n",
       "Mar     6\n",
       "Apr     8\n",
       "May    10\n",
       "Jun    12\n",
       "Jul    14\n",
       "Aug    16\n",
       "Sep    18\n",
       "Oct    20\n",
       "Nov    22\n",
       "Dec    24\n",
       "dtype: int32"
      ]
     },
     "execution_count": 9,
     "metadata": {},
     "output_type": "execute_result"
    }
   ],
   "source": [
    "months*2"
   ]
  },
  {
   "cell_type": "markdown",
   "metadata": {},
   "source": [
    "<b>addition"
   ]
  },
  {
   "cell_type": "code",
   "execution_count": 10,
   "metadata": {},
   "outputs": [
    {
     "data": {
      "text/plain": [
       "0     2\n",
       "1     5\n",
       "2     8\n",
       "3    11\n",
       "4    16\n",
       "dtype: int64"
      ]
     },
     "execution_count": 10,
     "metadata": {},
     "output_type": "execute_result"
    }
   ],
   "source": [
    "x=pd.Series([1,3,5,7,11])\n",
    "z = pd.Series([1,2,3,4,5])\n",
    "x+z"
   ]
  },
  {
   "cell_type": "markdown",
   "metadata": {},
   "source": [
    "<h4>provided the indexes match</h4>"
   ]
  },
  {
   "cell_type": "code",
   "execution_count": 9,
   "metadata": {},
   "outputs": [
    {
     "data": {
      "text/plain": [
       "partridge             1\n",
       "turtle dove           2\n",
       "french hen            3\n",
       "calling birds         4\n",
       "golden rings          5\n",
       "geese                 6\n",
       "swans                 7\n",
       "milking maids         8\n",
       "dancing ladies        9\n",
       "leaping lords        10\n",
       "piping pipers        11\n",
       "drumming drummers    12\n",
       "dtype: int32"
      ]
     },
     "execution_count": 9,
     "metadata": {},
     "output_type": "execute_result"
    }
   ],
   "source": [
    "import numpy as np\n",
    "nums = np.array([1,2,3,4,5,6,7,8,9,10,11,12])\n",
    "names = np.array(('Jan','Feb','Mar','Apr','May','Jun','Jul','Aug','Sep','Oct','Nov','Dec'))\n",
    "months = pd.Series(nums,index=names)\n",
    "things = ['partridge','turtle dove','french hen','calling birds','golden rings','geese','swans','milking maids',\n",
    "                'dancing ladies','leaping lords','piping pipers','drumming drummers' ]\n",
    "days_of_xmas = pd.Series(nums,things)\n",
    "days_of_xmas\n",
    "\n",
    "# index has to be the same to do the concaction"
   ]
  },
  {
   "cell_type": "markdown",
   "metadata": {},
   "source": [
    "<h3>Timeseries objects</h3>\n",
    "<li>Timeseries data in pandas is represented by a series\n",
    "<li>Indexed by time\n",
    "<li>A series can be read directly from a csv file\n",
    "<li>And then the str date converted into a Timestamp object"
   ]
  },
  {
   "cell_type": "code",
   "execution_count": 18,
   "metadata": {},
   "outputs": [],
   "source": [
    "gs_price_data = pd.read_csv(\"GS.csv\", index_col = 'Date')"
   ]
  },
  {
   "cell_type": "code",
   "execution_count": 19,
   "metadata": {},
   "outputs": [
    {
     "data": {
      "text/html": [
       "<div>\n",
       "<style scoped>\n",
       "    .dataframe tbody tr th:only-of-type {\n",
       "        vertical-align: middle;\n",
       "    }\n",
       "\n",
       "    .dataframe tbody tr th {\n",
       "        vertical-align: top;\n",
       "    }\n",
       "\n",
       "    .dataframe thead th {\n",
       "        text-align: right;\n",
       "    }\n",
       "</style>\n",
       "<table border=\"1\" class=\"dataframe\">\n",
       "  <thead>\n",
       "    <tr style=\"text-align: right;\">\n",
       "      <th></th>\n",
       "      <th>Adj Close</th>\n",
       "    </tr>\n",
       "    <tr>\n",
       "      <th>Date</th>\n",
       "      <th></th>\n",
       "    </tr>\n",
       "  </thead>\n",
       "  <tbody>\n",
       "    <tr>\n",
       "      <th>2018-08-22</th>\n",
       "      <td>238.550003</td>\n",
       "    </tr>\n",
       "    <tr>\n",
       "      <th>2018-08-23</th>\n",
       "      <td>235.559906</td>\n",
       "    </tr>\n",
       "    <tr>\n",
       "      <th>2018-08-24</th>\n",
       "      <td>234.333969</td>\n",
       "    </tr>\n",
       "    <tr>\n",
       "      <th>2018-08-27</th>\n",
       "      <td>241.799255</td>\n",
       "    </tr>\n",
       "    <tr>\n",
       "      <th>2018-08-28</th>\n",
       "      <td>241.569992</td>\n",
       "    </tr>\n",
       "    <tr>\n",
       "      <th>2018-08-29</th>\n",
       "      <td>241.399994</td>\n",
       "    </tr>\n",
       "    <tr>\n",
       "      <th>2018-08-30</th>\n",
       "      <td>239.399994</td>\n",
       "    </tr>\n",
       "    <tr>\n",
       "      <th>2018-08-31</th>\n",
       "      <td>237.809998</td>\n",
       "    </tr>\n",
       "    <tr>\n",
       "      <th>2018-09-04</th>\n",
       "      <td>237.660004</td>\n",
       "    </tr>\n",
       "    <tr>\n",
       "      <th>2018-09-05</th>\n",
       "      <td>237.559998</td>\n",
       "    </tr>\n",
       "    <tr>\n",
       "      <th>2018-09-06</th>\n",
       "      <td>234.520004</td>\n",
       "    </tr>\n",
       "    <tr>\n",
       "      <th>2018-09-07</th>\n",
       "      <td>233.910004</td>\n",
       "    </tr>\n",
       "    <tr>\n",
       "      <th>2018-09-10</th>\n",
       "      <td>231.910004</td>\n",
       "    </tr>\n",
       "    <tr>\n",
       "      <th>2018-09-11</th>\n",
       "      <td>230.210007</td>\n",
       "    </tr>\n",
       "    <tr>\n",
       "      <th>2018-09-12</th>\n",
       "      <td>228.149994</td>\n",
       "    </tr>\n",
       "    <tr>\n",
       "      <th>2018-09-13</th>\n",
       "      <td>228.330002</td>\n",
       "    </tr>\n",
       "    <tr>\n",
       "      <th>2018-09-14</th>\n",
       "      <td>229.240005</td>\n",
       "    </tr>\n",
       "    <tr>\n",
       "      <th>2018-09-17</th>\n",
       "      <td>227.889999</td>\n",
       "    </tr>\n",
       "    <tr>\n",
       "      <th>2018-09-18</th>\n",
       "      <td>228.889999</td>\n",
       "    </tr>\n",
       "    <tr>\n",
       "      <th>2018-09-19</th>\n",
       "      <td>235.580002</td>\n",
       "    </tr>\n",
       "    <tr>\n",
       "      <th>2018-09-20</th>\n",
       "      <td>237.399994</td>\n",
       "    </tr>\n",
       "    <tr>\n",
       "      <th>2018-09-21</th>\n",
       "      <td>235.339996</td>\n",
       "    </tr>\n",
       "  </tbody>\n",
       "</table>\n",
       "</div>"
      ],
      "text/plain": [
       "             Adj Close\n",
       "Date                  \n",
       "2018-08-22  238.550003\n",
       "2018-08-23  235.559906\n",
       "2018-08-24  234.333969\n",
       "2018-08-27  241.799255\n",
       "2018-08-28  241.569992\n",
       "2018-08-29  241.399994\n",
       "2018-08-30  239.399994\n",
       "2018-08-31  237.809998\n",
       "2018-09-04  237.660004\n",
       "2018-09-05  237.559998\n",
       "2018-09-06  234.520004\n",
       "2018-09-07  233.910004\n",
       "2018-09-10  231.910004\n",
       "2018-09-11  230.210007\n",
       "2018-09-12  228.149994\n",
       "2018-09-13  228.330002\n",
       "2018-09-14  229.240005\n",
       "2018-09-17  227.889999\n",
       "2018-09-18  228.889999\n",
       "2018-09-19  235.580002\n",
       "2018-09-20  237.399994\n",
       "2018-09-21  235.339996"
      ]
     },
     "execution_count": 19,
     "metadata": {},
     "output_type": "execute_result"
    }
   ],
   "source": [
    "gs_price_data"
   ]
  },
  {
   "cell_type": "code",
   "execution_count": 21,
   "metadata": {},
   "outputs": [],
   "source": [
    "gs_price_data.index = pd.to_datetime(gs_price_data.index) # convert the index to date_time objects"
   ]
  },
  {
   "cell_type": "code",
   "execution_count": 22,
   "metadata": {},
   "outputs": [
    {
     "data": {
      "text/plain": [
       "DatetimeIndex(['2018-08-22', '2018-08-23', '2018-08-24', '2018-08-27',\n",
       "               '2018-08-28', '2018-08-29', '2018-08-30', '2018-08-31',\n",
       "               '2018-09-04', '2018-09-05', '2018-09-06', '2018-09-07',\n",
       "               '2018-09-10', '2018-09-11', '2018-09-12', '2018-09-13',\n",
       "               '2018-09-14', '2018-09-17', '2018-09-18', '2018-09-19',\n",
       "               '2018-09-20', '2018-09-21'],\n",
       "              dtype='datetime64[ns]', name='Date', freq=None)"
      ]
     },
     "execution_count": 22,
     "metadata": {},
     "output_type": "execute_result"
    }
   ],
   "source": [
    "gs_price_data.index"
   ]
  },
  {
   "cell_type": "markdown",
   "metadata": {},
   "source": [
    "<h3>Accessing data using a Timestamp index</h3>\n",
    "<li>Key values passed to the Series must be of type Timestamp\n",
    "<li>We need to convert str time into Timestamps\n",
    "<li>pd.to_datetime will do this for us (we could also use the datetime library)\n",
    "<li>index.get_loc gets the row number corresponding to the timestamp\n",
    "<li>and, finally .iloc[row_number] returns the data"
   ]
  },
  {
   "cell_type": "code",
   "execution_count": 25,
   "metadata": {},
   "outputs": [
    {
     "data": {
      "text/plain": [
       "Adj Close    235.559906\n",
       "Name: 2018-08-23 00:00:00, dtype: float64"
      ]
     },
     "execution_count": 25,
     "metadata": {},
     "output_type": "execute_result"
    }
   ],
   "source": [
    "dt = pd.to_datetime('2018-08-23')\n",
    "row = gs_price_data.index.get_loc(dt) # gets the row number corresponding to the timestamp\n",
    "# row\n",
    "gs_price_data.iloc[row]"
   ]
  },
  {
   "cell_type": "markdown",
   "metadata": {},
   "source": [
    "<h4>get_loc can find the 'nearest' or next ('backfill') or use the most recent ('pad')"
   ]
  },
  {
   "cell_type": "code",
   "execution_count": 26,
   "metadata": {},
   "outputs": [
    {
     "name": "stdout",
     "output_type": "stream",
     "text": [
      "7\n"
     ]
    },
    {
     "data": {
      "text/plain": [
       "Adj Close    237.809998\n",
       "Name: 2018-08-31 00:00:00, dtype: float64"
      ]
     },
     "execution_count": 26,
     "metadata": {},
     "output_type": "execute_result"
    }
   ],
   "source": [
    "dt = pd.to_datetime('2018-09-01')\n",
    "row = gs_price_data.index.get_loc(dt,method=\"pad\") #'nearest', 'pad', 'backfill'\n",
    "print(row)\n",
    "gs_price_data.iloc[row]"
   ]
  },
  {
   "cell_type": "markdown",
   "metadata": {},
   "source": [
    "<h4>Statistics on a series</h4>"
   ]
  },
  {
   "cell_type": "code",
   "execution_count": 21,
   "metadata": {},
   "outputs": [
    {
     "data": {
      "text/plain": [
       "Adj Close    234.864233\n",
       "dtype: float64"
      ]
     },
     "execution_count": 21,
     "metadata": {},
     "output_type": "execute_result"
    }
   ],
   "source": [
    "gs_price_data.mean()\n",
    "#gs_price_data.std()\n",
    "#gs_price_data.pct_change()"
   ]
  },
  {
   "cell_type": "markdown",
   "metadata": {},
   "source": [
    "<h1>pandas DataFrame</h1>\n",
    "<li>2-Dimensional structure\n",
    "<li>Columns can contain data of different types (like an Excel spreadsheet)\n",
    "<li>Can contain an index (or indices)\n",
    "<li>Columns (and indeces) can be named\n"
   ]
  },
  {
   "cell_type": "markdown",
   "metadata": {},
   "source": [
    "<h3>Constructing a dataframe</h3>"
   ]
  },
  {
   "cell_type": "code",
   "execution_count": 22,
   "metadata": {},
   "outputs": [
    {
     "data": {
      "text/html": [
       "<div>\n",
       "<style scoped>\n",
       "    .dataframe tbody tr th:only-of-type {\n",
       "        vertical-align: middle;\n",
       "    }\n",
       "\n",
       "    .dataframe tbody tr th {\n",
       "        vertical-align: top;\n",
       "    }\n",
       "\n",
       "    .dataframe thead th {\n",
       "        text-align: right;\n",
       "    }\n",
       "</style>\n",
       "<table border=\"1\" class=\"dataframe\">\n",
       "  <thead>\n",
       "    <tr style=\"text-align: right;\">\n",
       "      <th></th>\n",
       "      <th>0</th>\n",
       "      <th>1</th>\n",
       "      <th>2</th>\n",
       "    </tr>\n",
       "  </thead>\n",
       "  <tbody>\n",
       "    <tr>\n",
       "      <th>0</th>\n",
       "      <td>11</td>\n",
       "      <td>22</td>\n",
       "      <td>13</td>\n",
       "    </tr>\n",
       "    <tr>\n",
       "      <th>1</th>\n",
       "      <td>21</td>\n",
       "      <td>22</td>\n",
       "      <td>23</td>\n",
       "    </tr>\n",
       "  </tbody>\n",
       "</table>\n",
       "</div>"
      ],
      "text/plain": [
       "    0   1   2\n",
       "0  11  22  13\n",
       "1  21  22  23"
      ]
     },
     "execution_count": 22,
     "metadata": {},
     "output_type": "execute_result"
    }
   ],
   "source": [
    "df = pd.DataFrame([[11,22,13],[21,22,23]])\n",
    "df"
   ]
  },
  {
   "cell_type": "code",
   "execution_count": 24,
   "metadata": {},
   "outputs": [
    {
     "data": {
      "text/html": [
       "<div>\n",
       "<style scoped>\n",
       "    .dataframe tbody tr th:only-of-type {\n",
       "        vertical-align: middle;\n",
       "    }\n",
       "\n",
       "    .dataframe tbody tr th {\n",
       "        vertical-align: top;\n",
       "    }\n",
       "\n",
       "    .dataframe thead th {\n",
       "        text-align: right;\n",
       "    }\n",
       "</style>\n",
       "<table border=\"1\" class=\"dataframe\">\n",
       "  <thead>\n",
       "    <tr style=\"text-align: right;\">\n",
       "      <th></th>\n",
       "      <th>c1</th>\n",
       "      <th>c2</th>\n",
       "      <th>c3</th>\n",
       "    </tr>\n",
       "  </thead>\n",
       "  <tbody>\n",
       "    <tr>\n",
       "      <th>a</th>\n",
       "      <td>11</td>\n",
       "      <td>22</td>\n",
       "      <td>13</td>\n",
       "    </tr>\n",
       "    <tr>\n",
       "      <th>b</th>\n",
       "      <td>21</td>\n",
       "      <td>22</td>\n",
       "      <td>23</td>\n",
       "    </tr>\n",
       "  </tbody>\n",
       "</table>\n",
       "</div>"
      ],
      "text/plain": [
       "   c1  c2  c3\n",
       "a  11  22  13\n",
       "b  21  22  23"
      ]
     },
     "execution_count": 24,
     "metadata": {},
     "output_type": "execute_result"
    }
   ],
   "source": [
    "df = pd.DataFrame([[11,22,13],[21,22,23]])\n",
    "# how to define the columns name of a 2d data frame\n",
    "df.columns=['c1','c2','c3']\n",
    "df.index = ['a','b']\n",
    "df"
   ]
  },
  {
   "cell_type": "code",
   "execution_count": 26,
   "metadata": {},
   "outputs": [
    {
     "data": {
      "text/html": [
       "<div>\n",
       "<style scoped>\n",
       "    .dataframe tbody tr th:only-of-type {\n",
       "        vertical-align: middle;\n",
       "    }\n",
       "\n",
       "    .dataframe tbody tr th {\n",
       "        vertical-align: top;\n",
       "    }\n",
       "\n",
       "    .dataframe thead th {\n",
       "        text-align: right;\n",
       "    }\n",
       "</style>\n",
       "<table border=\"1\" class=\"dataframe\">\n",
       "  <thead>\n",
       "    <tr style=\"text-align: right;\">\n",
       "      <th></th>\n",
       "      <th>c1</th>\n",
       "      <th>c2</th>\n",
       "      <th>c3</th>\n",
       "    </tr>\n",
       "  </thead>\n",
       "  <tbody>\n",
       "    <tr>\n",
       "      <th>a</th>\n",
       "      <td>11</td>\n",
       "      <td>22</td>\n",
       "      <td>13</td>\n",
       "    </tr>\n",
       "    <tr>\n",
       "      <th>b</th>\n",
       "      <td>21</td>\n",
       "      <td>22</td>\n",
       "      <td>23</td>\n",
       "    </tr>\n",
       "  </tbody>\n",
       "</table>\n",
       "</div>"
      ],
      "text/plain": [
       "   c1  c2  c3\n",
       "a  11  22  13\n",
       "b  21  22  23"
      ]
     },
     "execution_count": 26,
     "metadata": {},
     "output_type": "execute_result"
    }
   ],
   "source": [
    "df = pd.DataFrame([[11,22,13],[21,22,23]],index=['a','b'],columns=['c1','c2','c3'])\n",
    "# a more concise way to do that\n",
    "df"
   ]
  },
  {
   "cell_type": "code",
   "execution_count": 27,
   "metadata": {},
   "outputs": [
    {
     "data": {
      "text/plain": [
       "datetime.date(2018, 9, 23)"
      ]
     },
     "execution_count": 27,
     "metadata": {},
     "output_type": "execute_result"
    }
   ],
   "source": [
    "from datetime import date\n",
    "date(2018,9,23)"
   ]
  },
  {
   "cell_type": "code",
   "execution_count": 28,
   "metadata": {},
   "outputs": [
    {
     "data": {
      "text/html": [
       "<div>\n",
       "<style scoped>\n",
       "    .dataframe tbody tr th:only-of-type {\n",
       "        vertical-align: middle;\n",
       "    }\n",
       "\n",
       "    .dataframe tbody tr th {\n",
       "        vertical-align: top;\n",
       "    }\n",
       "\n",
       "    .dataframe thead th {\n",
       "        text-align: right;\n",
       "    }\n",
       "</style>\n",
       "<table border=\"1\" class=\"dataframe\">\n",
       "  <thead>\n",
       "    <tr style=\"text-align: right;\">\n",
       "      <th></th>\n",
       "      <th>AAPL</th>\n",
       "      <th>GOOG</th>\n",
       "      <th>GS</th>\n",
       "    </tr>\n",
       "  </thead>\n",
       "  <tbody>\n",
       "    <tr>\n",
       "      <th>20180924</th>\n",
       "      <td>0.0</td>\n",
       "      <td>0.0</td>\n",
       "      <td>0.0</td>\n",
       "    </tr>\n",
       "    <tr>\n",
       "      <th>20180925</th>\n",
       "      <td>0.0</td>\n",
       "      <td>0.0</td>\n",
       "      <td>0.0</td>\n",
       "    </tr>\n",
       "  </tbody>\n",
       "</table>\n",
       "</div>"
      ],
      "text/plain": [
       "          AAPL  GOOG   GS\n",
       "20180924   0.0   0.0  0.0\n",
       "20180925   0.0   0.0  0.0"
      ]
     },
     "execution_count": 28,
     "metadata": {},
     "output_type": "execute_result"
    }
   ],
   "source": [
    "tickers = ['AAPL','GOOG','GS']\n",
    "dates = ['20180924','20180925']\n",
    "data = np.zeros((2,3))\n",
    "df = pd.DataFrame(data,index=dates,columns=tickers)\n",
    "df"
   ]
  },
  {
   "cell_type": "code",
   "execution_count": 29,
   "metadata": {},
   "outputs": [
    {
     "data": {
      "text/html": [
       "<div>\n",
       "<style scoped>\n",
       "    .dataframe tbody tr th:only-of-type {\n",
       "        vertical-align: middle;\n",
       "    }\n",
       "\n",
       "    .dataframe tbody tr th {\n",
       "        vertical-align: top;\n",
       "    }\n",
       "\n",
       "    .dataframe thead th {\n",
       "        text-align: right;\n",
       "    }\n",
       "</style>\n",
       "<table border=\"1\" class=\"dataframe\">\n",
       "  <thead>\n",
       "    <tr style=\"text-align: right;\">\n",
       "      <th></th>\n",
       "      <th>AAPL</th>\n",
       "      <th>GOOG</th>\n",
       "      <th>GS</th>\n",
       "    </tr>\n",
       "  </thead>\n",
       "  <tbody>\n",
       "    <tr>\n",
       "      <th>2018-10-02</th>\n",
       "      <td>0.0</td>\n",
       "      <td>0.0</td>\n",
       "      <td>0.0</td>\n",
       "    </tr>\n",
       "    <tr>\n",
       "      <th>2018-10-03</th>\n",
       "      <td>0.0</td>\n",
       "      <td>0.0</td>\n",
       "      <td>0.0</td>\n",
       "    </tr>\n",
       "  </tbody>\n",
       "</table>\n",
       "</div>"
      ],
      "text/plain": [
       "            AAPL  GOOG   GS\n",
       "2018-10-02   0.0   0.0  0.0\n",
       "2018-10-03   0.0   0.0  0.0"
      ]
     },
     "execution_count": 29,
     "metadata": {},
     "output_type": "execute_result"
    }
   ],
   "source": [
    "tickers = ['AAPL','GOOG','GS']\n",
    "from datetime import date\n",
    "dates = [date(2018,10,2),date(2018,10,3)]\n",
    "data = np.zeros((2,3))\n",
    "df = pd.DataFrame(data,index=dates,columns=tickers)\n",
    "df"
   ]
  },
  {
   "cell_type": "code",
   "execution_count": 44,
   "metadata": {},
   "outputs": [
    {
     "data": {
      "text/plain": [
       "Index(['AAPL', 'GOOG', 'GS'], dtype='object')"
      ]
     },
     "execution_count": 44,
     "metadata": {},
     "output_type": "execute_result"
    }
   ],
   "source": [
    "data = {'AAPL':[0.0,0.0],'GOOG':[0.0,0.0],'GS':[0.0,0.0]}\n",
    "data1 = pd.Series(data)\n",
    "data1.index\n",
    "\n",
    "df = pd.DataFrame(data)\n",
    "df.columns = [date(2018,10,2),date(2018,10,3), date(2019, 10,4)]\n",
    "df"
   ]
  },
  {
   "cell_type": "markdown",
   "metadata": {},
   "source": [
    "<h3>Using an existing column as an index</h3>\n",
    "<li>By default, pandas will return a copy with the index added\n",
    "<li>Use the inplace parameter to do modify the df itself"
   ]
  },
  {
   "cell_type": "code",
   "execution_count": 35,
   "metadata": {},
   "outputs": [
    {
     "name": "stdout",
     "output_type": "stream",
     "text": [
      "  row_label   A   B   C\n",
      "0        r1  00  01  02\n",
      "1        r2  10  11  12\n",
      "2        r3  20  21  22\n",
      "            A   B   C\n",
      "row_label            \n",
      "r1         00  01  02\n",
      "r2         10  11  12\n",
      "r3         20  21  22\n",
      "  row_label   A   B   C\n",
      "0        r1  00  01  02\n",
      "1        r2  10  11  12\n",
      "2        r3  20  21  22\n"
     ]
    }
   ],
   "source": [
    "df = pd.DataFrame([['r1','00','01','02'],['r2','10','11','12'],['r3','20','21','22']],columns=['row_label','A','B','C'])\n",
    "print(df)\n",
    "df.set_index('row_label',inplace=True)\n",
    "print(df)\n",
    "df = pd.DataFrame([['r1','00','01','02'],['r2','10','11','12'],['r3','20','21','22']],columns=['row_label','A','B','C'])\n",
    "df.set_index('row_label',inplace=False)\n",
    "print(df)"
   ]
  },
  {
   "cell_type": "markdown",
   "metadata": {},
   "source": [
    "<h4>Pandas dataframes work like dictionaries</h4>\n",
    "<li>Column names can be used to access a column as a series from a df"
   ]
  },
  {
   "cell_type": "code",
   "execution_count": 68,
   "metadata": {},
   "outputs": [],
   "source": [
    "data = {'AAPL':[217.2,218.7],'GOOG':[1166.2,1161.5],'GS':[235.3,231.1]}\n",
    "df = pd.DataFrame(data)\n",
    "df.index = [date(2018,9,21),date(2018,9,24)]\n"
   ]
  },
  {
   "cell_type": "code",
   "execution_count": 69,
   "metadata": {},
   "outputs": [
    {
     "data": {
      "text/plain": [
       "2018-09-21    1166.2\n",
       "2018-09-24    1161.5\n",
       "Name: GOOG, dtype: float64"
      ]
     },
     "execution_count": 69,
     "metadata": {},
     "output_type": "execute_result"
    }
   ],
   "source": [
    "df['GOOG']"
   ]
  },
  {
   "cell_type": "code",
   "execution_count": 70,
   "metadata": {},
   "outputs": [
    {
     "data": {
      "text/plain": [
       "pandas.core.series.Series"
      ]
     },
     "execution_count": 70,
     "metadata": {},
     "output_type": "execute_result"
    }
   ],
   "source": [
    "type(df['AAPL'])"
   ]
  },
  {
   "cell_type": "markdown",
   "metadata": {},
   "source": [
    "<h4>Single columns (with no spaces in their names) can also be accessed using the attribute syntax"
   ]
  },
  {
   "cell_type": "code",
   "execution_count": 71,
   "metadata": {},
   "outputs": [
    {
     "data": {
      "text/plain": [
       "2018-09-21    217.2\n",
       "2018-09-24    218.7\n",
       "Name: AAPL, dtype: float64"
      ]
     },
     "execution_count": 71,
     "metadata": {},
     "output_type": "execute_result"
    }
   ],
   "source": [
    "df.AAPL"
   ]
  },
  {
   "cell_type": "markdown",
   "metadata": {},
   "source": [
    "<h4>Chained indexing leads to a specific cell in the table</h4>"
   ]
  },
  {
   "cell_type": "code",
   "execution_count": 72,
   "metadata": {},
   "outputs": [
    {
     "data": {
      "text/plain": [
       "218.7"
      ]
     },
     "execution_count": 72,
     "metadata": {},
     "output_type": "execute_result"
    }
   ],
   "source": [
    "df['AAPL'][date(year=2018,month=9,day=24)]"
   ]
  },
  {
   "cell_type": "markdown",
   "metadata": {},
   "source": [
    "<h3>Selecting rows</h3>\n",
    "<li>rows can be selected using the index df.loc[index_value]\n",
    "<li>or using row number df.iloc[row_number]\n",
    "<li>Note that both methods use dictionary like indexing!"
   ]
  },
  {
   "cell_type": "code",
   "execution_count": 73,
   "metadata": {},
   "outputs": [
    {
     "data": {
      "text/plain": [
       "AAPL     217.2\n",
       "GOOG    1166.2\n",
       "GS       235.3\n",
       "Name: 2018-09-21, dtype: float64"
      ]
     },
     "execution_count": 73,
     "metadata": {},
     "output_type": "execute_result"
    }
   ],
   "source": [
    "a = df.loc[date(2018,9,21)]\n",
    "# this is different from get_loc, which returns the row number\n",
    "# this one takes the specific index value\n",
    "a"
   ]
  },
  {
   "cell_type": "code",
   "execution_count": 74,
   "metadata": {},
   "outputs": [
    {
     "data": {
      "text/plain": [
       "AAPL     217.2\n",
       "GOOG    1166.2\n",
       "GS       235.3\n",
       "Name: 2018-09-21, dtype: float64"
      ]
     },
     "execution_count": 74,
     "metadata": {},
     "output_type": "execute_result"
    }
   ],
   "source": [
    "df.iloc[0] # the same use, put in ith index location"
   ]
  },
  {
   "cell_type": "markdown",
   "metadata": {},
   "source": [
    "<h4>Accessing a specific value</h4>"
   ]
  },
  {
   "cell_type": "code",
   "execution_count": 75,
   "metadata": {},
   "outputs": [
    {
     "data": {
      "text/plain": [
       "217.2"
      ]
     },
     "execution_count": 75,
     "metadata": {},
     "output_type": "execute_result"
    }
   ],
   "source": [
    "df['AAPL'].loc[date(2018,9,21)]\n",
    "#df.loc[date(2018,9,21)]['AAPL'], does the same thing"
   ]
  },
  {
   "cell_type": "markdown",
   "metadata": {},
   "source": [
    "<h4>Add a new column</h4>"
   ]
  },
  {
   "cell_type": "code",
   "execution_count": 76,
   "metadata": {},
   "outputs": [
    {
     "data": {
      "text/html": [
       "<div>\n",
       "<style scoped>\n",
       "    .dataframe tbody tr th:only-of-type {\n",
       "        vertical-align: middle;\n",
       "    }\n",
       "\n",
       "    .dataframe tbody tr th {\n",
       "        vertical-align: top;\n",
       "    }\n",
       "\n",
       "    .dataframe thead th {\n",
       "        text-align: right;\n",
       "    }\n",
       "</style>\n",
       "<table border=\"1\" class=\"dataframe\">\n",
       "  <thead>\n",
       "    <tr style=\"text-align: right;\">\n",
       "      <th></th>\n",
       "      <th>AAPL</th>\n",
       "      <th>GOOG</th>\n",
       "      <th>GS</th>\n",
       "      <th>IONS</th>\n",
       "    </tr>\n",
       "  </thead>\n",
       "  <tbody>\n",
       "    <tr>\n",
       "      <th>2018-09-21</th>\n",
       "      <td>217.2</td>\n",
       "      <td>1166.2</td>\n",
       "      <td>235.3</td>\n",
       "      <td>NaN</td>\n",
       "    </tr>\n",
       "    <tr>\n",
       "      <th>2018-09-24</th>\n",
       "      <td>218.7</td>\n",
       "      <td>1161.5</td>\n",
       "      <td>231.1</td>\n",
       "      <td>NaN</td>\n",
       "    </tr>\n",
       "  </tbody>\n",
       "</table>\n",
       "</div>"
      ],
      "text/plain": [
       "             AAPL    GOOG     GS  IONS\n",
       "2018-09-21  217.2  1166.2  235.3   NaN\n",
       "2018-09-24  218.7  1161.5  231.1   NaN"
      ]
     },
     "execution_count": 76,
     "metadata": {},
     "output_type": "execute_result"
    }
   ],
   "source": [
    "df['IONS'] = np.NaN\n",
    "df"
   ]
  },
  {
   "cell_type": "markdown",
   "metadata": {},
   "source": [
    "<h4>Selecting multiple columns</h4>\n",
    "<li>Use a <b>list</b> containing the names of the desired rows"
   ]
  },
  {
   "cell_type": "code",
   "execution_count": 77,
   "metadata": {},
   "outputs": [
    {
     "data": {
      "text/html": [
       "<div>\n",
       "<style scoped>\n",
       "    .dataframe tbody tr th:only-of-type {\n",
       "        vertical-align: middle;\n",
       "    }\n",
       "\n",
       "    .dataframe tbody tr th {\n",
       "        vertical-align: top;\n",
       "    }\n",
       "\n",
       "    .dataframe thead th {\n",
       "        text-align: right;\n",
       "    }\n",
       "</style>\n",
       "<table border=\"1\" class=\"dataframe\">\n",
       "  <thead>\n",
       "    <tr style=\"text-align: right;\">\n",
       "      <th></th>\n",
       "      <th>AAPL</th>\n",
       "      <th>GOOG</th>\n",
       "    </tr>\n",
       "  </thead>\n",
       "  <tbody>\n",
       "    <tr>\n",
       "      <th>2018-09-21</th>\n",
       "      <td>217.2</td>\n",
       "      <td>1166.2</td>\n",
       "    </tr>\n",
       "    <tr>\n",
       "      <th>2018-09-24</th>\n",
       "      <td>218.7</td>\n",
       "      <td>1161.5</td>\n",
       "    </tr>\n",
       "  </tbody>\n",
       "</table>\n",
       "</div>"
      ],
      "text/plain": [
       "             AAPL    GOOG\n",
       "2018-09-21  217.2  1166.2\n",
       "2018-09-24  218.7  1161.5"
      ]
     },
     "execution_count": 77,
     "metadata": {},
     "output_type": "execute_result"
    }
   ],
   "source": [
    "df[['AAPL','GOOG']] # remember use a kist bracket to include multiple index"
   ]
  },
  {
   "cell_type": "code",
   "execution_count": 58,
   "metadata": {},
   "outputs": [
    {
     "data": {
      "text/html": [
       "<div>\n",
       "<style scoped>\n",
       "    .dataframe tbody tr th:only-of-type {\n",
       "        vertical-align: middle;\n",
       "    }\n",
       "\n",
       "    .dataframe tbody tr th {\n",
       "        vertical-align: top;\n",
       "    }\n",
       "\n",
       "    .dataframe thead th {\n",
       "        text-align: right;\n",
       "    }\n",
       "</style>\n",
       "<table border=\"1\" class=\"dataframe\">\n",
       "  <thead>\n",
       "    <tr style=\"text-align: right;\">\n",
       "      <th></th>\n",
       "      <th>c1</th>\n",
       "      <th>c2</th>\n",
       "      <th>c3</th>\n",
       "    </tr>\n",
       "  </thead>\n",
       "  <tbody>\n",
       "    <tr>\n",
       "      <th>a</th>\n",
       "      <td>11</td>\n",
       "      <td>22</td>\n",
       "      <td>13</td>\n",
       "    </tr>\n",
       "    <tr>\n",
       "      <th>b</th>\n",
       "      <td>21</td>\n",
       "      <td>22</td>\n",
       "      <td>23</td>\n",
       "    </tr>\n",
       "  </tbody>\n",
       "</table>\n",
       "</div>"
      ],
      "text/plain": [
       "   c1  c2  c3\n",
       "a  11  22  13\n",
       "b  21  22  23"
      ]
     },
     "execution_count": 58,
     "metadata": {},
     "output_type": "execute_result"
    }
   ],
   "source": [
    "df = pd.DataFrame([[11,22,13],[21,22,23]])\n",
    "df.columns=['c1','c2','c3']\n",
    "df.index = ['a','b']\n",
    "df"
   ]
  },
  {
   "cell_type": "markdown",
   "metadata": {},
   "source": [
    "<h4>Creating a new column using a pattern</h4>"
   ]
  },
  {
   "cell_type": "code",
   "execution_count": 59,
   "metadata": {},
   "outputs": [
    {
     "data": {
      "text/html": [
       "<div>\n",
       "<style scoped>\n",
       "    .dataframe tbody tr th:only-of-type {\n",
       "        vertical-align: middle;\n",
       "    }\n",
       "\n",
       "    .dataframe tbody tr th {\n",
       "        vertical-align: top;\n",
       "    }\n",
       "\n",
       "    .dataframe thead th {\n",
       "        text-align: right;\n",
       "    }\n",
       "</style>\n",
       "<table border=\"1\" class=\"dataframe\">\n",
       "  <thead>\n",
       "    <tr style=\"text-align: right;\">\n",
       "      <th></th>\n",
       "      <th>c1</th>\n",
       "      <th>c2</th>\n",
       "      <th>c3</th>\n",
       "      <th>Mult3</th>\n",
       "    </tr>\n",
       "  </thead>\n",
       "  <tbody>\n",
       "    <tr>\n",
       "      <th>a</th>\n",
       "      <td>11</td>\n",
       "      <td>22</td>\n",
       "      <td>13</td>\n",
       "      <td>0</td>\n",
       "    </tr>\n",
       "    <tr>\n",
       "      <th>b</th>\n",
       "      <td>21</td>\n",
       "      <td>22</td>\n",
       "      <td>23</td>\n",
       "      <td>1</td>\n",
       "    </tr>\n",
       "  </tbody>\n",
       "</table>\n",
       "</div>"
      ],
      "text/plain": [
       "   c1  c2  c3  Mult3\n",
       "a  11  22  13      0\n",
       "b  21  22  23      1"
      ]
     },
     "execution_count": 59,
     "metadata": {},
     "output_type": "execute_result"
    }
   ],
   "source": [
    "df['Mult3'] =np.where(df['c1']%3==0,1,0) \n",
    "df"
   ]
  },
  {
   "cell_type": "markdown",
   "metadata": {},
   "source": [
    "<h3>Slicing</h3>"
   ]
  },
  {
   "cell_type": "code",
   "execution_count": 60,
   "metadata": {},
   "outputs": [
    {
     "data": {
      "text/html": [
       "<div>\n",
       "<style scoped>\n",
       "    .dataframe tbody tr th:only-of-type {\n",
       "        vertical-align: middle;\n",
       "    }\n",
       "\n",
       "    .dataframe tbody tr th {\n",
       "        vertical-align: top;\n",
       "    }\n",
       "\n",
       "    .dataframe thead th {\n",
       "        text-align: right;\n",
       "    }\n",
       "</style>\n",
       "<table border=\"1\" class=\"dataframe\">\n",
       "  <thead>\n",
       "    <tr style=\"text-align: right;\">\n",
       "      <th></th>\n",
       "      <th>c1</th>\n",
       "      <th>c2</th>\n",
       "      <th>c3</th>\n",
       "      <th>c4</th>\n",
       "      <th>c5</th>\n",
       "    </tr>\n",
       "  </thead>\n",
       "  <tbody>\n",
       "    <tr>\n",
       "      <th>r1</th>\n",
       "      <td>11</td>\n",
       "      <td>12</td>\n",
       "      <td>13</td>\n",
       "      <td>14</td>\n",
       "      <td>15</td>\n",
       "    </tr>\n",
       "    <tr>\n",
       "      <th>r2</th>\n",
       "      <td>21</td>\n",
       "      <td>22</td>\n",
       "      <td>23</td>\n",
       "      <td>24</td>\n",
       "      <td>25</td>\n",
       "    </tr>\n",
       "    <tr>\n",
       "      <th>r3</th>\n",
       "      <td>31</td>\n",
       "      <td>32</td>\n",
       "      <td>33</td>\n",
       "      <td>34</td>\n",
       "      <td>35</td>\n",
       "    </tr>\n",
       "    <tr>\n",
       "      <th>r4</th>\n",
       "      <td>41</td>\n",
       "      <td>42</td>\n",
       "      <td>43</td>\n",
       "      <td>44</td>\n",
       "      <td>45</td>\n",
       "    </tr>\n",
       "    <tr>\n",
       "      <th>r5</th>\n",
       "      <td>51</td>\n",
       "      <td>52</td>\n",
       "      <td>53</td>\n",
       "      <td>54</td>\n",
       "      <td>55</td>\n",
       "    </tr>\n",
       "  </tbody>\n",
       "</table>\n",
       "</div>"
      ],
      "text/plain": [
       "    c1  c2  c3  c4  c5\n",
       "r1  11  12  13  14  15\n",
       "r2  21  22  23  24  25\n",
       "r3  31  32  33  34  35\n",
       "r4  41  42  43  44  45\n",
       "r5  51  52  53  54  55"
      ]
     },
     "execution_count": 60,
     "metadata": {},
     "output_type": "execute_result"
    }
   ],
   "source": [
    "df = pd.DataFrame([[11,12,13,14,15],\n",
    "                   [21,22,23,24,25],\n",
    "                   [31,32,33,34,35],\n",
    "                   [41,42,43,44,45],\n",
    "                   [51,52,53,54,55]])\n",
    "df.index =['r1','r2','r3','r4','r5']\n",
    "df.columns = ['c1','c2','c3','c4','c5']\n",
    "df"
   ]
  },
  {
   "cell_type": "code",
   "execution_count": null,
   "metadata": {},
   "outputs": [],
   "source": [
    "df.loc['r2':'r4']"
   ]
  },
  {
   "cell_type": "code",
   "execution_count": null,
   "metadata": {},
   "outputs": [],
   "source": [
    "df.loc[:,'c2':'c4']"
   ]
  },
  {
   "cell_type": "code",
   "execution_count": null,
   "metadata": {},
   "outputs": [],
   "source": [
    "df.loc['r2':'r4','c2':'c4']"
   ]
  },
  {
   "cell_type": "code",
   "execution_count": null,
   "metadata": {},
   "outputs": [],
   "source": [
    "df.iloc[1:4,1:4]"
   ]
  },
  {
   "cell_type": "markdown",
   "metadata": {},
   "source": [
    "<h3>Working with views and copies</h3>"
   ]
  },
  {
   "cell_type": "code",
   "execution_count": null,
   "metadata": {},
   "outputs": [],
   "source": [
    "df = pd.DataFrame([[11,12,13,14,15],\n",
    "                   [21,22,23,24,25],\n",
    "                   [31,32,33,34,35],\n",
    "                   [41,42,43,44,45],\n",
    "                   [51,52,53,54,55]])\n",
    "df.index =['r1','r2','r3','r4','r5']\n",
    "df.columns = ['c1','c2','c3','c4','c5']\n",
    "df_new = df"
   ]
  },
  {
   "cell_type": "markdown",
   "metadata": {},
   "source": [
    "<h4>df_new points to the same dataframe as df</h4>"
   ]
  },
  {
   "cell_type": "code",
   "execution_count": null,
   "metadata": {},
   "outputs": [],
   "source": [
    "print(id(df),id(df_new))"
   ]
  },
  {
   "cell_type": "markdown",
   "metadata": {},
   "source": [
    "<h4>Changes in df will result in a change in df_new</h4>"
   ]
  },
  {
   "cell_type": "code",
   "execution_count": null,
   "metadata": {},
   "outputs": [],
   "source": [
    "df.loc['r3','c3'] = 99\n",
    "df_new"
   ]
  },
  {
   "cell_type": "markdown",
   "metadata": {},
   "source": [
    "<h4>To work with a copy, use .copy()</h4>"
   ]
  },
  {
   "cell_type": "code",
   "execution_count": null,
   "metadata": {},
   "outputs": [],
   "source": [
    "df = pd.DataFrame([[11,12,13,14,15],\n",
    "                   [21,22,23,24,25],\n",
    "                   [31,32,33,34,35],\n",
    "                   [41,42,43,44,45],\n",
    "                   [51,52,53,54,55]])\n",
    "df.index =['r1','r2','r3','r4','r5']\n",
    "df.columns = ['c1','c2','c3','c4','c5']\n",
    "df_new = df.copy()\n",
    "df.loc['r3','c3'] = 99\n",
    "df_new"
   ]
  },
  {
   "cell_type": "markdown",
   "metadata": {},
   "source": [
    "<h1>Grouping functionality in Pandas</h1>\n",
    "<li>Pandas allows grouping by value as well as grouping by functions"
   ]
  },
  {
   "cell_type": "code",
   "execution_count": 78,
   "metadata": {},
   "outputs": [
    {
     "data": {
      "text/html": [
       "<div>\n",
       "<style scoped>\n",
       "    .dataframe tbody tr th:only-of-type {\n",
       "        vertical-align: middle;\n",
       "    }\n",
       "\n",
       "    .dataframe tbody tr th {\n",
       "        vertical-align: top;\n",
       "    }\n",
       "\n",
       "    .dataframe thead th {\n",
       "        text-align: right;\n",
       "    }\n",
       "</style>\n",
       "<table border=\"1\" class=\"dataframe\">\n",
       "  <thead>\n",
       "    <tr style=\"text-align: right;\">\n",
       "      <th></th>\n",
       "      <th>A</th>\n",
       "      <th>B</th>\n",
       "      <th>C</th>\n",
       "      <th>D</th>\n",
       "    </tr>\n",
       "  </thead>\n",
       "  <tbody>\n",
       "    <tr>\n",
       "      <th>0</th>\n",
       "      <td>foo</td>\n",
       "      <td>one</td>\n",
       "      <td>one</td>\n",
       "      <td>one</td>\n",
       "    </tr>\n",
       "    <tr>\n",
       "      <th>1</th>\n",
       "      <td>bar</td>\n",
       "      <td>one</td>\n",
       "      <td>one</td>\n",
       "      <td>one</td>\n",
       "    </tr>\n",
       "    <tr>\n",
       "      <th>2</th>\n",
       "      <td>foo</td>\n",
       "      <td>two</td>\n",
       "      <td>two</td>\n",
       "      <td>two</td>\n",
       "    </tr>\n",
       "    <tr>\n",
       "      <th>3</th>\n",
       "      <td>bar</td>\n",
       "      <td>three</td>\n",
       "      <td>three</td>\n",
       "      <td>three</td>\n",
       "    </tr>\n",
       "    <tr>\n",
       "      <th>4</th>\n",
       "      <td>foo</td>\n",
       "      <td>two</td>\n",
       "      <td>two</td>\n",
       "      <td>two</td>\n",
       "    </tr>\n",
       "    <tr>\n",
       "      <th>5</th>\n",
       "      <td>bar</td>\n",
       "      <td>two</td>\n",
       "      <td>two</td>\n",
       "      <td>two</td>\n",
       "    </tr>\n",
       "    <tr>\n",
       "      <th>6</th>\n",
       "      <td>foo</td>\n",
       "      <td>one</td>\n",
       "      <td>one</td>\n",
       "      <td>one</td>\n",
       "    </tr>\n",
       "    <tr>\n",
       "      <th>7</th>\n",
       "      <td>foo</td>\n",
       "      <td>three</td>\n",
       "      <td>three</td>\n",
       "      <td>three</td>\n",
       "    </tr>\n",
       "  </tbody>\n",
       "</table>\n",
       "</div>"
      ],
      "text/plain": [
       "     A      B      C      D\n",
       "0  foo    one    one    one\n",
       "1  bar    one    one    one\n",
       "2  foo    two    two    two\n",
       "3  bar  three  three  three\n",
       "4  foo    two    two    two\n",
       "5  bar    two    two    two\n",
       "6  foo    one    one    one\n",
       "7  foo  three  three  three"
      ]
     },
     "execution_count": 78,
     "metadata": {},
     "output_type": "execute_result"
    }
   ],
   "source": [
    "import pandas as pd\n",
    "import numpy as np\n",
    "df = pd.DataFrame({'A' : ['foo', 'bar', 'foo', 'bar',\n",
    "                          'foo', 'bar', 'foo', 'foo'],\n",
    "                   'B' : ['one', 'one', 'two', 'three',\n",
    "                          'two', 'two', 'one', 'three'],\n",
    "                   'C' : ['one', 'one', 'two', 'three',\n",
    "                          'two', 'two', 'one', 'three'],\n",
    "                   'D' : ['one', 'one', 'two', 'three',\n",
    "                          'two', 'two', 'one', 'three']})\n",
    "df"
   ]
  },
  {
   "cell_type": "markdown",
   "metadata": {},
   "source": [
    "<h3>Group by column values</h3>"
   ]
  },
  {
   "cell_type": "code",
   "execution_count": 79,
   "metadata": {},
   "outputs": [
    {
     "data": {
      "text/plain": [
       "<pandas.core.groupby.generic.DataFrameGroupBy object at 0x00000165C6D48FD0>"
      ]
     },
     "execution_count": 79,
     "metadata": {},
     "output_type": "execute_result"
    }
   ],
   "source": [
    "df.groupby('B')"
   ]
  },
  {
   "cell_type": "code",
   "execution_count": 80,
   "metadata": {},
   "outputs": [
    {
     "data": {
      "text/plain": [
       "B\n",
       "one      3\n",
       "three    2\n",
       "two      3\n",
       "dtype: int64"
      ]
     },
     "execution_count": 80,
     "metadata": {},
     "output_type": "execute_result"
    }
   ],
   "source": [
    "df.groupby('B').size()\n",
    "\n",
    "# also can ask mean value, sum , medium"
   ]
  },
  {
   "cell_type": "markdown",
   "metadata": {},
   "source": [
    "<h3>Group by multiple columns</h3>"
   ]
  },
  {
   "cell_type": "code",
   "execution_count": 81,
   "metadata": {},
   "outputs": [
    {
     "data": {
      "text/plain": [
       "A    C    \n",
       "bar  one      1\n",
       "     three    1\n",
       "     two      1\n",
       "foo  one      2\n",
       "     three    1\n",
       "     two      2\n",
       "dtype: int64"
      ]
     },
     "execution_count": 81,
     "metadata": {},
     "output_type": "execute_result"
    }
   ],
   "source": [
    "df.groupby(['A','C']).size()"
   ]
  },
  {
   "cell_type": "markdown",
   "metadata": {},
   "source": [
    "<h3>Grouping by function</h3>"
   ]
  },
  {
   "cell_type": "code",
   "execution_count": 1,
   "metadata": {},
   "outputs": [
    {
     "data": {
      "text/html": [
       "<div>\n",
       "<style scoped>\n",
       "    .dataframe tbody tr th:only-of-type {\n",
       "        vertical-align: middle;\n",
       "    }\n",
       "\n",
       "    .dataframe tbody tr th {\n",
       "        vertical-align: top;\n",
       "    }\n",
       "\n",
       "    .dataframe thead th {\n",
       "        text-align: right;\n",
       "    }\n",
       "</style>\n",
       "<table border=\"1\" class=\"dataframe\">\n",
       "  <thead>\n",
       "    <tr style=\"text-align: right;\">\n",
       "      <th></th>\n",
       "      <th>a</th>\n",
       "      <th>b</th>\n",
       "      <th>c</th>\n",
       "      <th>d</th>\n",
       "      <th>e</th>\n",
       "    </tr>\n",
       "  </thead>\n",
       "  <tbody>\n",
       "    <tr>\n",
       "      <th>Joe</th>\n",
       "      <td>3.103138</td>\n",
       "      <td>-0.389944</td>\n",
       "      <td>1.343912</td>\n",
       "      <td>0.379919</td>\n",
       "      <td>0.612588</td>\n",
       "    </tr>\n",
       "    <tr>\n",
       "      <th>Moe</th>\n",
       "      <td>1.554476</td>\n",
       "      <td>1.568578</td>\n",
       "      <td>1.419120</td>\n",
       "      <td>-1.758310</td>\n",
       "      <td>0.005871</td>\n",
       "    </tr>\n",
       "    <tr>\n",
       "      <th>Jill</th>\n",
       "      <td>0.311374</td>\n",
       "      <td>0.933599</td>\n",
       "      <td>2.670686</td>\n",
       "      <td>1.442977</td>\n",
       "      <td>1.049764</td>\n",
       "    </tr>\n",
       "    <tr>\n",
       "      <th>Qing</th>\n",
       "      <td>0.311595</td>\n",
       "      <td>-1.701429</td>\n",
       "      <td>-0.284444</td>\n",
       "      <td>0.435894</td>\n",
       "      <td>-0.178733</td>\n",
       "    </tr>\n",
       "    <tr>\n",
       "      <th>Ariana</th>\n",
       "      <td>1.582841</td>\n",
       "      <td>-1.608850</td>\n",
       "      <td>0.066799</td>\n",
       "      <td>-0.007556</td>\n",
       "      <td>0.589343</td>\n",
       "    </tr>\n",
       "  </tbody>\n",
       "</table>\n",
       "</div>"
      ],
      "text/plain": [
       "               a         b         c         d         e\n",
       "Joe     3.103138 -0.389944  1.343912  0.379919  0.612588\n",
       "Moe     1.554476  1.568578  1.419120 -1.758310  0.005871\n",
       "Jill    0.311374  0.933599  2.670686  1.442977  1.049764\n",
       "Qing    0.311595 -1.701429 -0.284444  0.435894 -0.178733\n",
       "Ariana  1.582841 -1.608850  0.066799 -0.007556  0.589343"
      ]
     },
     "execution_count": 1,
     "metadata": {},
     "output_type": "execute_result"
    }
   ],
   "source": [
    "import pandas as pd\n",
    "import numpy as np\n",
    "people = pd.DataFrame(np.random.randn(5, 5), columns=['a', 'b', 'c', 'd', 'e'], index=['Joe', 'Moe', 'Jill', 'Qing', 'Ariana'])\n",
    "people"
   ]
  },
  {
   "cell_type": "markdown",
   "metadata": {},
   "source": [
    "<li>We want to choose a column and group elements in the column into two categories\n",
    "<li>A cell value less than 0, will belong to the group \"Negative\"\n",
    "<li>A cell with value greater or equal to 0, will belong to the group \"Positive\""
   ]
  },
  {
   "cell_type": "markdown",
   "metadata": {},
   "source": [
    "<li>We need to write a function that takes a dataframe, a column, and a row index as arguments\n",
    "<li>The three arguments together will point to a single value\n",
    "<li>And we can test the value to see which group it belongs to\n",
    "<li>And return the group label"
   ]
  },
  {
   "cell_type": "code",
   "execution_count": 2,
   "metadata": {},
   "outputs": [],
   "source": [
    "def GroupColFunc(df, ind, col):\n",
    "    if df[col].loc[ind] < 0:\n",
    "        return 'Negative'\n",
    "    else:\n",
    "        return 'Positive'\n",
    "\n"
   ]
  },
  {
   "cell_type": "markdown",
   "metadata": {},
   "source": [
    "<li>Finally, we'll pass the function to groupby\n",
    "<li>Just like groupby used the values foo, bar etc. to group the data,\n",
    "<li>It will use the values returned by the function to group the data\n"
   ]
  },
  {
   "cell_type": "code",
   "execution_count": 4,
   "metadata": {},
   "outputs": [
    {
     "name": "stdout",
     "output_type": "stream",
     "text": [
      "Negative    3\n",
      "Positive    2\n",
      "dtype: int64\n"
     ]
    },
    {
     "data": {
      "text/html": [
       "<div>\n",
       "<style scoped>\n",
       "    .dataframe tbody tr th:only-of-type {\n",
       "        vertical-align: middle;\n",
       "    }\n",
       "\n",
       "    .dataframe tbody tr th {\n",
       "        vertical-align: top;\n",
       "    }\n",
       "\n",
       "    .dataframe thead th {\n",
       "        text-align: right;\n",
       "    }\n",
       "</style>\n",
       "<table border=\"1\" class=\"dataframe\">\n",
       "  <thead>\n",
       "    <tr style=\"text-align: right;\">\n",
       "      <th></th>\n",
       "      <th>a</th>\n",
       "      <th>b</th>\n",
       "      <th>c</th>\n",
       "      <th>d</th>\n",
       "      <th>e</th>\n",
       "    </tr>\n",
       "  </thead>\n",
       "  <tbody>\n",
       "    <tr>\n",
       "      <th>Negative</th>\n",
       "      <td>3</td>\n",
       "      <td>3</td>\n",
       "      <td>3</td>\n",
       "      <td>3</td>\n",
       "      <td>3</td>\n",
       "    </tr>\n",
       "    <tr>\n",
       "      <th>Positive</th>\n",
       "      <td>2</td>\n",
       "      <td>2</td>\n",
       "      <td>2</td>\n",
       "      <td>2</td>\n",
       "      <td>2</td>\n",
       "    </tr>\n",
       "  </tbody>\n",
       "</table>\n",
       "</div>"
      ],
      "text/plain": [
       "          a  b  c  d  e\n",
       "Negative  3  3  3  3  3\n",
       "Positive  2  2  2  2  2"
      ]
     },
     "execution_count": 4,
     "metadata": {},
     "output_type": "execute_result"
    }
   ],
   "source": [
    "grouped = people.groupby(lambda x: GroupColFunc(people, x, 'b'))\n",
    "# x represents each value of the index, iterate through it\n",
    "grouped\n",
    "print(grouped.size())\n",
    "grouped.count()"
   ]
  },
  {
   "cell_type": "markdown",
   "metadata": {},
   "source": [
    "<h3>Group statistics</h3>"
   ]
  },
  {
   "cell_type": "code",
   "execution_count": 185,
   "metadata": {},
   "outputs": [
    {
     "data": {
      "text/html": [
       "<div>\n",
       "<style scoped>\n",
       "    .dataframe tbody tr th:only-of-type {\n",
       "        vertical-align: middle;\n",
       "    }\n",
       "\n",
       "    .dataframe tbody tr th {\n",
       "        vertical-align: top;\n",
       "    }\n",
       "\n",
       "    .dataframe thead th {\n",
       "        text-align: right;\n",
       "    }\n",
       "</style>\n",
       "<table border=\"1\" class=\"dataframe\">\n",
       "  <thead>\n",
       "    <tr style=\"text-align: right;\">\n",
       "      <th></th>\n",
       "      <th>a</th>\n",
       "      <th>b</th>\n",
       "      <th>c</th>\n",
       "      <th>d</th>\n",
       "      <th>e</th>\n",
       "    </tr>\n",
       "  </thead>\n",
       "  <tbody>\n",
       "    <tr>\n",
       "      <th>Negative</th>\n",
       "      <td>0.155095</td>\n",
       "      <td>-0.140596</td>\n",
       "      <td>-1.438279</td>\n",
       "      <td>1.124680</td>\n",
       "      <td>0.866484</td>\n",
       "    </tr>\n",
       "    <tr>\n",
       "      <th>Positive</th>\n",
       "      <td>-0.247258</td>\n",
       "      <td>0.622012</td>\n",
       "      <td>0.540031</td>\n",
       "      <td>1.195086</td>\n",
       "      <td>0.299022</td>\n",
       "    </tr>\n",
       "  </tbody>\n",
       "</table>\n",
       "</div>"
      ],
      "text/plain": [
       "                 a         b         c         d         e\n",
       "Negative  0.155095 -0.140596 -1.438279  1.124680  0.866484\n",
       "Positive -0.247258  0.622012  0.540031  1.195086  0.299022"
      ]
     },
     "execution_count": 185,
     "metadata": {},
     "output_type": "execute_result"
    }
   ],
   "source": [
    "grouped.mean()\n",
    "#grouped.std()\n",
    "#grouped.count()\n",
    "#grouped.cumcount()\n",
    "\n",
    "#%matplotlib inline\n",
    "#grouped.mean().plot(kind='bar')"
   ]
  },
  {
   "cell_type": "markdown",
   "metadata": {},
   "source": [
    "<h3>Digression: Lambda functions</h3>\n",
    "<li>Anonymous or \"throw-away\" functions\n",
    "<li>Useful for dataframe operations\n",
    "<li>Useful for defining functions for simple operations"
   ]
  },
  {
   "cell_type": "code",
   "execution_count": 1,
   "metadata": {
    "scrolled": true
   },
   "outputs": [
    {
     "data": {
      "text/plain": [
       "5"
      ]
     },
     "execution_count": 1,
     "metadata": {},
     "output_type": "execute_result"
    }
   ],
   "source": [
    "foo = lambda x,y: x+y\n",
    "foo(2,3)"
   ]
  },
  {
   "cell_type": "code",
   "execution_count": null,
   "metadata": {},
   "outputs": [],
   "source": []
  },
  {
   "cell_type": "markdown",
   "metadata": {},
   "source": [
    "<h4>Example: We can change the sort parameter using a function</h4>"
   ]
  },
  {
   "cell_type": "code",
   "execution_count": 4,
   "metadata": {},
   "outputs": [
    {
     "data": {
      "text/plain": [
       "[(4, 5), (3, 3), (1, 2), (9, 1)]"
      ]
     },
     "execution_count": 4,
     "metadata": {},
     "output_type": "execute_result"
    }
   ],
   "source": [
    "x=[(1,2),(4,5),(3,3),(9,1)]\n",
    "def sort_key(x):\n",
    "    return x[1]\n",
    "sorted(x,key=lambda x: x[1], reverse = True)"
   ]
  },
  {
   "cell_type": "markdown",
   "metadata": {},
   "source": [
    "<h3>Or we can \"inline\" the function</h3>\n",
    "<li>Makes it more readable"
   ]
  },
  {
   "cell_type": "code",
   "execution_count": 2,
   "metadata": {},
   "outputs": [
    {
     "data": {
      "text/plain": [
       "[(4, 1), (1, 2), (3, 3), (4, 5)]"
      ]
     },
     "execution_count": 2,
     "metadata": {},
     "output_type": "execute_result"
    }
   ],
   "source": [
    "x=[(1,2),(4,5),(3,3),(4,1)]\n",
    "sorted(x,key=lambda x: x[1])"
   ]
  },
  {
   "cell_type": "code",
   "execution_count": null,
   "metadata": {},
   "outputs": [],
   "source": [
    "x=[(1,2),(4,5),(3,3),(4,1)]\n",
    "sorted(x,key=lambda x: x[0] + x[1])"
   ]
  },
  {
   "cell_type": "markdown",
   "metadata": {},
   "source": [
    "<h2>Join, merge and concatenate dataframes</h2>\n",
    "<li>Pandas will try to do a \"good\" operation\n"
   ]
  },
  {
   "cell_type": "code",
   "execution_count": 8,
   "metadata": {},
   "outputs": [
    {
     "data": {
      "text/html": [
       "<div>\n",
       "<style scoped>\n",
       "    .dataframe tbody tr th:only-of-type {\n",
       "        vertical-align: middle;\n",
       "    }\n",
       "\n",
       "    .dataframe tbody tr th {\n",
       "        vertical-align: top;\n",
       "    }\n",
       "\n",
       "    .dataframe thead th {\n",
       "        text-align: right;\n",
       "    }\n",
       "</style>\n",
       "<table border=\"1\" class=\"dataframe\">\n",
       "  <thead>\n",
       "    <tr style=\"text-align: right;\">\n",
       "      <th></th>\n",
       "      <th>A</th>\n",
       "      <th>B</th>\n",
       "      <th>C</th>\n",
       "    </tr>\n",
       "  </thead>\n",
       "  <tbody>\n",
       "    <tr>\n",
       "      <th>a</th>\n",
       "      <td>1</td>\n",
       "      <td>2</td>\n",
       "      <td>3</td>\n",
       "    </tr>\n",
       "    <tr>\n",
       "      <th>b</th>\n",
       "      <td>4</td>\n",
       "      <td>5</td>\n",
       "      <td>6</td>\n",
       "    </tr>\n",
       "  </tbody>\n",
       "</table>\n",
       "</div>"
      ],
      "text/plain": [
       "   A  B  C\n",
       "a  1  2  3\n",
       "b  4  5  6"
      ]
     },
     "execution_count": 8,
     "metadata": {},
     "output_type": "execute_result"
    }
   ],
   "source": [
    "import pandas as pd\n",
    "df1 = pd.DataFrame([[1,2,3],[4,5,6]],index=['a','b'],columns=['A','B','C'])\n",
    "df1"
   ]
  },
  {
   "cell_type": "code",
   "execution_count": 9,
   "metadata": {},
   "outputs": [
    {
     "data": {
      "text/html": [
       "<div>\n",
       "<style scoped>\n",
       "    .dataframe tbody tr th:only-of-type {\n",
       "        vertical-align: middle;\n",
       "    }\n",
       "\n",
       "    .dataframe tbody tr th {\n",
       "        vertical-align: top;\n",
       "    }\n",
       "\n",
       "    .dataframe thead th {\n",
       "        text-align: right;\n",
       "    }\n",
       "</style>\n",
       "<table border=\"1\" class=\"dataframe\">\n",
       "  <thead>\n",
       "    <tr style=\"text-align: right;\">\n",
       "      <th></th>\n",
       "      <th>A</th>\n",
       "      <th>B</th>\n",
       "      <th>C</th>\n",
       "    </tr>\n",
       "  </thead>\n",
       "  <tbody>\n",
       "    <tr>\n",
       "      <th>c</th>\n",
       "      <td>7</td>\n",
       "      <td>8</td>\n",
       "      <td>9</td>\n",
       "    </tr>\n",
       "    <tr>\n",
       "      <th>d</th>\n",
       "      <td>10</td>\n",
       "      <td>11</td>\n",
       "      <td>12</td>\n",
       "    </tr>\n",
       "  </tbody>\n",
       "</table>\n",
       "</div>"
      ],
      "text/plain": [
       "    A   B   C\n",
       "c   7   8   9\n",
       "d  10  11  12"
      ]
     },
     "execution_count": 9,
     "metadata": {},
     "output_type": "execute_result"
    }
   ],
   "source": [
    "df2 = pd.DataFrame([[7,8,9],[10,11,12]],index=['c','d'],columns=['A','B','C'])\n",
    "df2"
   ]
  },
  {
   "cell_type": "code",
   "execution_count": 14,
   "metadata": {},
   "outputs": [
    {
     "data": {
      "text/html": [
       "<div>\n",
       "<style scoped>\n",
       "    .dataframe tbody tr th:only-of-type {\n",
       "        vertical-align: middle;\n",
       "    }\n",
       "\n",
       "    .dataframe tbody tr th {\n",
       "        vertical-align: top;\n",
       "    }\n",
       "\n",
       "    .dataframe thead th {\n",
       "        text-align: right;\n",
       "    }\n",
       "</style>\n",
       "<table border=\"1\" class=\"dataframe\">\n",
       "  <thead>\n",
       "    <tr style=\"text-align: right;\">\n",
       "      <th></th>\n",
       "      <th>A</th>\n",
       "      <th>B</th>\n",
       "      <th>C</th>\n",
       "      <th>A</th>\n",
       "      <th>B</th>\n",
       "      <th>C</th>\n",
       "    </tr>\n",
       "  </thead>\n",
       "  <tbody>\n",
       "    <tr>\n",
       "      <th>a</th>\n",
       "      <td>1.0</td>\n",
       "      <td>2.0</td>\n",
       "      <td>3.0</td>\n",
       "      <td>NaN</td>\n",
       "      <td>NaN</td>\n",
       "      <td>NaN</td>\n",
       "    </tr>\n",
       "    <tr>\n",
       "      <th>b</th>\n",
       "      <td>4.0</td>\n",
       "      <td>5.0</td>\n",
       "      <td>6.0</td>\n",
       "      <td>NaN</td>\n",
       "      <td>NaN</td>\n",
       "      <td>NaN</td>\n",
       "    </tr>\n",
       "    <tr>\n",
       "      <th>c</th>\n",
       "      <td>NaN</td>\n",
       "      <td>NaN</td>\n",
       "      <td>NaN</td>\n",
       "      <td>7.0</td>\n",
       "      <td>8.0</td>\n",
       "      <td>9.0</td>\n",
       "    </tr>\n",
       "    <tr>\n",
       "      <th>d</th>\n",
       "      <td>NaN</td>\n",
       "      <td>NaN</td>\n",
       "      <td>NaN</td>\n",
       "      <td>10.0</td>\n",
       "      <td>11.0</td>\n",
       "      <td>12.0</td>\n",
       "    </tr>\n",
       "  </tbody>\n",
       "</table>\n",
       "</div>"
      ],
      "text/plain": [
       "     A    B    C     A     B     C\n",
       "a  1.0  2.0  3.0   NaN   NaN   NaN\n",
       "b  4.0  5.0  6.0   NaN   NaN   NaN\n",
       "c  NaN  NaN  NaN   7.0   8.0   9.0\n",
       "d  NaN  NaN  NaN  10.0  11.0  12.0"
      ]
     },
     "execution_count": 14,
     "metadata": {},
     "output_type": "execute_result"
    }
   ],
   "source": [
    "pd.concat([df1,df2], axis = 1,join = 'outer') # vertical stacking\n",
    "# join('inner', or default'outer'), this place it does not make diff since there is no conflict between columns\n",
    "# pay attention the axis parameter can also make a diff, default to be 0, vertical stacking\n",
    "# when asix = 1, that should be horizontal stacking"
   ]
  },
  {
   "cell_type": "markdown",
   "metadata": {},
   "source": [
    "<h3>Concat can handle column mismatches</h3>"
   ]
  },
  {
   "cell_type": "code",
   "execution_count": 15,
   "metadata": {},
   "outputs": [
    {
     "data": {
      "text/html": [
       "<div>\n",
       "<style scoped>\n",
       "    .dataframe tbody tr th:only-of-type {\n",
       "        vertical-align: middle;\n",
       "    }\n",
       "\n",
       "    .dataframe tbody tr th {\n",
       "        vertical-align: top;\n",
       "    }\n",
       "\n",
       "    .dataframe thead th {\n",
       "        text-align: right;\n",
       "    }\n",
       "</style>\n",
       "<table border=\"1\" class=\"dataframe\">\n",
       "  <thead>\n",
       "    <tr style=\"text-align: right;\">\n",
       "      <th></th>\n",
       "      <th>K</th>\n",
       "      <th>B</th>\n",
       "      <th>C</th>\n",
       "    </tr>\n",
       "  </thead>\n",
       "  <tbody>\n",
       "    <tr>\n",
       "      <th>c</th>\n",
       "      <td>7</td>\n",
       "      <td>8</td>\n",
       "      <td>9</td>\n",
       "    </tr>\n",
       "    <tr>\n",
       "      <th>d</th>\n",
       "      <td>10</td>\n",
       "      <td>11</td>\n",
       "      <td>12</td>\n",
       "    </tr>\n",
       "  </tbody>\n",
       "</table>\n",
       "</div>"
      ],
      "text/plain": [
       "    K   B   C\n",
       "c   7   8   9\n",
       "d  10  11  12"
      ]
     },
     "execution_count": 15,
     "metadata": {},
     "output_type": "execute_result"
    }
   ],
   "source": [
    "df2 = pd.DataFrame([[7,8,9],[10,11,12]],index=['c','d'],columns=['K','B','C'])\n",
    "df2"
   ]
  },
  {
   "cell_type": "code",
   "execution_count": 15,
   "metadata": {
    "scrolled": true
   },
   "outputs": [
    {
     "data": {
      "text/html": [
       "<div>\n",
       "<style scoped>\n",
       "    .dataframe tbody tr th:only-of-type {\n",
       "        vertical-align: middle;\n",
       "    }\n",
       "\n",
       "    .dataframe tbody tr th {\n",
       "        vertical-align: top;\n",
       "    }\n",
       "\n",
       "    .dataframe thead th {\n",
       "        text-align: right;\n",
       "    }\n",
       "</style>\n",
       "<table border=\"1\" class=\"dataframe\">\n",
       "  <thead>\n",
       "    <tr style=\"text-align: right;\">\n",
       "      <th></th>\n",
       "      <th>A</th>\n",
       "      <th>B</th>\n",
       "      <th>C</th>\n",
       "      <th>K</th>\n",
       "    </tr>\n",
       "  </thead>\n",
       "  <tbody>\n",
       "    <tr>\n",
       "      <th>a</th>\n",
       "      <td>1.0</td>\n",
       "      <td>2</td>\n",
       "      <td>3</td>\n",
       "      <td>NaN</td>\n",
       "    </tr>\n",
       "    <tr>\n",
       "      <th>b</th>\n",
       "      <td>4.0</td>\n",
       "      <td>5</td>\n",
       "      <td>6</td>\n",
       "      <td>NaN</td>\n",
       "    </tr>\n",
       "    <tr>\n",
       "      <th>c</th>\n",
       "      <td>NaN</td>\n",
       "      <td>8</td>\n",
       "      <td>9</td>\n",
       "      <td>7.0</td>\n",
       "    </tr>\n",
       "    <tr>\n",
       "      <th>d</th>\n",
       "      <td>NaN</td>\n",
       "      <td>11</td>\n",
       "      <td>12</td>\n",
       "      <td>10.0</td>\n",
       "    </tr>\n",
       "  </tbody>\n",
       "</table>\n",
       "</div>"
      ],
      "text/plain": [
       "     A   B   C     K\n",
       "a  1.0   2   3   NaN\n",
       "b  4.0   5   6   NaN\n",
       "c  NaN   8   9   7.0\n",
       "d  NaN  11  12  10.0"
      ]
     },
     "execution_count": 15,
     "metadata": {},
     "output_type": "execute_result"
    }
   ],
   "source": [
    "pd.concat([df1,df2], join = 'outer') # try differences between outer and inner\n",
    "# Just leave the mismatched columns with rowsin nan\n"
   ]
  },
  {
   "cell_type": "markdown",
   "metadata": {},
   "source": [
    "<h4>Concat works with multiple data frames and creates copies. Append appends to an existing dataframe</h4>"
   ]
  },
  {
   "cell_type": "code",
   "execution_count": 16,
   "metadata": {},
   "outputs": [
    {
     "data": {
      "text/html": [
       "<div>\n",
       "<style scoped>\n",
       "    .dataframe tbody tr th:only-of-type {\n",
       "        vertical-align: middle;\n",
       "    }\n",
       "\n",
       "    .dataframe tbody tr th {\n",
       "        vertical-align: top;\n",
       "    }\n",
       "\n",
       "    .dataframe thead th {\n",
       "        text-align: right;\n",
       "    }\n",
       "</style>\n",
       "<table border=\"1\" class=\"dataframe\">\n",
       "  <thead>\n",
       "    <tr style=\"text-align: right;\">\n",
       "      <th></th>\n",
       "      <th>A</th>\n",
       "      <th>B</th>\n",
       "      <th>C</th>\n",
       "      <th>K</th>\n",
       "    </tr>\n",
       "  </thead>\n",
       "  <tbody>\n",
       "    <tr>\n",
       "      <th>a</th>\n",
       "      <td>1.0</td>\n",
       "      <td>2</td>\n",
       "      <td>3</td>\n",
       "      <td>NaN</td>\n",
       "    </tr>\n",
       "    <tr>\n",
       "      <th>b</th>\n",
       "      <td>4.0</td>\n",
       "      <td>5</td>\n",
       "      <td>6</td>\n",
       "      <td>NaN</td>\n",
       "    </tr>\n",
       "    <tr>\n",
       "      <th>c</th>\n",
       "      <td>NaN</td>\n",
       "      <td>8</td>\n",
       "      <td>9</td>\n",
       "      <td>7.0</td>\n",
       "    </tr>\n",
       "    <tr>\n",
       "      <th>d</th>\n",
       "      <td>NaN</td>\n",
       "      <td>11</td>\n",
       "      <td>12</td>\n",
       "      <td>10.0</td>\n",
       "    </tr>\n",
       "  </tbody>\n",
       "</table>\n",
       "</div>"
      ],
      "text/plain": [
       "     A   B   C     K\n",
       "a  1.0   2   3   NaN\n",
       "b  4.0   5   6   NaN\n",
       "c  NaN   8   9   7.0\n",
       "d  NaN  11  12  10.0"
      ]
     },
     "execution_count": 16,
     "metadata": {},
     "output_type": "execute_result"
    }
   ],
   "source": [
    "df1.append(df2)\n",
    "# this is shortcut for concat, just concatenate along axis = 0"
   ]
  },
  {
   "cell_type": "markdown",
   "metadata": {},
   "source": [
    "<h3>Join</h3>\n",
    "<li>Pandas provides a full featured join (like SQL)\n",
    "<li>https://pandas.pydata.org/pandas-docs/stable/merging.html"
   ]
  },
  {
   "cell_type": "code",
   "execution_count": 38,
   "metadata": {},
   "outputs": [
    {
     "data": {
      "text/html": [
       "<div>\n",
       "<style scoped>\n",
       "    .dataframe tbody tr th:only-of-type {\n",
       "        vertical-align: middle;\n",
       "    }\n",
       "\n",
       "    .dataframe tbody tr th {\n",
       "        vertical-align: top;\n",
       "    }\n",
       "\n",
       "    .dataframe thead th {\n",
       "        text-align: right;\n",
       "    }\n",
       "</style>\n",
       "<table border=\"1\" class=\"dataframe\">\n",
       "  <thead>\n",
       "    <tr style=\"text-align: right;\">\n",
       "      <th></th>\n",
       "      <th>A</th>\n",
       "      <th>B</th>\n",
       "      <th>C</th>\n",
       "    </tr>\n",
       "  </thead>\n",
       "  <tbody>\n",
       "    <tr>\n",
       "      <th>a</th>\n",
       "      <td>1</td>\n",
       "      <td>2</td>\n",
       "      <td>3</td>\n",
       "    </tr>\n",
       "    <tr>\n",
       "      <th>b</th>\n",
       "      <td>4</td>\n",
       "      <td>5</td>\n",
       "      <td>6</td>\n",
       "    </tr>\n",
       "    <tr>\n",
       "      <th>c</th>\n",
       "      <td>7</td>\n",
       "      <td>8</td>\n",
       "      <td>9</td>\n",
       "    </tr>\n",
       "    <tr>\n",
       "      <th>d</th>\n",
       "      <td>10</td>\n",
       "      <td>11</td>\n",
       "      <td>12</td>\n",
       "    </tr>\n",
       "  </tbody>\n",
       "</table>\n",
       "</div>"
      ],
      "text/plain": [
       "    A   B   C\n",
       "a   1   2   3\n",
       "b   4   5   6\n",
       "c   7   8   9\n",
       "d  10  11  12"
      ]
     },
     "execution_count": 38,
     "metadata": {},
     "output_type": "execute_result"
    }
   ],
   "source": [
    "df1 = pd.DataFrame([[1,2,3],[4,5,6],[7,8,9],[10,11,12]],index=['a','b','c','d'],columns=['A','B','C'])\n",
    "df1"
   ]
  },
  {
   "cell_type": "code",
   "execution_count": 39,
   "metadata": {},
   "outputs": [
    {
     "data": {
      "text/html": [
       "<div>\n",
       "<style scoped>\n",
       "    .dataframe tbody tr th:only-of-type {\n",
       "        vertical-align: middle;\n",
       "    }\n",
       "\n",
       "    .dataframe tbody tr th {\n",
       "        vertical-align: top;\n",
       "    }\n",
       "\n",
       "    .dataframe thead th {\n",
       "        text-align: right;\n",
       "    }\n",
       "</style>\n",
       "<table border=\"1\" class=\"dataframe\">\n",
       "  <thead>\n",
       "    <tr style=\"text-align: right;\">\n",
       "      <th></th>\n",
       "      <th>B</th>\n",
       "      <th>L</th>\n",
       "      <th>D</th>\n",
       "    </tr>\n",
       "  </thead>\n",
       "  <tbody>\n",
       "    <tr>\n",
       "      <th>c</th>\n",
       "      <td>2</td>\n",
       "      <td>18</td>\n",
       "      <td>19</td>\n",
       "    </tr>\n",
       "    <tr>\n",
       "      <th>d</th>\n",
       "      <td>5</td>\n",
       "      <td>111</td>\n",
       "      <td>121</td>\n",
       "    </tr>\n",
       "  </tbody>\n",
       "</table>\n",
       "</div>"
      ],
      "text/plain": [
       "   B    L    D\n",
       "c  2   18   19\n",
       "d  5  111  121"
      ]
     },
     "execution_count": 39,
     "metadata": {},
     "output_type": "execute_result"
    }
   ],
   "source": [
    "df2 = pd.DataFrame([[2,18,19],[5,111,121]],index=['c','d'],columns=['B','L','D'])\n",
    "df2"
   ]
  },
  {
   "cell_type": "code",
   "execution_count": 46,
   "metadata": {},
   "outputs": [
    {
     "data": {
      "text/html": [
       "<div>\n",
       "<style scoped>\n",
       "    .dataframe tbody tr th:only-of-type {\n",
       "        vertical-align: middle;\n",
       "    }\n",
       "\n",
       "    .dataframe tbody tr th {\n",
       "        vertical-align: top;\n",
       "    }\n",
       "\n",
       "    .dataframe thead th {\n",
       "        text-align: right;\n",
       "    }\n",
       "</style>\n",
       "<table border=\"1\" class=\"dataframe\">\n",
       "  <thead>\n",
       "    <tr style=\"text-align: right;\">\n",
       "      <th></th>\n",
       "      <th>A</th>\n",
       "      <th>B</th>\n",
       "      <th>C</th>\n",
       "    </tr>\n",
       "  </thead>\n",
       "  <tbody>\n",
       "    <tr>\n",
       "      <th>a</th>\n",
       "      <td>1</td>\n",
       "      <td>2</td>\n",
       "      <td>3</td>\n",
       "    </tr>\n",
       "    <tr>\n",
       "      <th>b</th>\n",
       "      <td>4</td>\n",
       "      <td>5</td>\n",
       "      <td>6</td>\n",
       "    </tr>\n",
       "  </tbody>\n",
       "</table>\n",
       "</div>"
      ],
      "text/plain": [
       "   A  B  C\n",
       "a  1  2  3\n",
       "b  4  5  6"
      ]
     },
     "execution_count": 46,
     "metadata": {},
     "output_type": "execute_result"
    }
   ],
   "source": [
    "df_n"
   ]
  },
  {
   "cell_type": "code",
   "execution_count": 45,
   "metadata": {},
   "outputs": [],
   "source": [
    "df_n = df1.iloc[0:2]"
   ]
  },
  {
   "cell_type": "code",
   "execution_count": 49,
   "metadata": {
    "scrolled": true
   },
   "outputs": [
    {
     "data": {
      "text/html": [
       "<div>\n",
       "<style scoped>\n",
       "    .dataframe tbody tr th:only-of-type {\n",
       "        vertical-align: middle;\n",
       "    }\n",
       "\n",
       "    .dataframe tbody tr th {\n",
       "        vertical-align: top;\n",
       "    }\n",
       "\n",
       "    .dataframe thead th {\n",
       "        text-align: right;\n",
       "    }\n",
       "</style>\n",
       "<table border=\"1\" class=\"dataframe\">\n",
       "  <thead>\n",
       "    <tr style=\"text-align: right;\">\n",
       "      <th></th>\n",
       "      <th>B</th>\n",
       "      <th>L</th>\n",
       "      <th>D</th>\n",
       "      <th>A</th>\n",
       "      <th>C</th>\n",
       "    </tr>\n",
       "  </thead>\n",
       "  <tbody>\n",
       "    <tr>\n",
       "      <th>0</th>\n",
       "      <td>2</td>\n",
       "      <td>18.0</td>\n",
       "      <td>19.0</td>\n",
       "      <td>1</td>\n",
       "      <td>3</td>\n",
       "    </tr>\n",
       "    <tr>\n",
       "      <th>1</th>\n",
       "      <td>5</td>\n",
       "      <td>111.0</td>\n",
       "      <td>121.0</td>\n",
       "      <td>4</td>\n",
       "      <td>6</td>\n",
       "    </tr>\n",
       "    <tr>\n",
       "      <th>2</th>\n",
       "      <td>8</td>\n",
       "      <td>NaN</td>\n",
       "      <td>NaN</td>\n",
       "      <td>7</td>\n",
       "      <td>9</td>\n",
       "    </tr>\n",
       "    <tr>\n",
       "      <th>3</th>\n",
       "      <td>11</td>\n",
       "      <td>NaN</td>\n",
       "      <td>NaN</td>\n",
       "      <td>10</td>\n",
       "      <td>12</td>\n",
       "    </tr>\n",
       "  </tbody>\n",
       "</table>\n",
       "</div>"
      ],
      "text/plain": [
       "    B      L      D   A   C\n",
       "0   2   18.0   19.0   1   3\n",
       "1   5  111.0  121.0   4   6\n",
       "2   8    NaN    NaN   7   9\n",
       "3  11    NaN    NaN  10  12"
      ]
     },
     "execution_count": 49,
     "metadata": {},
     "output_type": "execute_result"
    }
   ],
   "source": [
    "df2.merge(df1, how = 'right', on = ['B']) #on = ['B']"
   ]
  },
  {
   "cell_type": "code",
   "execution_count": null,
   "metadata": {},
   "outputs": [],
   "source": []
  },
  {
   "cell_type": "code",
   "execution_count": 29,
   "metadata": {},
   "outputs": [
    {
     "ename": "ValueError",
     "evalue": "columns overlap but no suffix specified: Index(['B'], dtype='object')",
     "output_type": "error",
     "traceback": [
      "\u001b[1;31m---------------------------------------------------------------------------\u001b[0m",
      "\u001b[1;31mValueError\u001b[0m                                Traceback (most recent call last)",
      "\u001b[1;32m~\\AppData\\Local\\Temp/ipykernel_21340/795250173.py\u001b[0m in \u001b[0;36m<module>\u001b[1;34m\u001b[0m\n\u001b[1;32m----> 1\u001b[1;33m \u001b[0mdf1\u001b[0m\u001b[1;33m.\u001b[0m\u001b[0mjoin\u001b[0m\u001b[1;33m(\u001b[0m\u001b[0mdf2\u001b[0m\u001b[1;33m,\u001b[0m \u001b[0mhow\u001b[0m \u001b[1;33m=\u001b[0m \u001b[1;34m'right'\u001b[0m \u001b[1;33m)\u001b[0m \u001b[1;31m# join is for horizontal stacking\u001b[0m\u001b[1;33m\u001b[0m\u001b[1;33m\u001b[0m\u001b[0m\n\u001b[0m",
      "\u001b[1;32m~\\anaconda3\\lib\\site-packages\\pandas\\core\\frame.py\u001b[0m in \u001b[0;36mjoin\u001b[1;34m(self, other, on, how, lsuffix, rsuffix, sort)\u001b[0m\n\u001b[0;32m   9097\u001b[0m         \u001b[1;36m5\u001b[0m  \u001b[0mK5\u001b[0m  \u001b[0mA5\u001b[0m  \u001b[0mNaN\u001b[0m\u001b[1;33m\u001b[0m\u001b[1;33m\u001b[0m\u001b[0m\n\u001b[0;32m   9098\u001b[0m         \"\"\"\n\u001b[1;32m-> 9099\u001b[1;33m         return self._join_compat(\n\u001b[0m\u001b[0;32m   9100\u001b[0m             \u001b[0mother\u001b[0m\u001b[1;33m,\u001b[0m \u001b[0mon\u001b[0m\u001b[1;33m=\u001b[0m\u001b[0mon\u001b[0m\u001b[1;33m,\u001b[0m \u001b[0mhow\u001b[0m\u001b[1;33m=\u001b[0m\u001b[0mhow\u001b[0m\u001b[1;33m,\u001b[0m \u001b[0mlsuffix\u001b[0m\u001b[1;33m=\u001b[0m\u001b[0mlsuffix\u001b[0m\u001b[1;33m,\u001b[0m \u001b[0mrsuffix\u001b[0m\u001b[1;33m=\u001b[0m\u001b[0mrsuffix\u001b[0m\u001b[1;33m,\u001b[0m \u001b[0msort\u001b[0m\u001b[1;33m=\u001b[0m\u001b[0msort\u001b[0m\u001b[1;33m\u001b[0m\u001b[1;33m\u001b[0m\u001b[0m\n\u001b[0;32m   9101\u001b[0m         )\n",
      "\u001b[1;32m~\\anaconda3\\lib\\site-packages\\pandas\\core\\frame.py\u001b[0m in \u001b[0;36m_join_compat\u001b[1;34m(self, other, on, how, lsuffix, rsuffix, sort)\u001b[0m\n\u001b[0;32m   9128\u001b[0m                     \u001b[0msort\u001b[0m\u001b[1;33m=\u001b[0m\u001b[0msort\u001b[0m\u001b[1;33m,\u001b[0m\u001b[1;33m\u001b[0m\u001b[1;33m\u001b[0m\u001b[0m\n\u001b[0;32m   9129\u001b[0m                 )\n\u001b[1;32m-> 9130\u001b[1;33m             return merge(\n\u001b[0m\u001b[0;32m   9131\u001b[0m                 \u001b[0mself\u001b[0m\u001b[1;33m,\u001b[0m\u001b[1;33m\u001b[0m\u001b[1;33m\u001b[0m\u001b[0m\n\u001b[0;32m   9132\u001b[0m                 \u001b[0mother\u001b[0m\u001b[1;33m,\u001b[0m\u001b[1;33m\u001b[0m\u001b[1;33m\u001b[0m\u001b[0m\n",
      "\u001b[1;32m~\\anaconda3\\lib\\site-packages\\pandas\\core\\reshape\\merge.py\u001b[0m in \u001b[0;36mmerge\u001b[1;34m(left, right, how, on, left_on, right_on, left_index, right_index, sort, suffixes, copy, indicator, validate)\u001b[0m\n\u001b[0;32m    119\u001b[0m         \u001b[0mvalidate\u001b[0m\u001b[1;33m=\u001b[0m\u001b[0mvalidate\u001b[0m\u001b[1;33m,\u001b[0m\u001b[1;33m\u001b[0m\u001b[1;33m\u001b[0m\u001b[0m\n\u001b[0;32m    120\u001b[0m     )\n\u001b[1;32m--> 121\u001b[1;33m     \u001b[1;32mreturn\u001b[0m \u001b[0mop\u001b[0m\u001b[1;33m.\u001b[0m\u001b[0mget_result\u001b[0m\u001b[1;33m(\u001b[0m\u001b[1;33m)\u001b[0m\u001b[1;33m\u001b[0m\u001b[1;33m\u001b[0m\u001b[0m\n\u001b[0m\u001b[0;32m    122\u001b[0m \u001b[1;33m\u001b[0m\u001b[0m\n\u001b[0;32m    123\u001b[0m \u001b[1;33m\u001b[0m\u001b[0m\n",
      "\u001b[1;32m~\\anaconda3\\lib\\site-packages\\pandas\\core\\reshape\\merge.py\u001b[0m in \u001b[0;36mget_result\u001b[1;34m(self)\u001b[0m\n\u001b[0;32m    715\u001b[0m         \u001b[0mjoin_index\u001b[0m\u001b[1;33m,\u001b[0m \u001b[0mleft_indexer\u001b[0m\u001b[1;33m,\u001b[0m \u001b[0mright_indexer\u001b[0m \u001b[1;33m=\u001b[0m \u001b[0mself\u001b[0m\u001b[1;33m.\u001b[0m\u001b[0m_get_join_info\u001b[0m\u001b[1;33m(\u001b[0m\u001b[1;33m)\u001b[0m\u001b[1;33m\u001b[0m\u001b[1;33m\u001b[0m\u001b[0m\n\u001b[0;32m    716\u001b[0m \u001b[1;33m\u001b[0m\u001b[0m\n\u001b[1;32m--> 717\u001b[1;33m         llabels, rlabels = _items_overlap_with_suffix(\n\u001b[0m\u001b[0;32m    718\u001b[0m             \u001b[0mself\u001b[0m\u001b[1;33m.\u001b[0m\u001b[0mleft\u001b[0m\u001b[1;33m.\u001b[0m\u001b[0m_info_axis\u001b[0m\u001b[1;33m,\u001b[0m \u001b[0mself\u001b[0m\u001b[1;33m.\u001b[0m\u001b[0mright\u001b[0m\u001b[1;33m.\u001b[0m\u001b[0m_info_axis\u001b[0m\u001b[1;33m,\u001b[0m \u001b[0mself\u001b[0m\u001b[1;33m.\u001b[0m\u001b[0msuffixes\u001b[0m\u001b[1;33m\u001b[0m\u001b[1;33m\u001b[0m\u001b[0m\n\u001b[0;32m    719\u001b[0m         )\n",
      "\u001b[1;32m~\\anaconda3\\lib\\site-packages\\pandas\\core\\reshape\\merge.py\u001b[0m in \u001b[0;36m_items_overlap_with_suffix\u001b[1;34m(left, right, suffixes)\u001b[0m\n\u001b[0;32m   2306\u001b[0m \u001b[1;33m\u001b[0m\u001b[0m\n\u001b[0;32m   2307\u001b[0m     \u001b[1;32mif\u001b[0m \u001b[1;32mnot\u001b[0m \u001b[0mlsuffix\u001b[0m \u001b[1;32mand\u001b[0m \u001b[1;32mnot\u001b[0m \u001b[0mrsuffix\u001b[0m\u001b[1;33m:\u001b[0m\u001b[1;33m\u001b[0m\u001b[1;33m\u001b[0m\u001b[0m\n\u001b[1;32m-> 2308\u001b[1;33m         \u001b[1;32mraise\u001b[0m \u001b[0mValueError\u001b[0m\u001b[1;33m(\u001b[0m\u001b[1;34mf\"columns overlap but no suffix specified: {to_rename}\"\u001b[0m\u001b[1;33m)\u001b[0m\u001b[1;33m\u001b[0m\u001b[1;33m\u001b[0m\u001b[0m\n\u001b[0m\u001b[0;32m   2309\u001b[0m \u001b[1;33m\u001b[0m\u001b[0m\n\u001b[0;32m   2310\u001b[0m     \u001b[1;32mdef\u001b[0m \u001b[0mrenamer\u001b[0m\u001b[1;33m(\u001b[0m\u001b[0mx\u001b[0m\u001b[1;33m,\u001b[0m \u001b[0msuffix\u001b[0m\u001b[1;33m)\u001b[0m\u001b[1;33m:\u001b[0m\u001b[1;33m\u001b[0m\u001b[1;33m\u001b[0m\u001b[0m\n",
      "\u001b[1;31mValueError\u001b[0m: columns overlap but no suffix specified: Index(['B'], dtype='object')"
     ]
    }
   ],
   "source": [
    "df1.join(df2, how = 'right' ) # join is for horizontal stacking"
   ]
  },
  {
   "cell_type": "markdown",
   "metadata": {},
   "source": [
    "<h1>Working with Pandas</h1>"
   ]
  },
  {
   "cell_type": "code",
   "execution_count": 12,
   "metadata": {},
   "outputs": [
    {
     "name": "stdout",
     "output_type": "stream",
     "text": [
      "Requirement already satisfied: pandas_datareader in c:\\users\\10535\\anaconda3\\lib\\site-packages (0.10.0)\n",
      "Requirement already satisfied: lxml in c:\\users\\10535\\anaconda3\\lib\\site-packages (from pandas_datareader) (4.6.3)\n",
      "Requirement already satisfied: requests>=2.19.0 in c:\\users\\10535\\anaconda3\\lib\\site-packages (from pandas_datareader) (2.25.1)\n",
      "Requirement already satisfied: pandas>=0.23 in c:\\users\\10535\\anaconda3\\lib\\site-packages (from pandas_datareader) (1.2.4)\n",
      "Requirement already satisfied: python-dateutil>=2.7.3 in c:\\users\\10535\\anaconda3\\lib\\site-packages (from pandas>=0.23->pandas_datareader) (2.8.1)\n",
      "Requirement already satisfied: pytz>=2017.3 in c:\\users\\10535\\anaconda3\\lib\\site-packages (from pandas>=0.23->pandas_datareader) (2021.1)\n",
      "Requirement already satisfied: numpy>=1.16.5 in c:\\users\\10535\\anaconda3\\lib\\site-packages (from pandas>=0.23->pandas_datareader) (1.20.1)\n",
      "Requirement already satisfied: six>=1.5 in c:\\users\\10535\\anaconda3\\lib\\site-packages (from python-dateutil>=2.7.3->pandas>=0.23->pandas_datareader) (1.15.0)\n",
      "Requirement already satisfied: idna<3,>=2.5 in c:\\users\\10535\\anaconda3\\lib\\site-packages (from requests>=2.19.0->pandas_datareader) (2.10)\n",
      "Requirement already satisfied: urllib3<1.27,>=1.21.1 in c:\\users\\10535\\anaconda3\\lib\\site-packages (from requests>=2.19.0->pandas_datareader) (1.26.4)\n",
      "Requirement already satisfied: certifi>=2017.4.17 in c:\\users\\10535\\anaconda3\\lib\\site-packages (from requests>=2.19.0->pandas_datareader) (2020.12.5)\n",
      "Requirement already satisfied: chardet<5,>=3.0.2 in c:\\users\\10535\\anaconda3\\lib\\site-packages (from requests>=2.19.0->pandas_datareader) (4.0.0)\n"
     ]
    }
   ],
   "source": [
    "pd.__version__\n",
    "!pip install pandas_datareader "
   ]
  },
  {
   "cell_type": "code",
   "execution_count": 11,
   "metadata": {},
   "outputs": [
    {
     "name": "stderr",
     "output_type": "stream",
     "text": [
      "'source' is not recognized as an internal or external command,\n",
      "operable program or batch file.\n"
     ]
    }
   ],
   "source": [
    "#installing pandas libraries\n",
    "!source activate py36;pip install pandas --upgrade\n",
    "#!source activate py36;pip install pandas-datareader --upgrade\n",
    "#!pip install --upgrade html5lib==1.0b8\n",
    "\n",
    "#There is a bug in the latest version of html5lib so install an earlier version\n",
    "#Restart kernel after installing html5lib"
   ]
  },
  {
   "cell_type": "markdown",
   "metadata": {},
   "source": [
    "<h2>Imports</h2>"
   ]
  },
  {
   "cell_type": "code",
   "execution_count": 13,
   "metadata": {},
   "outputs": [],
   "source": [
    "import pandas as pd #pandas library\n",
    "from pandas_datareader import data #data readers (google, html, etc.)\n",
    "#The following line ensures that graphs are rendered in the notebook\n",
    "%matplotlib inline \n",
    "import numpy as np\n",
    "import matplotlib.pyplot as plt #Plotting library\n",
    "import datetime as dt #datetime for timeseries support"
   ]
  },
  {
   "cell_type": "markdown",
   "metadata": {},
   "source": [
    "<h2>Pandas datareader</h2>\n",
    "<li>Access data from html tables on any web page</li>\n",
    "<li>Get data from google finance</li>\n",
    "<li>Get data from the federal reserve</li>\n",
    "<li>Read csv files</li>"
   ]
  },
  {
   "cell_type": "markdown",
   "metadata": {},
   "source": [
    "<h3>HTML Tables</h3>\n",
    "<li>Pandas datareader can read a table in an html page into a dataframe\n",
    "<li>the read_html function returns a list of all dataframes with one dataframe for each html table on the page"
   ]
  },
  {
   "cell_type": "markdown",
   "metadata": {},
   "source": [
    "<h4>Example: Read tables from an html page</h4>"
   ]
  },
  {
   "cell_type": "code",
   "execution_count": 14,
   "metadata": {},
   "outputs": [
    {
     "name": "stdout",
     "output_type": "stream",
     "text": [
      "2\n"
     ]
    }
   ],
   "source": [
    "import requests\n",
    "df_list = pd.read_html('https://www.x-rates.com/table/?from=USD&amount=1')\n",
    "#df_list = pd.read_html(\"https://eresearch.fidelity.com/eresearch/goto/markets_sectors/landing.jhtml\",flavor=\"bs4\")\n",
    "print(len(df_list))"
   ]
  },
  {
   "cell_type": "markdown",
   "metadata": {},
   "source": [
    "<h4>The page contains two tables</h4>"
   ]
  },
  {
   "cell_type": "code",
   "execution_count": 15,
   "metadata": {},
   "outputs": [
    {
     "name": "stdout",
     "output_type": "stream",
     "text": [
      "               US Dollar    1.00 USD  inv. 1.00 USD\n",
      "0                   Euro    0.864008       1.157396\n",
      "1          British Pound    0.734332       1.361781\n",
      "2           Indian Rupee   75.194674       0.013299\n",
      "3      Australian Dollar    1.368375       0.730794\n",
      "4        Canadian Dollar    1.247186       0.801805\n",
      "5       Singapore Dollar    1.354358       0.738357\n",
      "6            Swiss Franc    0.927447       1.078229\n",
      "7      Malaysian Ringgit    4.178048       0.239346\n",
      "8           Japanese Yen  112.251909       0.008909\n",
      "9  Chinese Yuan Renminbi    6.443463       0.155196\n",
      "                US Dollar       1.00 USD  inv. 1.00 USD\n",
      "0          Argentine Peso      98.857537       0.010116\n",
      "1       Australian Dollar       1.368375       0.730794\n",
      "2          Bahraini Dinar       0.376000       2.659574\n",
      "3           Botswana Pula      11.286297       0.088603\n",
      "4          Brazilian Real       5.510020       0.181488\n",
      "5         Bruneian Dollar       1.354358       0.738357\n",
      "6           Bulgarian Lev       1.689854       0.591767\n",
      "7         Canadian Dollar       1.247186       0.801805\n",
      "8            Chilean Peso     824.457149       0.001213\n",
      "9   Chinese Yuan Renminbi       6.443463       0.155196\n",
      "10         Colombian Peso    3767.308903       0.000265\n",
      "11          Croatian Kuna       6.494867       0.153968\n",
      "12           Czech Koruna      21.986936       0.045482\n",
      "13           Danish Krone       6.429269       0.155539\n",
      "14                   Euro       0.864008       1.157396\n",
      "15       Hong Kong Dollar       7.784170       0.128466\n",
      "16       Hungarian Forint     311.276251       0.003213\n",
      "17        Icelandic Krona     129.080177       0.007747\n",
      "18           Indian Rupee      75.194674       0.013299\n",
      "19      Indonesian Rupiah   14235.334590       0.000070\n",
      "20           Iranian Rial   42025.878962       0.000024\n",
      "21         Israeli Shekel       3.233265       0.309285\n",
      "22           Japanese Yen     112.251909       0.008909\n",
      "23      Kazakhstani Tenge     425.488299       0.002350\n",
      "24       South Korean Won    1196.646860       0.000836\n",
      "25          Kuwaiti Dinar       0.301566       3.316025\n",
      "26           Libyan Dinar       4.559757       0.219310\n",
      "27      Malaysian Ringgit       4.178048       0.239346\n",
      "28        Mauritian Rupee      42.587625       0.023481\n",
      "29           Mexican Peso      20.712825       0.048279\n",
      "30         Nepalese Rupee     120.875438       0.008273\n",
      "31     New Zealand Dollar       1.441983       0.693489\n",
      "32        Norwegian Krone       8.522940       0.117330\n",
      "33             Omani Rial       0.384500       2.600780\n",
      "34        Pakistani Rupee     170.847882       0.005853\n",
      "35        Philippine Peso      50.581503       0.019770\n",
      "36           Polish Zloty       3.977255       0.251430\n",
      "37           Qatari Riyal       3.640000       0.274725\n",
      "38       Romanian New Leu       4.276499       0.233836\n",
      "39          Russian Ruble      71.818119       0.013924\n",
      "40    Saudi Arabian Riyal       3.750000       0.266667\n",
      "41       Singapore Dollar       1.354358       0.738357\n",
      "42     South African Rand      14.932929       0.066966\n",
      "43       Sri Lankan Rupee     200.010174       0.005000\n",
      "44          Swedish Krona       8.734900       0.114483\n",
      "45            Swiss Franc       0.927447       1.078229\n",
      "46      Taiwan New Dollar      28.076426       0.035617\n",
      "47              Thai Baht      33.850408       0.029542\n",
      "48     Trinidadian Dollar       6.789654       0.147283\n",
      "49           Turkish Lira       8.973756       0.111436\n",
      "50         Emirati Dirham       3.672500       0.272294\n",
      "51          British Pound       0.734332       1.361781\n",
      "52     Venezuelan Bolivar  415435.176690       0.000002\n"
     ]
    }
   ],
   "source": [
    "df1 = df_list[0]\n",
    "df2 = df_list[1]\n",
    "print(df1)\n",
    "print(df2)"
   ]
  },
  {
   "cell_type": "markdown",
   "metadata": {},
   "source": [
    "<h4>Note that the read_html function has automatically detected the header columns</h4>\n",
    "<h4>If an index is necessary, we need to explicitly specify it</h4>"
   ]
  },
  {
   "cell_type": "code",
   "execution_count": 16,
   "metadata": {},
   "outputs": [
    {
     "data": {
      "text/html": [
       "<div>\n",
       "<style scoped>\n",
       "    .dataframe tbody tr th:only-of-type {\n",
       "        vertical-align: middle;\n",
       "    }\n",
       "\n",
       "    .dataframe tbody tr th {\n",
       "        vertical-align: top;\n",
       "    }\n",
       "\n",
       "    .dataframe thead th {\n",
       "        text-align: right;\n",
       "    }\n",
       "</style>\n",
       "<table border=\"1\" class=\"dataframe\">\n",
       "  <thead>\n",
       "    <tr style=\"text-align: right;\">\n",
       "      <th></th>\n",
       "      <th>US Dollar</th>\n",
       "      <th>1.00 USD</th>\n",
       "      <th>inv. 1.00 USD</th>\n",
       "    </tr>\n",
       "  </thead>\n",
       "  <tbody>\n",
       "    <tr>\n",
       "      <th>0</th>\n",
       "      <td>Euro</td>\n",
       "      <td>0.864008</td>\n",
       "      <td>1.157396</td>\n",
       "    </tr>\n",
       "    <tr>\n",
       "      <th>1</th>\n",
       "      <td>British Pound</td>\n",
       "      <td>0.734332</td>\n",
       "      <td>1.361781</td>\n",
       "    </tr>\n",
       "    <tr>\n",
       "      <th>2</th>\n",
       "      <td>Indian Rupee</td>\n",
       "      <td>75.194674</td>\n",
       "      <td>0.013299</td>\n",
       "    </tr>\n",
       "    <tr>\n",
       "      <th>3</th>\n",
       "      <td>Australian Dollar</td>\n",
       "      <td>1.368375</td>\n",
       "      <td>0.730794</td>\n",
       "    </tr>\n",
       "    <tr>\n",
       "      <th>4</th>\n",
       "      <td>Canadian Dollar</td>\n",
       "      <td>1.247186</td>\n",
       "      <td>0.801805</td>\n",
       "    </tr>\n",
       "    <tr>\n",
       "      <th>5</th>\n",
       "      <td>Singapore Dollar</td>\n",
       "      <td>1.354358</td>\n",
       "      <td>0.738357</td>\n",
       "    </tr>\n",
       "    <tr>\n",
       "      <th>6</th>\n",
       "      <td>Swiss Franc</td>\n",
       "      <td>0.927447</td>\n",
       "      <td>1.078229</td>\n",
       "    </tr>\n",
       "    <tr>\n",
       "      <th>7</th>\n",
       "      <td>Malaysian Ringgit</td>\n",
       "      <td>4.178048</td>\n",
       "      <td>0.239346</td>\n",
       "    </tr>\n",
       "    <tr>\n",
       "      <th>8</th>\n",
       "      <td>Japanese Yen</td>\n",
       "      <td>112.251909</td>\n",
       "      <td>0.008909</td>\n",
       "    </tr>\n",
       "    <tr>\n",
       "      <th>9</th>\n",
       "      <td>Chinese Yuan Renminbi</td>\n",
       "      <td>6.443463</td>\n",
       "      <td>0.155196</td>\n",
       "    </tr>\n",
       "  </tbody>\n",
       "</table>\n",
       "</div>"
      ],
      "text/plain": [
       "               US Dollar    1.00 USD  inv. 1.00 USD\n",
       "0                   Euro    0.864008       1.157396\n",
       "1          British Pound    0.734332       1.361781\n",
       "2           Indian Rupee   75.194674       0.013299\n",
       "3      Australian Dollar    1.368375       0.730794\n",
       "4        Canadian Dollar    1.247186       0.801805\n",
       "5       Singapore Dollar    1.354358       0.738357\n",
       "6            Swiss Franc    0.927447       1.078229\n",
       "7      Malaysian Ringgit    4.178048       0.239346\n",
       "8           Japanese Yen  112.251909       0.008909\n",
       "9  Chinese Yuan Renminbi    6.443463       0.155196"
      ]
     },
     "execution_count": 16,
     "metadata": {},
     "output_type": "execute_result"
    }
   ],
   "source": [
    "df1"
   ]
  },
  {
   "cell_type": "code",
   "execution_count": 21,
   "metadata": {},
   "outputs": [],
   "source": [
    "df1 = df1.set_index('US Dollar')\n",
    "# print(df1)"
   ]
  },
  {
   "cell_type": "markdown",
   "metadata": {},
   "source": [
    "<h4>Now we can use .loc to extract specific currency rates</h4>"
   ]
  },
  {
   "cell_type": "code",
   "execution_count": 25,
   "metadata": {},
   "outputs": [
    {
     "data": {
      "text/plain": [
       "0.864008"
      ]
     },
     "execution_count": 25,
     "metadata": {},
     "output_type": "execute_result"
    }
   ],
   "source": [
    "df1.loc['Euro','1.00 USD']"
   ]
  },
  {
   "cell_type": "markdown",
   "metadata": {},
   "source": [
    "<h2>Getting historical stock prices from yahoo finance</h2>\n",
    "Usage: DataReader(ticker,source,startdate,enddate)<br>\n",
    "\n"
   ]
  },
  {
   "cell_type": "code",
   "execution_count": 30,
   "metadata": {},
   "outputs": [
    {
     "name": "stdout",
     "output_type": "stream",
     "text": [
      "2000-01-01 00:00:00 2021-10-09 00:24:08.575742\n"
     ]
    }
   ],
   "source": [
    "from pandas_datareader import data as web\n",
    "import datetime\n",
    "start=datetime.datetime(2000, 1, 1)\n",
    "end=datetime.datetime.today()\n",
    "print(start,end)\n",
    "\n",
    "df = web.DataReader('IBM', 'yahoo', start, end)"
   ]
  },
  {
   "cell_type": "code",
   "execution_count": 31,
   "metadata": {},
   "outputs": [
    {
     "data": {
      "text/html": [
       "<div>\n",
       "<style scoped>\n",
       "    .dataframe tbody tr th:only-of-type {\n",
       "        vertical-align: middle;\n",
       "    }\n",
       "\n",
       "    .dataframe tbody tr th {\n",
       "        vertical-align: top;\n",
       "    }\n",
       "\n",
       "    .dataframe thead th {\n",
       "        text-align: right;\n",
       "    }\n",
       "</style>\n",
       "<table border=\"1\" class=\"dataframe\">\n",
       "  <thead>\n",
       "    <tr style=\"text-align: right;\">\n",
       "      <th></th>\n",
       "      <th>High</th>\n",
       "      <th>Low</th>\n",
       "      <th>Open</th>\n",
       "      <th>Close</th>\n",
       "      <th>Volume</th>\n",
       "      <th>Adj Close</th>\n",
       "    </tr>\n",
       "    <tr>\n",
       "      <th>Date</th>\n",
       "      <th></th>\n",
       "      <th></th>\n",
       "      <th></th>\n",
       "      <th></th>\n",
       "      <th></th>\n",
       "      <th></th>\n",
       "    </tr>\n",
       "  </thead>\n",
       "  <tbody>\n",
       "    <tr>\n",
       "      <th>2000-01-03</th>\n",
       "      <td>116.000000</td>\n",
       "      <td>111.875000</td>\n",
       "      <td>112.437500</td>\n",
       "      <td>116.000000</td>\n",
       "      <td>10347700.0</td>\n",
       "      <td>71.265144</td>\n",
       "    </tr>\n",
       "    <tr>\n",
       "      <th>2000-01-04</th>\n",
       "      <td>114.500000</td>\n",
       "      <td>110.875000</td>\n",
       "      <td>114.000000</td>\n",
       "      <td>112.062500</td>\n",
       "      <td>8227800.0</td>\n",
       "      <td>68.846123</td>\n",
       "    </tr>\n",
       "    <tr>\n",
       "      <th>2000-01-05</th>\n",
       "      <td>119.750000</td>\n",
       "      <td>112.125000</td>\n",
       "      <td>112.937500</td>\n",
       "      <td>116.000000</td>\n",
       "      <td>12733200.0</td>\n",
       "      <td>71.265144</td>\n",
       "    </tr>\n",
       "    <tr>\n",
       "      <th>2000-01-06</th>\n",
       "      <td>118.937500</td>\n",
       "      <td>113.500000</td>\n",
       "      <td>118.000000</td>\n",
       "      <td>114.000000</td>\n",
       "      <td>7971900.0</td>\n",
       "      <td>70.036423</td>\n",
       "    </tr>\n",
       "    <tr>\n",
       "      <th>2000-01-07</th>\n",
       "      <td>117.937500</td>\n",
       "      <td>110.625000</td>\n",
       "      <td>117.250000</td>\n",
       "      <td>113.500000</td>\n",
       "      <td>11856700.0</td>\n",
       "      <td>69.729218</td>\n",
       "    </tr>\n",
       "    <tr>\n",
       "      <th>...</th>\n",
       "      <td>...</td>\n",
       "      <td>...</td>\n",
       "      <td>...</td>\n",
       "      <td>...</td>\n",
       "      <td>...</td>\n",
       "      <td>...</td>\n",
       "    </tr>\n",
       "    <tr>\n",
       "      <th>2021-10-04</th>\n",
       "      <td>146.000000</td>\n",
       "      <td>142.350006</td>\n",
       "      <td>142.740005</td>\n",
       "      <td>144.110001</td>\n",
       "      <td>7351100.0</td>\n",
       "      <td>144.110001</td>\n",
       "    </tr>\n",
       "    <tr>\n",
       "      <th>2021-10-05</th>\n",
       "      <td>145.000000</td>\n",
       "      <td>142.639999</td>\n",
       "      <td>144.750000</td>\n",
       "      <td>143.149994</td>\n",
       "      <td>6976600.0</td>\n",
       "      <td>143.149994</td>\n",
       "    </tr>\n",
       "    <tr>\n",
       "      <th>2021-10-06</th>\n",
       "      <td>143.369995</td>\n",
       "      <td>140.889999</td>\n",
       "      <td>142.479996</td>\n",
       "      <td>142.360001</td>\n",
       "      <td>5328400.0</td>\n",
       "      <td>142.360001</td>\n",
       "    </tr>\n",
       "    <tr>\n",
       "      <th>2021-10-07</th>\n",
       "      <td>143.399994</td>\n",
       "      <td>141.529999</td>\n",
       "      <td>142.729996</td>\n",
       "      <td>141.809998</td>\n",
       "      <td>3823800.0</td>\n",
       "      <td>141.809998</td>\n",
       "    </tr>\n",
       "    <tr>\n",
       "      <th>2021-10-08</th>\n",
       "      <td>143.649994</td>\n",
       "      <td>141.050003</td>\n",
       "      <td>141.809998</td>\n",
       "      <td>143.220001</td>\n",
       "      <td>3730700.0</td>\n",
       "      <td>143.220001</td>\n",
       "    </tr>\n",
       "  </tbody>\n",
       "</table>\n",
       "<p>5478 rows × 6 columns</p>\n",
       "</div>"
      ],
      "text/plain": [
       "                  High         Low        Open       Close      Volume  \\\n",
       "Date                                                                     \n",
       "2000-01-03  116.000000  111.875000  112.437500  116.000000  10347700.0   \n",
       "2000-01-04  114.500000  110.875000  114.000000  112.062500   8227800.0   \n",
       "2000-01-05  119.750000  112.125000  112.937500  116.000000  12733200.0   \n",
       "2000-01-06  118.937500  113.500000  118.000000  114.000000   7971900.0   \n",
       "2000-01-07  117.937500  110.625000  117.250000  113.500000  11856700.0   \n",
       "...                ...         ...         ...         ...         ...   \n",
       "2021-10-04  146.000000  142.350006  142.740005  144.110001   7351100.0   \n",
       "2021-10-05  145.000000  142.639999  144.750000  143.149994   6976600.0   \n",
       "2021-10-06  143.369995  140.889999  142.479996  142.360001   5328400.0   \n",
       "2021-10-07  143.399994  141.529999  142.729996  141.809998   3823800.0   \n",
       "2021-10-08  143.649994  141.050003  141.809998  143.220001   3730700.0   \n",
       "\n",
       "             Adj Close  \n",
       "Date                    \n",
       "2000-01-03   71.265144  \n",
       "2000-01-04   68.846123  \n",
       "2000-01-05   71.265144  \n",
       "2000-01-06   70.036423  \n",
       "2000-01-07   69.729218  \n",
       "...                ...  \n",
       "2021-10-04  144.110001  \n",
       "2021-10-05  143.149994  \n",
       "2021-10-06  142.360001  \n",
       "2021-10-07  141.809998  \n",
       "2021-10-08  143.220001  \n",
       "\n",
       "[5478 rows x 6 columns]"
      ]
     },
     "execution_count": 31,
     "metadata": {},
     "output_type": "execute_result"
    }
   ],
   "source": [
    "df"
   ]
  },
  {
   "cell_type": "markdown",
   "metadata": {},
   "source": [
    "<h2>Datareader documentation</h2>\n",
    "http://pandas-datareader.readthedocs.io/en/latest/</h2>"
   ]
  },
  {
   "cell_type": "markdown",
   "metadata": {},
   "source": [
    "<h3>Working with a timeseries data frame</h3>\n",
    "<li>The data is organized by time with the index serving as the timeline\n"
   ]
  },
  {
   "cell_type": "markdown",
   "metadata": {},
   "source": [
    "<h4>Creating new columns</h4>\n",
    "<li>Add a column to a dataframe\n",
    "<li>Base the elements of the column on some combination of data in the existing columns\n",
    "<h4>Example: Number of Days that the stock closed higher than it opened\n",
    "<li>We'll create a new column with the header \"UP\"\n",
    "<li>And use np.where to decide what to put in the column"
   ]
  },
  {
   "cell_type": "code",
   "execution_count": 32,
   "metadata": {},
   "outputs": [
    {
     "data": {
      "text/html": [
       "<div>\n",
       "<style scoped>\n",
       "    .dataframe tbody tr th:only-of-type {\n",
       "        vertical-align: middle;\n",
       "    }\n",
       "\n",
       "    .dataframe tbody tr th {\n",
       "        vertical-align: top;\n",
       "    }\n",
       "\n",
       "    .dataframe thead th {\n",
       "        text-align: right;\n",
       "    }\n",
       "</style>\n",
       "<table border=\"1\" class=\"dataframe\">\n",
       "  <thead>\n",
       "    <tr style=\"text-align: right;\">\n",
       "      <th></th>\n",
       "      <th>High</th>\n",
       "      <th>Low</th>\n",
       "      <th>Open</th>\n",
       "      <th>Close</th>\n",
       "      <th>Volume</th>\n",
       "      <th>Adj Close</th>\n",
       "      <th>UP</th>\n",
       "    </tr>\n",
       "    <tr>\n",
       "      <th>Date</th>\n",
       "      <th></th>\n",
       "      <th></th>\n",
       "      <th></th>\n",
       "      <th></th>\n",
       "      <th></th>\n",
       "      <th></th>\n",
       "      <th></th>\n",
       "    </tr>\n",
       "  </thead>\n",
       "  <tbody>\n",
       "    <tr>\n",
       "      <th>2000-01-03</th>\n",
       "      <td>116.000000</td>\n",
       "      <td>111.875000</td>\n",
       "      <td>112.437500</td>\n",
       "      <td>116.000000</td>\n",
       "      <td>10347700.0</td>\n",
       "      <td>71.265144</td>\n",
       "      <td>1</td>\n",
       "    </tr>\n",
       "    <tr>\n",
       "      <th>2000-01-04</th>\n",
       "      <td>114.500000</td>\n",
       "      <td>110.875000</td>\n",
       "      <td>114.000000</td>\n",
       "      <td>112.062500</td>\n",
       "      <td>8227800.0</td>\n",
       "      <td>68.846123</td>\n",
       "      <td>0</td>\n",
       "    </tr>\n",
       "    <tr>\n",
       "      <th>2000-01-05</th>\n",
       "      <td>119.750000</td>\n",
       "      <td>112.125000</td>\n",
       "      <td>112.937500</td>\n",
       "      <td>116.000000</td>\n",
       "      <td>12733200.0</td>\n",
       "      <td>71.265144</td>\n",
       "      <td>1</td>\n",
       "    </tr>\n",
       "    <tr>\n",
       "      <th>2000-01-06</th>\n",
       "      <td>118.937500</td>\n",
       "      <td>113.500000</td>\n",
       "      <td>118.000000</td>\n",
       "      <td>114.000000</td>\n",
       "      <td>7971900.0</td>\n",
       "      <td>70.036423</td>\n",
       "      <td>0</td>\n",
       "    </tr>\n",
       "    <tr>\n",
       "      <th>2000-01-07</th>\n",
       "      <td>117.937500</td>\n",
       "      <td>110.625000</td>\n",
       "      <td>117.250000</td>\n",
       "      <td>113.500000</td>\n",
       "      <td>11856700.0</td>\n",
       "      <td>69.729218</td>\n",
       "      <td>0</td>\n",
       "    </tr>\n",
       "    <tr>\n",
       "      <th>...</th>\n",
       "      <td>...</td>\n",
       "      <td>...</td>\n",
       "      <td>...</td>\n",
       "      <td>...</td>\n",
       "      <td>...</td>\n",
       "      <td>...</td>\n",
       "      <td>...</td>\n",
       "    </tr>\n",
       "    <tr>\n",
       "      <th>2021-10-04</th>\n",
       "      <td>146.000000</td>\n",
       "      <td>142.350006</td>\n",
       "      <td>142.740005</td>\n",
       "      <td>144.110001</td>\n",
       "      <td>7351100.0</td>\n",
       "      <td>144.110001</td>\n",
       "      <td>1</td>\n",
       "    </tr>\n",
       "    <tr>\n",
       "      <th>2021-10-05</th>\n",
       "      <td>145.000000</td>\n",
       "      <td>142.639999</td>\n",
       "      <td>144.750000</td>\n",
       "      <td>143.149994</td>\n",
       "      <td>6976600.0</td>\n",
       "      <td>143.149994</td>\n",
       "      <td>0</td>\n",
       "    </tr>\n",
       "    <tr>\n",
       "      <th>2021-10-06</th>\n",
       "      <td>143.369995</td>\n",
       "      <td>140.889999</td>\n",
       "      <td>142.479996</td>\n",
       "      <td>142.360001</td>\n",
       "      <td>5328400.0</td>\n",
       "      <td>142.360001</td>\n",
       "      <td>0</td>\n",
       "    </tr>\n",
       "    <tr>\n",
       "      <th>2021-10-07</th>\n",
       "      <td>143.399994</td>\n",
       "      <td>141.529999</td>\n",
       "      <td>142.729996</td>\n",
       "      <td>141.809998</td>\n",
       "      <td>3823800.0</td>\n",
       "      <td>141.809998</td>\n",
       "      <td>0</td>\n",
       "    </tr>\n",
       "    <tr>\n",
       "      <th>2021-10-08</th>\n",
       "      <td>143.649994</td>\n",
       "      <td>141.050003</td>\n",
       "      <td>141.809998</td>\n",
       "      <td>143.220001</td>\n",
       "      <td>3730700.0</td>\n",
       "      <td>143.220001</td>\n",
       "      <td>1</td>\n",
       "    </tr>\n",
       "  </tbody>\n",
       "</table>\n",
       "<p>5478 rows × 7 columns</p>\n",
       "</div>"
      ],
      "text/plain": [
       "                  High         Low        Open       Close      Volume  \\\n",
       "Date                                                                     \n",
       "2000-01-03  116.000000  111.875000  112.437500  116.000000  10347700.0   \n",
       "2000-01-04  114.500000  110.875000  114.000000  112.062500   8227800.0   \n",
       "2000-01-05  119.750000  112.125000  112.937500  116.000000  12733200.0   \n",
       "2000-01-06  118.937500  113.500000  118.000000  114.000000   7971900.0   \n",
       "2000-01-07  117.937500  110.625000  117.250000  113.500000  11856700.0   \n",
       "...                ...         ...         ...         ...         ...   \n",
       "2021-10-04  146.000000  142.350006  142.740005  144.110001   7351100.0   \n",
       "2021-10-05  145.000000  142.639999  144.750000  143.149994   6976600.0   \n",
       "2021-10-06  143.369995  140.889999  142.479996  142.360001   5328400.0   \n",
       "2021-10-07  143.399994  141.529999  142.729996  141.809998   3823800.0   \n",
       "2021-10-08  143.649994  141.050003  141.809998  143.220001   3730700.0   \n",
       "\n",
       "             Adj Close  UP  \n",
       "Date                        \n",
       "2000-01-03   71.265144   1  \n",
       "2000-01-04   68.846123   0  \n",
       "2000-01-05   71.265144   1  \n",
       "2000-01-06   70.036423   0  \n",
       "2000-01-07   69.729218   0  \n",
       "...                ...  ..  \n",
       "2021-10-04  144.110001   1  \n",
       "2021-10-05  143.149994   0  \n",
       "2021-10-06  142.360001   0  \n",
       "2021-10-07  141.809998   0  \n",
       "2021-10-08  143.220001   1  \n",
       "\n",
       "[5478 rows x 7 columns]"
      ]
     },
     "execution_count": 32,
     "metadata": {},
     "output_type": "execute_result"
    }
   ],
   "source": [
    "df['UP']=np.where(df['Close']>df['Open'],1,0)\n",
    "df"
   ]
  },
  {
   "cell_type": "markdown",
   "metadata": {},
   "source": [
    "<h3>Get summary statistics</h3>\n",
    "<li>The \"describe\" function returns a dataframe containing summary stats for all numerical columns\n",
    "<li>Columns containing non-numerical data are ignored"
   ]
  },
  {
   "cell_type": "code",
   "execution_count": 33,
   "metadata": {},
   "outputs": [
    {
     "data": {
      "text/html": [
       "<div>\n",
       "<style scoped>\n",
       "    .dataframe tbody tr th:only-of-type {\n",
       "        vertical-align: middle;\n",
       "    }\n",
       "\n",
       "    .dataframe tbody tr th {\n",
       "        vertical-align: top;\n",
       "    }\n",
       "\n",
       "    .dataframe thead th {\n",
       "        text-align: right;\n",
       "    }\n",
       "</style>\n",
       "<table border=\"1\" class=\"dataframe\">\n",
       "  <thead>\n",
       "    <tr style=\"text-align: right;\">\n",
       "      <th></th>\n",
       "      <th>High</th>\n",
       "      <th>Low</th>\n",
       "      <th>Open</th>\n",
       "      <th>Close</th>\n",
       "      <th>Volume</th>\n",
       "      <th>Adj Close</th>\n",
       "      <th>UP</th>\n",
       "    </tr>\n",
       "  </thead>\n",
       "  <tbody>\n",
       "    <tr>\n",
       "      <th>count</th>\n",
       "      <td>5478.000000</td>\n",
       "      <td>5478.000000</td>\n",
       "      <td>5478.000000</td>\n",
       "      <td>5478.000000</td>\n",
       "      <td>5.478000e+03</td>\n",
       "      <td>5478.000000</td>\n",
       "      <td>5478.000000</td>\n",
       "    </tr>\n",
       "    <tr>\n",
       "      <th>mean</th>\n",
       "      <td>130.637284</td>\n",
       "      <td>128.375772</td>\n",
       "      <td>129.462955</td>\n",
       "      <td>129.521069</td>\n",
       "      <td>6.054719e+06</td>\n",
       "      <td>95.659174</td>\n",
       "      <td>0.516794</td>\n",
       "    </tr>\n",
       "    <tr>\n",
       "      <th>std</th>\n",
       "      <td>37.002643</td>\n",
       "      <td>36.890867</td>\n",
       "      <td>36.947551</td>\n",
       "      <td>36.953066</td>\n",
       "      <td>3.309914e+06</td>\n",
       "      <td>33.736946</td>\n",
       "      <td>0.499763</td>\n",
       "    </tr>\n",
       "    <tr>\n",
       "      <th>min</th>\n",
       "      <td>56.700001</td>\n",
       "      <td>54.009998</td>\n",
       "      <td>54.650002</td>\n",
       "      <td>55.070000</td>\n",
       "      <td>1.027500e+06</td>\n",
       "      <td>34.345158</td>\n",
       "      <td>0.000000</td>\n",
       "    </tr>\n",
       "    <tr>\n",
       "      <th>25%</th>\n",
       "      <td>97.709997</td>\n",
       "      <td>95.562498</td>\n",
       "      <td>96.445000</td>\n",
       "      <td>96.597498</td>\n",
       "      <td>3.841175e+06</td>\n",
       "      <td>61.580163</td>\n",
       "      <td>0.000000</td>\n",
       "    </tr>\n",
       "    <tr>\n",
       "      <th>50%</th>\n",
       "      <td>126.693748</td>\n",
       "      <td>124.355000</td>\n",
       "      <td>125.389999</td>\n",
       "      <td>125.550003</td>\n",
       "      <td>5.231950e+06</td>\n",
       "      <td>97.160023</td>\n",
       "      <td>1.000000</td>\n",
       "    </tr>\n",
       "    <tr>\n",
       "      <th>75%</th>\n",
       "      <td>156.667503</td>\n",
       "      <td>154.227501</td>\n",
       "      <td>155.437500</td>\n",
       "      <td>155.462498</td>\n",
       "      <td>7.320950e+06</td>\n",
       "      <td>126.223701</td>\n",
       "      <td>1.000000</td>\n",
       "    </tr>\n",
       "    <tr>\n",
       "      <th>max</th>\n",
       "      <td>215.899994</td>\n",
       "      <td>214.300003</td>\n",
       "      <td>215.380005</td>\n",
       "      <td>215.800003</td>\n",
       "      <td>4.120730e+07</td>\n",
       "      <td>155.979523</td>\n",
       "      <td>1.000000</td>\n",
       "    </tr>\n",
       "  </tbody>\n",
       "</table>\n",
       "</div>"
      ],
      "text/plain": [
       "              High          Low         Open        Close        Volume  \\\n",
       "count  5478.000000  5478.000000  5478.000000  5478.000000  5.478000e+03   \n",
       "mean    130.637284   128.375772   129.462955   129.521069  6.054719e+06   \n",
       "std      37.002643    36.890867    36.947551    36.953066  3.309914e+06   \n",
       "min      56.700001    54.009998    54.650002    55.070000  1.027500e+06   \n",
       "25%      97.709997    95.562498    96.445000    96.597498  3.841175e+06   \n",
       "50%     126.693748   124.355000   125.389999   125.550003  5.231950e+06   \n",
       "75%     156.667503   154.227501   155.437500   155.462498  7.320950e+06   \n",
       "max     215.899994   214.300003   215.380005   215.800003  4.120730e+07   \n",
       "\n",
       "         Adj Close           UP  \n",
       "count  5478.000000  5478.000000  \n",
       "mean     95.659174     0.516794  \n",
       "std      33.736946     0.499763  \n",
       "min      34.345158     0.000000  \n",
       "25%      61.580163     0.000000  \n",
       "50%      97.160023     1.000000  \n",
       "75%     126.223701     1.000000  \n",
       "max     155.979523     1.000000  "
      ]
     },
     "execution_count": 33,
     "metadata": {},
     "output_type": "execute_result"
    }
   ],
   "source": [
    "df.describe()"
   ]
  },
  {
   "cell_type": "markdown",
   "metadata": {},
   "source": [
    "<h4>Calculate the percentage of days that the stock has closed higher than its open</h4>"
   ]
  },
  {
   "cell_type": "code",
   "execution_count": 34,
   "metadata": {},
   "outputs": [
    {
     "data": {
      "text/plain": [
       "0.5167944505293903"
      ]
     },
     "execution_count": 34,
     "metadata": {},
     "output_type": "execute_result"
    }
   ],
   "source": [
    "df['UP'].sum()/df['UP'].count()"
   ]
  },
  {
   "cell_type": "markdown",
   "metadata": {},
   "source": [
    "<h4>Calculate percent changes</h4>\n",
    "<li>The function pct_change computes a percent change between successive rows (times in  timeseries data)\n",
    "<li>Defaults to a single time delta\n",
    "<li>With an argument, the time delta can be changed"
   ]
  },
  {
   "cell_type": "code",
   "execution_count": 36,
   "metadata": {},
   "outputs": [
    {
     "data": {
      "text/plain": [
       "Date\n",
       "2000-01-03         NaN\n",
       "2000-01-04   -0.033944\n",
       "2000-01-05    0.035137\n",
       "2000-01-06   -0.017241\n",
       "2000-01-07   -0.004386\n",
       "                ...   \n",
       "2021-10-04    0.005512\n",
       "2021-10-05   -0.006662\n",
       "2021-10-06   -0.005519\n",
       "2021-10-07   -0.003863\n",
       "2021-10-08    0.009943\n",
       "Name: Close, Length: 5478, dtype: float64"
      ]
     },
     "execution_count": 36,
     "metadata": {},
     "output_type": "execute_result"
    }
   ],
   "source": [
    "df['Close'].pct_change() #One timeperiod percent change"
   ]
  },
  {
   "cell_type": "code",
   "execution_count": 152,
   "metadata": {},
   "outputs": [
    {
     "data": {
      "text/plain": [
       "Date\n",
       "2000-01-03         NaN\n",
       "2000-01-04         NaN\n",
       "2000-01-05         NaN\n",
       "2000-01-06         NaN\n",
       "2000-01-07         NaN\n",
       "                ...   \n",
       "2021-09-29    0.015764\n",
       "2021-09-30    0.005646\n",
       "2021-10-01    0.052122\n",
       "2021-10-04    0.050364\n",
       "2021-10-05    0.055486\n",
       "Name: Close, Length: 5475, dtype: float64"
      ]
     },
     "execution_count": 152,
     "metadata": {},
     "output_type": "execute_result"
    }
   ],
   "source": [
    "n=13\n",
    "df['Close'].pct_change(n) #n timeperiods percent change"
   ]
  },
  {
   "cell_type": "markdown",
   "metadata": {},
   "source": [
    "<h3>NaN support</h3>\n",
    "Pandas functions can ignore NaNs"
   ]
  },
  {
   "cell_type": "code",
   "execution_count": 153,
   "metadata": {},
   "outputs": [
    {
     "data": {
      "text/plain": [
       "0.0020265381427276162"
      ]
     },
     "execution_count": 153,
     "metadata": {},
     "output_type": "execute_result"
    }
   ],
   "source": [
    "n=13\n",
    "df['Close'].pct_change(n).mean()"
   ]
  },
  {
   "cell_type": "markdown",
   "metadata": {},
   "source": [
    "<h3>Rolling windows</h3>\n",
    "<li>\"rolling\" function extracts rolling windows\n",
    "<li>For example, the 21 period rolling window of the 13 period percent change "
   ]
  },
  {
   "cell_type": "code",
   "execution_count": 154,
   "metadata": {},
   "outputs": [
    {
     "data": {
      "text/plain": [
       "Rolling [window=21,center=False,axis=0]"
      ]
     },
     "execution_count": 154,
     "metadata": {},
     "output_type": "execute_result"
    }
   ],
   "source": [
    "df['Close'].pct_change(n).rolling(21)"
   ]
  },
  {
   "cell_type": "markdown",
   "metadata": {},
   "source": [
    "<h4>Calculate something on the rolling windows</h4>"
   ]
  },
  {
   "cell_type": "markdown",
   "metadata": {},
   "source": [
    "<h4>Example: mean (the 21 day moving average of the 13 day percent change)"
   ]
  },
  {
   "cell_type": "code",
   "execution_count": null,
   "metadata": {},
   "outputs": [],
   "source": [
    "n=13\n",
    "df['Close'].pct_change(n).rolling(21).mean()"
   ]
  },
  {
   "cell_type": "code",
   "execution_count": null,
   "metadata": {},
   "outputs": [],
   "source": []
  },
  {
   "cell_type": "markdown",
   "metadata": {},
   "source": [
    "<h4>Calculate several moving averages and graph them</h4>"
   ]
  },
  {
   "cell_type": "code",
   "execution_count": 155,
   "metadata": {},
   "outputs": [],
   "source": [
    "ma_8 = df['Close'].pct_change(n).rolling(window=8).mean()\n",
    "ma_13= df['Close'].pct_change(n).rolling(window=13).mean()\n",
    "ma_21= df['Close'].pct_change(n).rolling(window=21).mean()\n",
    "ma_34= df['Close'].pct_change(n).rolling(window=34).mean()\n",
    "ma_55= df['Close'].pct_change(n).rolling(window=55).mean()"
   ]
  },
  {
   "cell_type": "code",
   "execution_count": 166,
   "metadata": {},
   "outputs": [
    {
     "data": {
      "text/plain": [
       "Date\n",
       "2000-01-03         NaN\n",
       "2000-01-04         NaN\n",
       "2000-01-05         NaN\n",
       "2000-01-06         NaN\n",
       "2000-01-07         NaN\n",
       "2000-01-10         NaN\n",
       "2000-01-11         NaN\n",
       "2000-01-12         NaN\n",
       "2000-01-13         NaN\n",
       "2000-01-14         NaN\n",
       "2000-01-18         NaN\n",
       "2000-01-19         NaN\n",
       "2000-01-20         NaN\n",
       "2000-01-21         NaN\n",
       "2000-01-24         NaN\n",
       "2000-01-25         NaN\n",
       "2000-01-26         NaN\n",
       "2000-01-27         NaN\n",
       "2000-01-28         NaN\n",
       "2000-01-31         NaN\n",
       "2000-02-01         NaN\n",
       "2000-02-02         NaN\n",
       "2000-02-03         NaN\n",
       "2000-02-04         NaN\n",
       "2000-02-07         NaN\n",
       "2000-02-08         NaN\n",
       "2000-02-09         NaN\n",
       "2000-02-10         NaN\n",
       "2000-02-11         NaN\n",
       "2000-02-14         NaN\n",
       "2000-02-15         NaN\n",
       "2000-02-16         NaN\n",
       "2000-02-17         NaN\n",
       "2000-02-18   -0.003589\n",
       "Name: Close, dtype: float64"
      ]
     },
     "execution_count": 166,
     "metadata": {},
     "output_type": "execute_result"
    }
   ],
   "source": [
    "ma_21.head(34)"
   ]
  },
  {
   "cell_type": "markdown",
   "metadata": {},
   "source": []
  },
  {
   "cell_type": "markdown",
   "metadata": {},
   "source": [
    "<h2>Plotting pandas series</h2>\n",
    "<li>Pandas is tightly integrated with matplotlib, a graphing library\n",
    "<li>All you need do is call 'plot' on any series\n",
    "<li>When working on a jupyter notebook, add %matplotlib inline"
   ]
  },
  {
   "cell_type": "code",
   "execution_count": 167,
   "metadata": {},
   "outputs": [],
   "source": [
    "%matplotlib inline"
   ]
  },
  {
   "cell_type": "code",
   "execution_count": 168,
   "metadata": {},
   "outputs": [
    {
     "data": {
      "text/plain": [
       "<AxesSubplot:xlabel='Date'>"
      ]
     },
     "execution_count": 168,
     "metadata": {},
     "output_type": "execute_result"
    },
    {
     "data": {
      "image/png": "[encoded data removed]",
      "text/plain": [
       "<Figure size 432x288 with 1 Axes>"
      ]
     },
     "metadata": {
      "needs_background": "light"
     },
     "output_type": "display_data"
    }
   ],
   "source": [
    "ma_8.plot()\n",
    "ma_34.plot()"
   ]
  },
  {
   "cell_type": "markdown",
   "metadata": {},
   "source": [
    "<h2>Linear regression with pandas</h2>\n",
    "<h4>Example: TAN is the ticker for a solar ETF. FSLR,  and SPWR are tickers of companies that build or lease solar panels. Each has a different business model. We'll use pandas to study the risk reward tradeoff between the 3 investments and also see how correlated they are</h4>"
   ]
  },
  {
   "cell_type": "code",
   "execution_count": 171,
   "metadata": {},
   "outputs": [
    {
     "name": "stderr",
     "output_type": "stream",
     "text": [
      "'source' is not recognized as an internal or external command,\n",
      "operable program or batch file.\n"
     ]
    },
    {
     "name": "stdout",
     "output_type": "stream",
     "text": [
      "Collecting yfinance\n",
      "  Downloading yfinance-0.1.63.tar.gz (26 kB)\n",
      "Requirement already satisfied: pandas>=0.24 in c:\\users\\10535\\anaconda3\\lib\\site-packages (from yfinance) (1.2.4)\n",
      "Requirement already satisfied: numpy>=1.15 in c:\\users\\10535\\anaconda3\\lib\\site-packages (from yfinance) (1.20.1)\n",
      "Requirement already satisfied: requests>=2.20 in c:\\users\\10535\\anaconda3\\lib\\site-packages (from yfinance) (2.25.1)\n",
      "Collecting multitasking>=0.0.7\n",
      "  Downloading multitasking-0.0.9.tar.gz (8.1 kB)\n",
      "Requirement already satisfied: lxml>=4.5.1 in c:\\users\\10535\\anaconda3\\lib\\site-packages (from yfinance) (4.6.3)\n",
      "Requirement already satisfied: python-dateutil>=2.7.3 in c:\\users\\10535\\anaconda3\\lib\\site-packages (from pandas>=0.24->yfinance) (2.8.1)\n",
      "Requirement already satisfied: pytz>=2017.3 in c:\\users\\10535\\anaconda3\\lib\\site-packages (from pandas>=0.24->yfinance) (2021.1)\n",
      "Requirement already satisfied: six>=1.5 in c:\\users\\10535\\anaconda3\\lib\\site-packages (from python-dateutil>=2.7.3->pandas>=0.24->yfinance) (1.15.0)\n",
      "Requirement already satisfied: chardet<5,>=3.0.2 in c:\\users\\10535\\anaconda3\\lib\\site-packages (from requests>=2.20->yfinance) (4.0.0)\n",
      "Requirement already satisfied: idna<3,>=2.5 in c:\\users\\10535\\anaconda3\\lib\\site-packages (from requests>=2.20->yfinance) (2.10)\n",
      "Requirement already satisfied: certifi>=2017.4.17 in c:\\users\\10535\\anaconda3\\lib\\site-packages (from requests>=2.20->yfinance) (2020.12.5)\n",
      "Requirement already satisfied: urllib3<1.27,>=1.21.1 in c:\\users\\10535\\anaconda3\\lib\\site-packages (from requests>=2.20->yfinance) (1.26.4)\n",
      "Building wheels for collected packages: yfinance, multitasking\n",
      "  Building wheel for yfinance (setup.py): started\n",
      "  Building wheel for yfinance (setup.py): finished with status 'done'\n",
      "  Created wheel for yfinance: filename=yfinance-0.1.63-py2.py3-none-any.whl size=23909 sha256=9d14604e9b62d4599a188fd5de7d528536069d73e4b2ead9d1956476cba6bdc3\n",
      "  Stored in directory: c:\\users\\10535\\appdata\\local\\pip\\cache\\wheels\\ec\\cc\\c1\\32da8ee853d742d5d7cbd11ee04421222eb354672020b57297\n",
      "  Building wheel for multitasking (setup.py): started\n",
      "  Building wheel for multitasking (setup.py): finished with status 'done'\n",
      "  Created wheel for multitasking: filename=multitasking-0.0.9-py3-none-any.whl size=8368 sha256=c16b14f912792f0656f444b5baac30100f6c687aa337ace5b0aa77cdd6a399c1\n",
      "  Stored in directory: c:\\users\\10535\\appdata\\local\\pip\\cache\\wheels\\57\\6d\\a3\\a39b839cc75274d2acfb1c58bfead2f726c6577fe8c4723f13\n",
      "Successfully built yfinance multitasking\n",
      "Installing collected packages: multitasking, yfinance\n",
      "Successfully installed multitasking-0.0.9 yfinance-0.1.63\n"
     ]
    }
   ],
   "source": [
    "!source activate py36;pip install fix-yahoo-finance\n",
    "!pip install yfinance"
   ]
  },
  {
   "cell_type": "code",
   "execution_count": 40,
   "metadata": {},
   "outputs": [],
   "source": [
    "import datetime\n",
    "import pandas_datareader.data as web\n",
    "import yfinance as yf\n",
    "start = datetime.datetime(2015,7,1)\n",
    "end = datetime.datetime(2016,7,1)\n",
    "solar_df = web.DataReader(['FSLR', 'TAN','SPWR'],'yahoo',start,end)['Close']\n"
   ]
  },
  {
   "cell_type": "code",
   "execution_count": 41,
   "metadata": {},
   "outputs": [
    {
     "data": {
      "text/html": [
       "<div>\n",
       "<style scoped>\n",
       "    .dataframe tbody tr th:only-of-type {\n",
       "        vertical-align: middle;\n",
       "    }\n",
       "\n",
       "    .dataframe tbody tr th {\n",
       "        vertical-align: top;\n",
       "    }\n",
       "\n",
       "    .dataframe thead th {\n",
       "        text-align: right;\n",
       "    }\n",
       "</style>\n",
       "<table border=\"1\" class=\"dataframe\">\n",
       "  <thead>\n",
       "    <tr style=\"text-align: right;\">\n",
       "      <th>Symbols</th>\n",
       "      <th>FSLR</th>\n",
       "      <th>TAN</th>\n",
       "      <th>SPWR</th>\n",
       "    </tr>\n",
       "    <tr>\n",
       "      <th>Date</th>\n",
       "      <th></th>\n",
       "      <th></th>\n",
       "      <th></th>\n",
       "    </tr>\n",
       "  </thead>\n",
       "  <tbody>\n",
       "    <tr>\n",
       "      <th>2015-07-01</th>\n",
       "      <td>46.040001</td>\n",
       "      <td>38.840000</td>\n",
       "      <td>18.271120</td>\n",
       "    </tr>\n",
       "    <tr>\n",
       "      <th>2015-07-02</th>\n",
       "      <td>45.169998</td>\n",
       "      <td>38.549999</td>\n",
       "      <td>18.002621</td>\n",
       "    </tr>\n",
       "    <tr>\n",
       "      <th>2015-07-06</th>\n",
       "      <td>44.189999</td>\n",
       "      <td>36.369999</td>\n",
       "      <td>17.570398</td>\n",
       "    </tr>\n",
       "    <tr>\n",
       "      <th>2015-07-07</th>\n",
       "      <td>45.119999</td>\n",
       "      <td>36.099998</td>\n",
       "      <td>17.675180</td>\n",
       "    </tr>\n",
       "    <tr>\n",
       "      <th>2015-07-08</th>\n",
       "      <td>43.270000</td>\n",
       "      <td>33.669998</td>\n",
       "      <td>17.039948</td>\n",
       "    </tr>\n",
       "    <tr>\n",
       "      <th>...</th>\n",
       "      <td>...</td>\n",
       "      <td>...</td>\n",
       "      <td>...</td>\n",
       "    </tr>\n",
       "    <tr>\n",
       "      <th>2016-06-27</th>\n",
       "      <td>44.230000</td>\n",
       "      <td>19.320000</td>\n",
       "      <td>8.834316</td>\n",
       "    </tr>\n",
       "    <tr>\n",
       "      <th>2016-06-28</th>\n",
       "      <td>46.369999</td>\n",
       "      <td>20.020000</td>\n",
       "      <td>9.646365</td>\n",
       "    </tr>\n",
       "    <tr>\n",
       "      <th>2016-06-29</th>\n",
       "      <td>48.090000</td>\n",
       "      <td>20.639999</td>\n",
       "      <td>9.960707</td>\n",
       "    </tr>\n",
       "    <tr>\n",
       "      <th>2016-06-30</th>\n",
       "      <td>48.480000</td>\n",
       "      <td>20.959999</td>\n",
       "      <td>10.144073</td>\n",
       "    </tr>\n",
       "    <tr>\n",
       "      <th>2016-07-01</th>\n",
       "      <td>48.490002</td>\n",
       "      <td>21.000000</td>\n",
       "      <td>10.124427</td>\n",
       "    </tr>\n",
       "  </tbody>\n",
       "</table>\n",
       "<p>254 rows × 3 columns</p>\n",
       "</div>"
      ],
      "text/plain": [
       "Symbols          FSLR        TAN       SPWR\n",
       "Date                                       \n",
       "2015-07-01  46.040001  38.840000  18.271120\n",
       "2015-07-02  45.169998  38.549999  18.002621\n",
       "2015-07-06  44.189999  36.369999  17.570398\n",
       "2015-07-07  45.119999  36.099998  17.675180\n",
       "2015-07-08  43.270000  33.669998  17.039948\n",
       "...               ...        ...        ...\n",
       "2016-06-27  44.230000  19.320000   8.834316\n",
       "2016-06-28  46.369999  20.020000   9.646365\n",
       "2016-06-29  48.090000  20.639999   9.960707\n",
       "2016-06-30  48.480000  20.959999  10.144073\n",
       "2016-07-01  48.490002  21.000000  10.124427\n",
       "\n",
       "[254 rows x 3 columns]"
      ]
     },
     "execution_count": 41,
     "metadata": {},
     "output_type": "execute_result"
    }
   ],
   "source": [
    "solar_df"
   ]
  },
  {
   "cell_type": "markdown",
   "metadata": {},
   "source": [
    "<h4>Let's calculate returns (the 1 day percent change)</h4>"
   ]
  },
  {
   "cell_type": "code",
   "execution_count": 42,
   "metadata": {},
   "outputs": [
    {
     "name": "stdout",
     "output_type": "stream",
     "text": [
      "Symbols         FSLR       TAN      SPWR\n",
      "Date                                    \n",
      "2015-07-01       NaN       NaN       NaN\n",
      "2015-07-02 -0.018897 -0.007467 -0.014695\n",
      "2015-07-06 -0.021696 -0.056550 -0.024009\n",
      "2015-07-07  0.021045 -0.007424  0.005964\n",
      "2015-07-08 -0.041002 -0.067313 -0.035939\n",
      "...              ...       ...       ...\n",
      "2016-06-27 -0.038896 -0.027190 -0.047316\n",
      "2016-06-28  0.048383  0.036232  0.091920\n",
      "2016-06-29  0.037093  0.030969  0.032587\n",
      "2016-06-30  0.008110  0.015504  0.018409\n",
      "2016-07-01  0.000206  0.001908 -0.001937\n",
      "\n",
      "[254 rows x 3 columns]\n"
     ]
    }
   ],
   "source": [
    "rets = solar_df.pct_change()\n",
    "print(rets)"
   ]
  },
  {
   "cell_type": "markdown",
   "metadata": {},
   "source": [
    "<h4>Let's visualize the relationship between each stock and the ETF</h4>"
   ]
  },
  {
   "cell_type": "code",
   "execution_count": 44,
   "metadata": {},
   "outputs": [
    {
     "data": {
      "text/plain": [
       "<matplotlib.collections.PathCollection at 0x186ad4d5ca0>"
      ]
     },
     "execution_count": 44,
     "metadata": {},
     "output_type": "execute_result"
    },
    {
     "data": {
      "image/png": "[encoded data removed]",
      "text/plain": [
       "<Figure size 432x288 with 1 Axes>"
      ]
     },
     "metadata": {
      "needs_background": "light"
     },
     "output_type": "display_data"
    }
   ],
   "source": [
    "import matplotlib.pyplot as plt\n",
    "%matplotlib inline\n",
    "plt.scatter(rets.FSLR,rets.TAN)\n",
    "# check of there is any correlation between these 2 var"
   ]
  },
  {
   "cell_type": "code",
   "execution_count": 45,
   "metadata": {},
   "outputs": [
    {
     "data": {
      "text/plain": [
       "<matplotlib.collections.PathCollection at 0x186ad258b20>"
      ]
     },
     "execution_count": 45,
     "metadata": {},
     "output_type": "execute_result"
    },
    {
     "data": {
      "image/png": "[encoded data removed]",
      "text/plain": [
       "<Figure size 432x288 with 1 Axes>"
      ]
     },
     "metadata": {
      "needs_background": "light"
     },
     "output_type": "display_data"
    }
   ],
   "source": [
    "plt.scatter(rets.SPWR,rets.TAN)"
   ]
  },
  {
   "cell_type": "markdown",
   "metadata": {},
   "source": [
    "<h4>The correlation matrix</h4>"
   ]
  },
  {
   "cell_type": "code",
   "execution_count": 46,
   "metadata": {},
   "outputs": [
    {
     "name": "stdout",
     "output_type": "stream",
     "text": [
      "Symbols      FSLR       TAN      SPWR\n",
      "Symbols                              \n",
      "FSLR     1.000000  0.684453  0.670324\n",
      "TAN      0.684453  1.000000  0.783056\n",
      "SPWR     0.670324  0.783056  1.000000\n"
     ]
    }
   ],
   "source": [
    "solar_corr = rets.corr()\n",
    "print(solar_corr)"
   ]
  },
  {
   "cell_type": "markdown",
   "metadata": {},
   "source": [
    "<h3>Basic risk analysis</h3>\n",
    "<h4>We'll plot the mean and std or returns for each ticker to get a sense of the risk return profile</h4>"
   ]
  },
  {
   "cell_type": "code",
   "execution_count": 47,
   "metadata": {},
   "outputs": [
    {
     "data": {
      "image/png": "[encoded data removed]",
      "text/plain": [
       "<Figure size 432x288 with 1 Axes>"
      ]
     },
     "metadata": {
      "needs_background": "light"
     },
     "output_type": "display_data"
    }
   ],
   "source": [
    "plt.scatter(rets.mean(), rets.std())\n",
    "plt.xlabel('Expected returns')\n",
    "plt.ylabel('Standard deviations')\n",
    "for label, x, y in zip(rets.columns, rets.mean(), rets.std()):\n",
    "    plt.annotate(\n",
    "        label, \n",
    "        xy = (x, y), xytext = (20, -20),\n",
    "        textcoords = 'offset points', ha = 'right', va = 'bottom',\n",
    "        bbox = dict(boxstyle = 'round,pad=0.5', fc = 'yellow', alpha = 0.5),\n",
    "        arrowprops = dict(arrowstyle = '->', connectionstyle = 'arc3,rad=0'))\n",
    "plt.show()\n"
   ]
  },
  {
   "cell_type": "markdown",
   "metadata": {},
   "source": [
    "<h2>Regressions</h2>\n",
    "http://statsmodels.sourceforge.net/"
   ]
  },
  {
   "cell_type": "markdown",
   "metadata": {},
   "source": [
    "<h3>Steps for regression</h3>\n",
    "<li>Construct y (dependent variable series)\n",
    "<li>Construct matrix (dataframe) of X (independent variable series)\n",
    "<li>Add intercept\n",
    "<li>Model the regression\n",
    "<li>Get the results\n",
    "<h3>The statsmodels library contains various regression packages. We'll use the OLS (Ordinary Least Squares) model"
   ]
  },
  {
   "cell_type": "code",
   "execution_count": 53,
   "metadata": {},
   "outputs": [
    {
     "name": "stdout",
     "output_type": "stream",
     "text": [
      "                            OLS Regression Results                            \n",
      "==============================================================================\n",
      "Dep. Variable:                    TAN   R-squared:                       0.925\n",
      "Model:                            OLS   Adj. R-squared:                  0.924\n",
      "Method:                 Least Squares   F-statistic:                     1544.\n",
      "Date:                Sat, 09 Oct 2021   Prob (F-statistic):          9.10e-142\n",
      "Time:                        01:05:29   Log-Likelihood:                -432.15\n",
      "No. Observations:                 254   AIC:                             870.3\n",
      "Df Residuals:                     251   BIC:                             880.9\n",
      "Df Model:                           2                                         \n",
      "Covariance Type:            nonrobust                                         \n",
      "==============================================================================\n",
      "                 coef    std err          t      P>|t|      [0.025      0.975]\n",
      "------------------------------------------------------------------------------\n",
      "const         18.2368      0.654     27.866      0.000      16.948      19.526\n",
      "FSLR          -0.3342      0.010    -33.771      0.000      -0.354      -0.315\n",
      "SPWR           1.8162      0.035     51.684      0.000       1.747       1.885\n",
      "==============================================================================\n",
      "Omnibus:                        0.531   Durbin-Watson:                   0.284\n",
      "Prob(Omnibus):                  0.767   Jarque-Bera (JB):                0.662\n",
      "Skew:                          -0.059   Prob(JB):                        0.718\n",
      "Kurtosis:                       2.780   Cond. No.                         455.\n",
      "==============================================================================\n",
      "\n",
      "Notes:\n",
      "[1] Standard Errors assume that the covariance matrix of the errors is correctly specified.\n"
     ]
    },
    {
     "data": {
      "text/html": [
       "<div>\n",
       "<style scoped>\n",
       "    .dataframe tbody tr th:only-of-type {\n",
       "        vertical-align: middle;\n",
       "    }\n",
       "\n",
       "    .dataframe tbody tr th {\n",
       "        vertical-align: top;\n",
       "    }\n",
       "\n",
       "    .dataframe thead th {\n",
       "        text-align: right;\n",
       "    }\n",
       "</style>\n",
       "<table border=\"1\" class=\"dataframe\">\n",
       "  <thead>\n",
       "    <tr style=\"text-align: right;\">\n",
       "      <th></th>\n",
       "      <th>const</th>\n",
       "      <th>FSLR</th>\n",
       "      <th>SPWR</th>\n",
       "    </tr>\n",
       "    <tr>\n",
       "      <th>Date</th>\n",
       "      <th></th>\n",
       "      <th></th>\n",
       "      <th></th>\n",
       "    </tr>\n",
       "  </thead>\n",
       "  <tbody>\n",
       "    <tr>\n",
       "      <th>2015-07-01</th>\n",
       "      <td>1.0</td>\n",
       "      <td>46.040001</td>\n",
       "      <td>18.271120</td>\n",
       "    </tr>\n",
       "    <tr>\n",
       "      <th>2015-07-02</th>\n",
       "      <td>1.0</td>\n",
       "      <td>45.169998</td>\n",
       "      <td>18.002621</td>\n",
       "    </tr>\n",
       "    <tr>\n",
       "      <th>2015-07-06</th>\n",
       "      <td>1.0</td>\n",
       "      <td>44.189999</td>\n",
       "      <td>17.570398</td>\n",
       "    </tr>\n",
       "    <tr>\n",
       "      <th>2015-07-07</th>\n",
       "      <td>1.0</td>\n",
       "      <td>45.119999</td>\n",
       "      <td>17.675180</td>\n",
       "    </tr>\n",
       "    <tr>\n",
       "      <th>2015-07-08</th>\n",
       "      <td>1.0</td>\n",
       "      <td>43.270000</td>\n",
       "      <td>17.039948</td>\n",
       "    </tr>\n",
       "    <tr>\n",
       "      <th>...</th>\n",
       "      <td>...</td>\n",
       "      <td>...</td>\n",
       "      <td>...</td>\n",
       "    </tr>\n",
       "    <tr>\n",
       "      <th>2016-06-27</th>\n",
       "      <td>1.0</td>\n",
       "      <td>44.230000</td>\n",
       "      <td>8.834316</td>\n",
       "    </tr>\n",
       "    <tr>\n",
       "      <th>2016-06-28</th>\n",
       "      <td>1.0</td>\n",
       "      <td>46.369999</td>\n",
       "      <td>9.646365</td>\n",
       "    </tr>\n",
       "    <tr>\n",
       "      <th>2016-06-29</th>\n",
       "      <td>1.0</td>\n",
       "      <td>48.090000</td>\n",
       "      <td>9.960707</td>\n",
       "    </tr>\n",
       "    <tr>\n",
       "      <th>2016-06-30</th>\n",
       "      <td>1.0</td>\n",
       "      <td>48.480000</td>\n",
       "      <td>10.144073</td>\n",
       "    </tr>\n",
       "    <tr>\n",
       "      <th>2016-07-01</th>\n",
       "      <td>1.0</td>\n",
       "      <td>48.490002</td>\n",
       "      <td>10.124427</td>\n",
       "    </tr>\n",
       "  </tbody>\n",
       "</table>\n",
       "<p>254 rows × 3 columns</p>\n",
       "</div>"
      ],
      "text/plain": [
       "            const       FSLR       SPWR\n",
       "Date                                   \n",
       "2015-07-01    1.0  46.040001  18.271120\n",
       "2015-07-02    1.0  45.169998  18.002621\n",
       "2015-07-06    1.0  44.189999  17.570398\n",
       "2015-07-07    1.0  45.119999  17.675180\n",
       "2015-07-08    1.0  43.270000  17.039948\n",
       "...           ...        ...        ...\n",
       "2016-06-27    1.0  44.230000   8.834316\n",
       "2016-06-28    1.0  46.369999   9.646365\n",
       "2016-06-29    1.0  48.090000   9.960707\n",
       "2016-06-30    1.0  48.480000  10.144073\n",
       "2016-07-01    1.0  48.490002  10.124427\n",
       "\n",
       "[254 rows x 3 columns]"
      ]
     },
     "execution_count": 53,
     "metadata": {},
     "output_type": "execute_result"
    }
   ],
   "source": [
    "import numpy as np\n",
    "import statsmodels.api as sm\n",
    "X=solar_df[['FSLR','SPWR']] # use double brackets to slice columns from a dataframe and make \n",
    "X = sm.add_constant(X)\n",
    "y=solar_df['TAN']\n",
    "model = sm.OLS(y,X,missing='drop')\n",
    "result = model.fit()\n",
    "print(result.summary())\n",
    "type(X)\n",
    "X"
   ]
  },
  {
   "cell_type": "markdown",
   "metadata": {},
   "source": [
    "<h4>Finally plot the fitted line with the actual y values"
   ]
  },
  {
   "cell_type": "code",
   "execution_count": null,
   "metadata": {},
   "outputs": [],
   "source": [
    "fig, ax = plt.subplots(figsize=(8,6))\n",
    "ax.plot(y)\n",
    "ax.plot(result.fittedvalues)"
   ]
  },
  {
   "cell_type": "code",
   "execution_count": null,
   "metadata": {},
   "outputs": [],
   "source": []
  }
 ],
 "metadata": {
  "kernelspec": {
   "display_name": "Python 3 (ipykernel)",
   "language": "python",
   "name": "python3"
  },
  "language_info": {
   "codemirror_mode": {
    "name": "ipython",
    "version": 3
   },
   "file_extension": ".py",
   "mimetype": "text/x-python",
   "name": "python",
   "nbconvert_exporter": "python",
   "pygments_lexer": "ipython3",
   "version": "3.9.7"
  }
 },
 "nbformat": 4,
 "nbformat_minor": 2
}
