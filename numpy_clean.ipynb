{
 "cells": [
  {
   "cell_type": "markdown",
   "metadata": {},
   "source": [
    "<h1>Python libraries for data analysis</h1>\n"
   ]
  },
  {
   "cell_type": "markdown",
   "metadata": {},
   "source": [
    "<li><b><span style=\"color:blue\">Numpy</span></b>: supports numerical and array operations\n",
    "<li><b><span style=\"color:blue\">Scipy</span></b>: open source library for mathematics and scientific computing\n",
    "<li><b><span style=\"color:blue\">Pandas</span></b>: supports data manipulation and analysis\n",
    "<li><b><span style=\"color:blue\">Visualization libraries</span></b>: matplotlib, seaborne, bokeh, plotly, gmplot, and many others provide support for charts and graphs"
   ]
  },
  {
   "cell_type": "markdown",
   "metadata": {},
   "source": [
    "<h1>numpy</h1>\n"
   ]
  },
  {
   "cell_type": "markdown",
   "metadata": {},
   "source": [
    "<h2>Why numpy?</h2>\n",
    "<li>Multi-dimensional arrays:\n",
    "<li>Faster and more space efficient than lists \n",
    "<li>Can incorporate C/C++/Fortran code\n",
    "<li>Linear algebra, Fourier transforms, Random number support\n",
    "\n"
   ]
  },
  {
   "cell_type": "markdown",
   "metadata": {},
   "source": [
    "<h2>numpy array</h2>"
   ]
  },
  {
   "cell_type": "code",
   "execution_count": 1,
   "metadata": {},
   "outputs": [
    {
     "name": "stdout",
     "output_type": "stream",
     "text": [
      "<class 'numpy.ndarray'>\n"
     ]
    },
    {
     "data": {
      "text/plain": [
       "array([1, 2, 3, 4, 5])"
      ]
     },
     "execution_count": 1,
     "metadata": {},
     "output_type": "execute_result"
    }
   ],
   "source": [
    "import numpy as np\n",
    "ax = np.array([1,2,3,4,5])\n",
    "print(type(ax))\n",
    "ax"
   ]
  },
  {
   "cell_type": "markdown",
   "metadata": {},
   "source": [
    "<li>A numpy array has a data type associated with its elements\n",
    "<li>and elements need to be of the same data type\n",
    "<li>But an element could be an 'arbitrarily' complex object"
   ]
  },
  {
   "cell_type": "code",
   "execution_count": 2,
   "metadata": {},
   "outputs": [
    {
     "data": {
      "text/plain": [
       "array(['1', '2', 'False'], dtype='<U5')"
      ]
     },
     "execution_count": 2,
     "metadata": {},
     "output_type": "execute_result"
    }
   ],
   "source": [
    "np.array(['1','2',False])"
   ]
  },
  {
   "cell_type": "code",
   "execution_count": 2,
   "metadata": {},
   "outputs": [
    {
     "data": {
      "text/plain": [
       "array([[10, 11],\n",
       "       [13, 14]])"
      ]
     },
     "execution_count": 2,
     "metadata": {},
     "output_type": "execute_result"
    }
   ],
   "source": [
    "ax = np.arange(18).reshape(6,3)\n",
    "ax[3:5, 1:3]"
   ]
  },
  {
   "cell_type": "code",
   "execution_count": 3,
   "metadata": {},
   "outputs": [],
   "source": [
    "midt = np.array([67,47.5,34,81,84.5,82,89,83,71,94,80.5,67.5,88,93,78,76,75,45,79,87.5,65,82,50,76,81,79,68,52,68,70,73,80,73.5,85,79,72,74,64,88,66,75,86,72,77,84,75,97,54,85,50,66.5,82,74,69.5,51,86])"
   ]
  },
  {
   "cell_type": "code",
   "execution_count": 4,
   "metadata": {},
   "outputs": [
    {
     "name": "stdout",
     "output_type": "stream",
     "text": [
      "97.0 34.0 73.78571428571429 13.102909008681848\n"
     ]
    }
   ],
   "source": [
    "print(midt.max(),midt.min(),midt.mean(),midt.std())"
   ]
  },
  {
   "cell_type": "markdown",
   "metadata": {},
   "source": [
    "<h2>Specifying the type</h2>\n",
    "<h3>Useful when reading a text stream directly into a numerical array</h3>"
   ]
  },
  {
   "cell_type": "markdown",
   "metadata": {},
   "source": [
    "<h4>The <i>dtype</i> attribute</h4>\n",
    "<li>Stores the data type in the array\n",
    "<li>numpy makes a best guess of the data type"
   ]
  },
  {
   "cell_type": "code",
   "execution_count": 6,
   "metadata": {},
   "outputs": [
    {
     "data": {
      "text/plain": [
       "(2, 4)"
      ]
     },
     "execution_count": 6,
     "metadata": {},
     "output_type": "execute_result"
    }
   ],
   "source": [
    "ax = np.array([[1,2,3,4],[5,6,7,8.3]])\n",
    "# ax.dtype\n",
    "# print(ax.shape)\n",
    "ax.shape"
   ]
  },
  {
   "cell_type": "code",
   "execution_count": 8,
   "metadata": {},
   "outputs": [
    {
     "name": "stdout",
     "output_type": "stream",
     "text": [
      "[{'a': 1, 'b': 2} 4]\n"
     ]
    },
    {
     "data": {
      "text/plain": [
       "dtype('O')"
      ]
     },
     "execution_count": 8,
     "metadata": {},
     "output_type": "execute_result"
    }
   ],
   "source": [
    "ax = np.array([{'a':1,'b':2},4])\n",
    "print(ax)\n",
    "ax.dtype"
   ]
  },
  {
   "cell_type": "code",
   "execution_count": 10,
   "metadata": {},
   "outputs": [
    {
     "name": "stdout",
     "output_type": "stream",
     "text": [
      "[1 2 3]\n",
      "[1. 2. 3.]\n",
      "['1' '2' '3']\n"
     ]
    }
   ],
   "source": [
    "x=['1','2','3']\n",
    "xi = np.array(x,'int')\n",
    "xf = np.array(x,'float')\n",
    "xs = np.array(x,'str')\n",
    "print(xi,xf,xs,sep='\\n')"
   ]
  },
  {
   "cell_type": "markdown",
   "metadata": {},
   "source": [
    "<li>The <i>astype</i> function converts from one type to another\n"
   ]
  },
  {
   "cell_type": "code",
   "execution_count": 8,
   "metadata": {},
   "outputs": [
    {
     "name": "stdout",
     "output_type": "stream",
     "text": [
      "<U21\n"
     ]
    },
    {
     "data": {
      "text/plain": [
       "array([1, 2, 3, 4])"
      ]
     },
     "execution_count": 8,
     "metadata": {},
     "output_type": "execute_result"
    }
   ],
   "source": [
    "ax = np.array([1,2,3,'4'])\n",
    "print(ax.dtype)\n",
    "ax.astype(int)"
   ]
  },
  {
   "cell_type": "code",
   "execution_count": 9,
   "metadata": {},
   "outputs": [
    {
     "name": "stdout",
     "output_type": "stream",
     "text": [
      "[1. 2. 3. 4.]\n"
     ]
    },
    {
     "data": {
      "text/plain": [
       "dtype('float128')"
      ]
     },
     "execution_count": 9,
     "metadata": {},
     "output_type": "execute_result"
    }
   ],
   "source": [
    "ay = ax.astype(np.float128)\n",
    "print(ay)\n",
    "ay.dtype"
   ]
  },
  {
   "cell_type": "markdown",
   "metadata": {},
   "source": [
    "<h2>Basic operations</h2>"
   ]
  },
  {
   "cell_type": "markdown",
   "metadata": {},
   "source": [
    "<h4>statistical operations</h4>"
   ]
  },
  {
   "cell_type": "code",
   "execution_count": 10,
   "metadata": {},
   "outputs": [
    {
     "name": "stdout",
     "output_type": "stream",
     "text": [
      "97.50000000000001\n",
      "19.500000000000004\n",
      "3.8429155598321434\n"
     ]
    }
   ],
   "source": [
    "x = np.array([13,24,21.2,17.6,21.7],'float')\n",
    "# several algebra functions for array: .sum(), .mean(), .std()\n",
    "# print(,sep='\\n')\n",
    "print(x.sum(),x.mean(),x.std(),sep='\\n')"
   ]
  },
  {
   "cell_type": "markdown",
   "metadata": {},
   "source": [
    "<h4>arrray arithmetic operations</h4>\n",
    "<li><b>Important</b>: Arrays must be the same size!"
   ]
  },
  {
   "cell_type": "code",
   "execution_count": 11,
   "metadata": {},
   "outputs": [
    {
     "data": {
      "text/plain": [
       "array([12. , 21. , 17.2, 10.6, 19.7])"
      ]
     },
     "execution_count": 11,
     "metadata": {},
     "output_type": "execute_result"
    }
   ],
   "source": [
    "# we can specify the type of array's item by adding a parameter follows that\n",
    "x = np.array([13,24,21.2,17.6,21.7],'float')\n",
    "y = np.array([1,3,4,7,2],'float')\n",
    "x - y"
   ]
  },
  {
   "cell_type": "code",
   "execution_count": 12,
   "metadata": {},
   "outputs": [
    {
     "data": {
      "text/plain": [
       "array([14. , 27. , 25.2, 24.6, 23.7])"
      ]
     },
     "execution_count": 12,
     "metadata": {},
     "output_type": "execute_result"
    }
   ],
   "source": [
    "x+y"
   ]
  },
  {
   "cell_type": "code",
   "execution_count": 13,
   "metadata": {},
   "outputs": [
    {
     "data": {
      "text/plain": [
       "array([ 13. ,  72. ,  84.8, 123.2,  43.4])"
      ]
     },
     "execution_count": 13,
     "metadata": {},
     "output_type": "execute_result"
    }
   ],
   "source": [
    "x*y"
   ]
  },
  {
   "cell_type": "code",
   "execution_count": 14,
   "metadata": {},
   "outputs": [
    {
     "data": {
      "text/plain": [
       "array([13.        ,  8.        ,  5.3       ,  2.51428571, 10.85      ])"
      ]
     },
     "execution_count": 14,
     "metadata": {},
     "output_type": "execute_result"
    }
   ],
   "source": [
    "x/y"
   ]
  },
  {
   "cell_type": "markdown",
   "metadata": {},
   "source": [
    "<h2>Multi-dimensional arrays</h2>"
   ]
  },
  {
   "cell_type": "code",
   "execution_count": 7,
   "metadata": {},
   "outputs": [
    {
     "name": "stdout",
     "output_type": "stream",
     "text": [
      "[[ 0.  1.  2.  3.  4.  5.]\n",
      " [10. 11. 12. 13. 14. 15.]\n",
      " [20. 21. 22. 23. 24. 25.]]\n"
     ]
    }
   ],
   "source": [
    "x=[[0,1,2,3,4,5],[10,11,12,13,14,15],[20,21,22,23,24,25]]\n",
    "ax=np.array(x,'float')\n",
    "print(ax)"
   ]
  },
  {
   "cell_type": "markdown",
   "metadata": {},
   "source": [
    "<h3>Indexing</h3>"
   ]
  },
  {
   "cell_type": "code",
   "execution_count": 8,
   "metadata": {
    "scrolled": true
   },
   "outputs": [
    {
     "data": {
      "text/plain": [
       "array([[13., 14., 15.],\n",
       "       [23., 24., 25.]])"
      ]
     },
     "execution_count": 8,
     "metadata": {},
     "output_type": "execute_result"
    }
   ],
   "source": [
    "ax[1:,3:] #indexing"
   ]
  },
  {
   "cell_type": "code",
   "execution_count": 10,
   "metadata": {},
   "outputs": [
    {
     "data": {
      "text/plain": [
       "array([[ 1,  2,  3],\n",
       "       [ 4,  5,  6],\n",
       "       [ 7,  8,  9],\n",
       "       [10, 11, 12],\n",
       "       [13, 14, 15],\n",
       "       [16, 17, 18]])"
      ]
     },
     "execution_count": 10,
     "metadata": {},
     "output_type": "execute_result"
    }
   ],
   "source": [
    "ax = np.arange(1,19).reshape(6,3)\n",
    "ax"
   ]
  },
  {
   "cell_type": "code",
   "execution_count": 9,
   "metadata": {},
   "outputs": [
    {
     "data": {
      "text/plain": [
       "array([8, 3])"
      ]
     },
     "execution_count": 9,
     "metadata": {},
     "output_type": "execute_result"
    }
   ],
   "source": [
    "ax = np.arange(1,19).reshape(6,3)\n",
    "ax[(2,0), (1,2)]\n",
    "# ax"
   ]
  },
  {
   "cell_type": "code",
   "execution_count": 6,
   "metadata": {},
   "outputs": [
    {
     "data": {
      "text/plain": [
       "array([ 0., 25.])"
      ]
     },
     "execution_count": 6,
     "metadata": {},
     "output_type": "execute_result"
    }
   ],
   "source": [
    "ax[(0,2),(0,5)] # it is like matching two coordinates -- 0 and 0, 2 and 5"
   ]
  },
  {
   "cell_type": "markdown",
   "metadata": {},
   "source": [
    "<h3>Slicing</h3>"
   ]
  },
  {
   "cell_type": "code",
   "execution_count": 7,
   "metadata": {},
   "outputs": [
    {
     "data": {
      "text/plain": [
       "array([[12., 13.],\n",
       "       [22., 23.]])"
      ]
     },
     "execution_count": 7,
     "metadata": {},
     "output_type": "execute_result"
    }
   ],
   "source": [
    "ax[1:3,2:4]\n",
    "#Intersection between ax[1:3,:] and ax[:,2:4]"
   ]
  },
  {
   "cell_type": "code",
   "execution_count": 8,
   "metadata": {},
   "outputs": [
    {
     "data": {
      "text/plain": [
       "array([12., 23.])"
      ]
     },
     "execution_count": 8,
     "metadata": {},
     "output_type": "execute_result"
    }
   ],
   "source": [
    "ax[[1,2],[2,3]] # how is this different with the previous one?\n",
    "# the same as ax[(1,2), (2,3)]"
   ]
  },
  {
   "cell_type": "code",
   "execution_count": 9,
   "metadata": {},
   "outputs": [
    {
     "data": {
      "text/plain": [
       "array([12., 23.])"
      ]
     },
     "execution_count": 9,
     "metadata": {},
     "output_type": "execute_result"
    }
   ],
   "source": [
    "ax[(1,2), (2,3)]"
   ]
  },
  {
   "cell_type": "code",
   "execution_count": 20,
   "metadata": {},
   "outputs": [
    {
     "data": {
      "text/plain": [
       "array([0, 1, 2, 3, 4, 5, 6, 7, 8, 9])"
      ]
     },
     "execution_count": 20,
     "metadata": {},
     "output_type": "execute_result"
    }
   ],
   "source": [
    "a = np.arange(0,10,1)\n",
    "# a[2:10]\n",
    "a"
   ]
  },
  {
   "cell_type": "code",
   "execution_count": 4,
   "metadata": {},
   "outputs": [
    {
     "data": {
      "text/plain": [
       "array([[0, 1, 2],\n",
       "       [3, 4, 5],\n",
       "       [6, 7, 8]])"
      ]
     },
     "execution_count": 4,
     "metadata": {},
     "output_type": "execute_result"
    }
   ],
   "source": [
    "np.arange(0,9).reshape(3,3)"
   ]
  },
  {
   "cell_type": "markdown",
   "metadata": {},
   "source": [
    "<h3>Reshaping</h3>\n",
    "<li>nd arrays can be reshaped as long as the total dimensionality is unchanged\n"
   ]
  },
  {
   "cell_type": "code",
   "execution_count": 10,
   "metadata": {},
   "outputs": [
    {
     "name": "stdout",
     "output_type": "stream",
     "text": [
      "[[ 0.  1.  2.  3.  4.  5.]\n",
      " [10. 11. 12. 13. 14. 15.]\n",
      " [20. 21. 22. 23. 24. 25.]]\n",
      "(3, 6)\n"
     ]
    },
    {
     "data": {
      "text/plain": [
       "array([[ 0.,  1.],\n",
       "       [ 2.,  3.],\n",
       "       [ 4.,  5.],\n",
       "       [10., 11.],\n",
       "       [12., 13.],\n",
       "       [14., 15.],\n",
       "       [20., 21.],\n",
       "       [22., 23.],\n",
       "       [24., 25.]])"
      ]
     },
     "execution_count": 10,
     "metadata": {},
     "output_type": "execute_result"
    }
   ],
   "source": [
    "print(ax)\n",
    "print(ax.shape)\n",
    "ax.reshape(9,2)\n",
    "# ax.reshape(10,3)"
   ]
  },
  {
   "cell_type": "markdown",
   "metadata": {},
   "source": [
    "<h3>Creating nd arrays</h3>"
   ]
  },
  {
   "cell_type": "markdown",
   "metadata": {},
   "source": [
    "<h4>Using the <i>array</i> function</h4>"
   ]
  },
  {
   "cell_type": "code",
   "execution_count": 22,
   "metadata": {},
   "outputs": [
    {
     "data": {
      "text/plain": [
       "array([[0, 1, 2, 3, 4],\n",
       "       [5, 6, 7, 8, 9]])"
      ]
     },
     "execution_count": 22,
     "metadata": {},
     "output_type": "execute_result"
    }
   ],
   "source": [
    "data = [[0,1,2,3,4],[5,6,7,8,9]]\n",
    "data_array = np.array(data)\n",
    "data_array"
   ]
  },
  {
   "cell_type": "markdown",
   "metadata": {},
   "source": [
    "<h4>Using initializers</h4>"
   ]
  },
  {
   "cell_type": "markdown",
   "metadata": {},
   "source": [
    "<li>The <i>arrange</i> (array range) function\n"
   ]
  },
  {
   "cell_type": "code",
   "execution_count": 23,
   "metadata": {},
   "outputs": [
    {
     "name": "stdout",
     "output_type": "stream",
     "text": [
      "[0 1 2 3 4 5 6 7 8 9]\n",
      "[[0 1 2 3 4 5 6 7 8 9]\n",
      " [0 1 2 3 4 5 6 7 8 9]]\n"
     ]
    },
    {
     "data": {
      "text/plain": [
       "dtype('int64')"
      ]
     },
     "execution_count": 23,
     "metadata": {},
     "output_type": "execute_result"
    }
   ],
   "source": [
    "ax = np.arange(10)\n",
    "print(ax)\n",
    "ay = np.array([np.arange(10),np.arange(10)]) # Be aware how this is regarded as a 2d array\n",
    "print(ay)\n",
    "ax.dtype"
   ]
  },
  {
   "cell_type": "code",
   "execution_count": 24,
   "metadata": {},
   "outputs": [
    {
     "name": "stdout",
     "output_type": "stream",
     "text": [
      "[ 0  1  4  9 16 25 36 49 64 81]\n"
     ]
    },
    {
     "data": {
      "text/plain": [
       "numpy.ndarray"
      ]
     },
     "execution_count": 24,
     "metadata": {},
     "output_type": "execute_result"
    }
   ],
   "source": [
    "ax = np.arange(10)**2\n",
    "print(ax)\n",
    "type(ax)"
   ]
  },
  {
   "cell_type": "markdown",
   "metadata": {},
   "source": [
    "<li>The <i>ones</i> function creates an array of 1s (floats)"
   ]
  },
  {
   "cell_type": "code",
   "execution_count": 14,
   "metadata": {},
   "outputs": [
    {
     "data": {
      "text/plain": [
       "10"
      ]
     },
     "execution_count": 14,
     "metadata": {},
     "output_type": "execute_result"
    }
   ],
   "source": [
    "ax = np.ones([10,2])\n",
    "len(ax)"
   ]
  },
  {
   "cell_type": "code",
   "execution_count": 25,
   "metadata": {},
   "outputs": [
    {
     "name": "stdout",
     "output_type": "stream",
     "text": [
      "[1. 1. 1. 1. 1. 1. 1. 1. 1. 1.]\n"
     ]
    },
    {
     "data": {
      "text/plain": [
       "dtype('float64')"
      ]
     },
     "execution_count": 25,
     "metadata": {},
     "output_type": "execute_result"
    }
   ],
   "source": [
    "ax = np.ones(10)\n",
    "print(ax)\n",
    "ax.dtype"
   ]
  },
  {
   "cell_type": "code",
   "execution_count": 12,
   "metadata": {},
   "outputs": [
    {
     "name": "stdout",
     "output_type": "stream",
     "text": [
      "[[1 1 1 1]\n",
      " [1 1 1 1]]\n"
     ]
    },
    {
     "data": {
      "text/plain": [
       "array([[1, 2, 3, 4],\n",
       "       [5, 6, 7, 8]])"
      ]
     },
     "execution_count": 12,
     "metadata": {},
     "output_type": "execute_result"
    }
   ],
   "source": [
    "ax = np.array([[1,2,3,4],[5,6,7,8]])\n",
    "ay = np.ones_like(ax)\n",
    "print(ay)\n",
    "ax"
   ]
  },
  {
   "cell_type": "code",
   "execution_count": 27,
   "metadata": {},
   "outputs": [
    {
     "data": {
      "text/plain": [
       "array([[0, 0, 0, 0],\n",
       "       [0, 0, 0, 0]])"
      ]
     },
     "execution_count": 27,
     "metadata": {},
     "output_type": "execute_result"
    }
   ],
   "source": [
    "# np.ones_like(ax), np.zeros_like(ax)\n",
    "ay = np.zeros_like(ax)\n",
    "ay"
   ]
  },
  {
   "cell_type": "markdown",
   "metadata": {},
   "source": [
    "<li>The <i>identity(n)</i> function creates an identity matrix of order n"
   ]
  },
  {
   "cell_type": "code",
   "execution_count": 28,
   "metadata": {},
   "outputs": [
    {
     "data": {
      "text/plain": [
       "array([[1., 0., 0., 0., 0., 0., 0., 0., 0., 0.],\n",
       "       [0., 1., 0., 0., 0., 0., 0., 0., 0., 0.],\n",
       "       [0., 0., 1., 0., 0., 0., 0., 0., 0., 0.],\n",
       "       [0., 0., 0., 1., 0., 0., 0., 0., 0., 0.],\n",
       "       [0., 0., 0., 0., 1., 0., 0., 0., 0., 0.],\n",
       "       [0., 0., 0., 0., 0., 1., 0., 0., 0., 0.],\n",
       "       [0., 0., 0., 0., 0., 0., 1., 0., 0., 0.],\n",
       "       [0., 0., 0., 0., 0., 0., 0., 1., 0., 0.],\n",
       "       [0., 0., 0., 0., 0., 0., 0., 0., 1., 0.],\n",
       "       [0., 0., 0., 0., 0., 0., 0., 0., 0., 1.]])"
      ]
     },
     "execution_count": 28,
     "metadata": {},
     "output_type": "execute_result"
    }
   ],
   "source": [
    "np.identity(10)"
   ]
  },
  {
   "cell_type": "markdown",
   "metadata": {},
   "source": [
    "<li>The function <i>empty</i> creates an \"empty\" array\n",
    "<li>Values in the array are \"garbage\" values"
   ]
  },
  {
   "cell_type": "code",
   "execution_count": 29,
   "metadata": {},
   "outputs": [
    {
     "data": {
      "text/plain": [
       "array([[4.64824859e-310, 0.00000000e+000, 0.00000000e+000],\n",
       "       [0.00000000e+000, 0.00000000e+000, 0.00000000e+000]])"
      ]
     },
     "execution_count": 29,
     "metadata": {},
     "output_type": "execute_result"
    }
   ],
   "source": [
    "np.empty([2,3],float)"
   ]
  },
  {
   "cell_type": "markdown",
   "metadata": {},
   "source": [
    "<h3>Matrix multiplication</h3>\n"
   ]
  },
  {
   "cell_type": "code",
   "execution_count": 13,
   "metadata": {},
   "outputs": [
    {
     "data": {
      "text/plain": [
       "array([[ 0,  2,  4,  6,  8, 10, 12, 14, 16, 18],\n",
       "       [ 0,  2,  4,  6,  8, 10, 12, 14, 16, 18]])"
      ]
     },
     "execution_count": 13,
     "metadata": {},
     "output_type": "execute_result"
    }
   ],
   "source": [
    "ax = np.arange(10)\n",
    "ay = np.array([ax,ax])\n",
    "#Scalar multiplication\n",
    "ay*2"
   ]
  },
  {
   "cell_type": "code",
   "execution_count": 14,
   "metadata": {},
   "outputs": [
    {
     "data": {
      "text/plain": [
       "array([[220, 265],\n",
       "       [220, 265]])"
      ]
     },
     "execution_count": 14,
     "metadata": {},
     "output_type": "execute_result"
    }
   ],
   "source": [
    "np.dot(ay,ay.reshape(10,2)) #Dot product"
   ]
  },
  {
   "cell_type": "markdown",
   "metadata": {},
   "source": [
    "<h2>Lists vs numpy arrays</h2>\n",
    "<li>Lists are heterogenous. Elements of a list can be of multiple types\n",
    "<li>Numpy arrays are homogeneous. Elements can be of only one type\n",
    "<li>Both are mutable\n",
    "<li>Homogeneity makes indexed access faster and more memory efficient\n",
    "<li>numpy are optimized for matrix operations\n",
    "<li>numpy provides random number support\n"
   ]
  },
  {
   "cell_type": "markdown",
   "metadata": {},
   "source": [
    "<h3>numpy arrays are homogeneous</h3>"
   ]
  },
  {
   "cell_type": "markdown",
   "metadata": {},
   "source": [
    "<h3>numpy arrays are faster</h3>"
   ]
  },
  {
   "cell_type": "code",
   "execution_count": 32,
   "metadata": {},
   "outputs": [
    {
     "name": "stdout",
     "output_type": "stream",
     "text": [
      "[[  0   1   4   9  16  25  36  49  64  81]\n",
      " [  0   1   8  27  64 125 216 343 512 729]]\n",
      "[[  0   0]\n",
      " [  1   1]\n",
      " [  4   8]\n",
      " [  9  27]\n",
      " [ 16  64]\n",
      " [ 25 125]\n",
      " [ 36 216]\n",
      " [ 49 343]\n",
      " [ 64 512]\n",
      " [ 81 729]]\n"
     ]
    },
    {
     "data": {
      "text/plain": [
       "array([[ 15333, 120825],\n",
       "       [120825, 978405]])"
      ]
     },
     "execution_count": 32,
     "metadata": {},
     "output_type": "execute_result"
    }
   ],
   "source": [
    "n=10\n",
    "ax = np.array([np.arange(n)**2,np.arange(n)**3])\n",
    "ay = ax.transpose()\n",
    "print(ax)\n",
    "print(ay)\n",
    "np.dot(ax,ay)"
   ]
  },
  {
   "cell_type": "markdown",
   "metadata": {},
   "source": [
    "<h4>Functionalize this</h4>\n"
   ]
  },
  {
   "cell_type": "code",
   "execution_count": 3,
   "metadata": {},
   "outputs": [
    {
     "name": "stdout",
     "output_type": "stream",
     "text": [
      "[[  0   1   4   9  16  25  36  49  64  81]\n",
      " [  0   1   8  27  64 125 216 343 512 729]]\n"
     ]
    },
    {
     "data": {
      "text/plain": [
       "datetime.timedelta(microseconds=19847)"
      ]
     },
     "execution_count": 3,
     "metadata": {},
     "output_type": "execute_result"
    }
   ],
   "source": [
    "def dotproduct(n):\n",
    "    ax = np.array([np.arange(n)**2,np.arange(n)**3])\n",
    "    print(ax)\n",
    "    ay = ax.transpose()\n",
    "    import datetime\n",
    "    start = datetime.datetime.now()\n",
    "    np.dot(ax,ay)\n",
    "    end = datetime.datetime.now()\n",
    "    return end-start\n",
    "    \n",
    "dotproduct(10)    "
   ]
  },
  {
   "cell_type": "markdown",
   "metadata": {},
   "source": [
    "<h4>Do the same with python lists</h4>\n"
   ]
  },
  {
   "cell_type": "code",
   "execution_count": 34,
   "metadata": {},
   "outputs": [
    {
     "data": {
      "text/plain": [
       "datetime.timedelta(microseconds=12)"
      ]
     },
     "execution_count": 34,
     "metadata": {},
     "output_type": "execute_result"
    }
   ],
   "source": [
    "\n",
    "def dot_product_lists(n):\n",
    "    x = [x**2 for x in range(n)]\n",
    "    y = [x**3 for x in range(n)]\n",
    "    ax = [x,y]\n",
    "    ay = [list(i) for i in zip(*ax)]\n",
    "    import datetime\n",
    "    start = datetime.datetime.now()\n",
    "    [[sum(a*b for a,b in zip(X_row,Y_col)) for Y_col in zip(*ay)] for X_row in ax]\n",
    "    end = datetime.datetime.now()\n",
    "    return end-start\n",
    "    \n",
    "dot_product_lists(10)"
   ]
  },
  {
   "cell_type": "markdown",
   "metadata": {},
   "source": [
    "<h4>Compare the two</h4>"
   ]
  },
  {
   "cell_type": "code",
   "execution_count": 35,
   "metadata": {},
   "outputs": [
    {
     "name": "stdout",
     "output_type": "stream",
     "text": [
      "10\t0:00:00.000022\t0:00:00.000015\n",
      "100\t0:00:00.000012\t0:00:00.000038\n",
      "1000\t0:00:00.000011\t0:00:00.000407\n",
      "10000\t0:00:00.000035\t0:00:00.005772\n",
      "1000000\t0:00:00.005215\t0:00:01.188531\n"
     ]
    }
   ],
   "source": [
    "for n in [10,100,1000,10000,1000000]:\n",
    "    numpy_result = dotproduct(n)\n",
    "    list_result = dot_product_lists(n)\n",
    "    print(n,numpy_result,list_result,sep='\\t')"
   ]
  },
  {
   "cell_type": "markdown",
   "metadata": {},
   "source": [
    "<h3>numpy indexing vs list indexing</h3>\n",
    "<li>numpy arrays use direct indexing\n",
    "<li>lists use chained indexing"
   ]
  },
  {
   "cell_type": "code",
   "execution_count": 22,
   "metadata": {},
   "outputs": [
    {
     "name": "stdout",
     "output_type": "stream",
     "text": [
      "[1 9]\n"
     ]
    }
   ],
   "source": [
    "ax = np.array([1,2,3,4,8,9])\n",
    "x = [1,2,3,4,8,9]\n",
    "\n",
    "#Extract the first and last elements from the numpy array into a single array\n",
    "print(ax[[0, -1]])\n",
    "\n",
    "#Extract the first and last elements from the list into a new list\n",
    "#[x[0],x[-1]]"
   ]
  },
  {
   "cell_type": "markdown",
   "metadata": {},
   "source": [
    "<h3>numpy slicing vs list slicing</h3>"
   ]
  },
  {
   "cell_type": "code",
   "execution_count": 37,
   "metadata": {},
   "outputs": [
    {
     "data": {
      "text/plain": [
       "array([[22, 23],\n",
       "       [32, 33]])"
      ]
     },
     "execution_count": 37,
     "metadata": {},
     "output_type": "execute_result"
    }
   ],
   "source": [
    "ax = np.array([[11,12,13,14],[21,22,23,24],[31,32,33,34]])\n",
    "ax[1:3,1:3]\n"
   ]
  },
  {
   "cell_type": "code",
   "execution_count": 38,
   "metadata": {},
   "outputs": [
    {
     "data": {
      "text/plain": [
       "array([[11, 12, 13, 14],\n",
       "       [21, 22, 23, 24],\n",
       "       [31, 32, 33, 34]])"
      ]
     },
     "execution_count": 38,
     "metadata": {},
     "output_type": "execute_result"
    }
   ],
   "source": [
    "ax"
   ]
  },
  {
   "cell_type": "code",
   "execution_count": 39,
   "metadata": {},
   "outputs": [],
   "source": [
    "lx = [[11,12,13,14],[21,22,23,24],[31,32,33,34]]\n",
    "#HELP!"
   ]
  },
  {
   "cell_type": "markdown",
   "metadata": {
    "collapsed": true
   },
   "source": [
    "<h2>batch operations on nd arrays</h2>\n",
    "<li>numpy arrays allow the application of batch operations on all elements of an array\n",
    "<li>without having to write a for loop or use an iterator\n",
    "<li>by <i>vectorizing</i> operations, numpy is much faster than the slow for loop structure of python\n"
   ]
  },
  {
   "cell_type": "markdown",
   "metadata": {},
   "source": [
    "<h3>batch: selecting elements using a boolean mask</h3>\n",
    "<li> A boolean max applies a condition to each element in turn\n",
    "<li> And returns an array of boolean with\n",
    "<ul>\n",
    "<li> True for each value that satisfies the condition\n",
    "<li> False for every other value"
   ]
  },
  {
   "cell_type": "code",
   "execution_count": 17,
   "metadata": {
    "scrolled": true
   },
   "outputs": [
    {
     "data": {
      "text/plain": [
       "array([ True,  True, False, False,  True,  True, False, False, False,\n",
       "        True])"
      ]
     },
     "execution_count": 17,
     "metadata": {},
     "output_type": "execute_result"
    }
   ],
   "source": [
    "ax = np.array([1,4,7,9,2,3,10,11,34,2])\n",
    "ax < 7"
   ]
  },
  {
   "cell_type": "markdown",
   "metadata": {},
   "source": [
    "<h4>The mask can be applied as a selection operator on the array"
   ]
  },
  {
   "cell_type": "code",
   "execution_count": 18,
   "metadata": {},
   "outputs": [
    {
     "data": {
      "text/plain": [
       "array([1, 4, 2, 3, 2])"
      ]
     },
     "execution_count": 18,
     "metadata": {},
     "output_type": "execute_result"
    }
   ],
   "source": [
    "ax[ax<7]"
   ]
  },
  {
   "cell_type": "markdown",
   "metadata": {},
   "source": [
    "<h4>The mask doesn't have to be constructed on the same array</h4>\n",
    "<li>But the mask and the array should have the same dimensions"
   ]
  },
  {
   "cell_type": "code",
   "execution_count": 20,
   "metadata": {},
   "outputs": [
    {
     "data": {
      "text/plain": [
       "array(['Bill', 'Sally'], dtype='<U8')"
      ]
     },
     "execution_count": 20,
     "metadata": {},
     "output_type": "execute_result"
    }
   ],
   "source": [
    "names = np.array(['Bill','Sally','Qing','Savitri','Giovanni'])\n",
    "bonus = np.array([232300.56,478123.45,3891.24,98012.36,52123.50])\n",
    "names[bonus > 130000]\n",
    "# check how the masks can be applied across arrays"
   ]
  },
  {
   "cell_type": "markdown",
   "metadata": {},
   "source": [
    "<h3>batch: arithmentic operations</h3>\n",
    "<li>+, -, *, /, scalar multiplication do an element by element operation"
   ]
  },
  {
   "cell_type": "code",
   "execution_count": 21,
   "metadata": {},
   "outputs": [
    {
     "data": {
      "text/plain": [
       "array([[1.        , 0.5       , 0.33333333],\n",
       "       [0.25      , 0.2       , 0.16666667]])"
      ]
     },
     "execution_count": 21,
     "metadata": {},
     "output_type": "execute_result"
    }
   ],
   "source": [
    "ax = np.array([[1,2,3],[4,5,6]])\n",
    "1/ax\n"
   ]
  },
  {
   "cell_type": "markdown",
   "metadata": {},
   "source": [
    "<h3>batch: functional artithmetic operators</h3>"
   ]
  },
  {
   "cell_type": "code",
   "execution_count": 25,
   "metadata": {},
   "outputs": [
    {
     "name": "stdout",
     "output_type": "stream",
     "text": [
      "2\n",
      "5\n",
      "True\n",
      "False\n"
     ]
    }
   ],
   "source": [
    "ax = np.array([4,9,2,4,0,25,0])\n",
    "print(np.sum(ax>5))\n",
    "print(np.count_nonzero(ax))\n",
    "print(np.any(ax>10))\n",
    "print(np.all(ax>0))"
   ]
  },
  {
   "cell_type": "markdown",
   "metadata": {},
   "source": [
    "<h3>Logical operations with numpy</h3>\n",
    "<li>logical_or\n",
    "<li>logical_and"
   ]
  },
  {
   "cell_type": "code",
   "execution_count": 24,
   "metadata": {},
   "outputs": [
    {
     "data": {
      "text/plain": [
       "array([ True, False, False,  True, False])"
      ]
     },
     "execution_count": 24,
     "metadata": {},
     "output_type": "execute_result"
    }
   ],
   "source": [
    "np.logical_and(bonus>90000.0, bonus<400000 )"
   ]
  },
  {
   "cell_type": "code",
   "execution_count": 27,
   "metadata": {},
   "outputs": [
    {
     "data": {
      "text/plain": [
       "array(['Bill', 'Savitri'], dtype='<U8')"
      ]
     },
     "execution_count": 27,
     "metadata": {},
     "output_type": "execute_result"
    }
   ],
   "source": [
    "names[(bonus > 90000) & (bonus < 400000)]"
   ]
  },
  {
   "cell_type": "markdown",
   "metadata": {},
   "source": [
    "<h4>Boolean operators</h4>\n",
    "<li>the numpy equivalent of \"and\" is \"&\"\n",
    "<li>the numpy equivalent of \"or\" is \"|\"\n",
    "<li>the numpy equivalent of \"not\" is \"!\"\n"
   ]
  },
  {
   "cell_type": "code",
   "execution_count": 31,
   "metadata": {},
   "outputs": [
    {
     "name": "stdout",
     "output_type": "stream",
     "text": [
      "150135.86\n",
      "165641.21099354434\n",
      "236191.8\n",
      "632150.55\n",
      "628259.31\n"
     ]
    }
   ],
   "source": [
    "print(np.sum(bonus[(bonus>50000) & (bonus < 200000)]))\n",
    "print(np.std(bonus[(names == 'Sally') | (names != 'Qing')]))\n",
    "print(np.sum(bonus[(names==\"Bill\") | (names == \"Qing\")]))\n",
    "print(np.sum(bonus[(names!=\"Bill\")]))\n",
    "print(np.sum(bonus[~((names==\"Bill\") | (names == \"Qing\"))]))\n"
   ]
  },
  {
   "cell_type": "markdown",
   "metadata": {},
   "source": [
    "<b>Problem</b> Calculate the mean and median bonus anount for all female employees with bonus less than $100,000"
   ]
  },
  {
   "cell_type": "code",
   "execution_count": 13,
   "metadata": {},
   "outputs": [],
   "source": [
    "names = np.array(['Bill','Sally','Qing','Savitri','Giovanni'])\n",
    "bonus = np.array([232300.56,478123.45,3891.24,98012.36,52123.50])\n",
    "gender = np.array(['M','F','F','F','M'])\n",
    "\n"
   ]
  },
  {
   "cell_type": "code",
   "execution_count": 14,
   "metadata": {},
   "outputs": [
    {
     "data": {
      "text/plain": [
       "50951.8"
      ]
     },
     "execution_count": 14,
     "metadata": {},
     "output_type": "execute_result"
    }
   ],
   "source": [
    "np.mean(bonus[(gender == 'F') & (bonus < 100000)])"
   ]
  },
  {
   "cell_type": "markdown",
   "metadata": {},
   "source": [
    "<b>Problem</b> Return an nd array containing the named of all female employees with bonus less than $100,000"
   ]
  },
  {
   "cell_type": "code",
   "execution_count": 49,
   "metadata": {},
   "outputs": [],
   "source": [
    "names = np.array(['Bill','Sally','Qing','Savitri','Giovanni'])\n",
    "bonus = np.array([232300.56,478123.45,3891.24,98012.36,52123.50])\n",
    "gender = np.array(['M','F','F','F','M'])\n"
   ]
  },
  {
   "cell_type": "markdown",
   "metadata": {},
   "source": [
    "<h3>batch: Selecting elements using where</h3>\n",
    "<li><i>where</i> function creates a new array using a conditional expression\n",
    "<li>Somewhat like the if function in an excel spreadsheet"
   ]
  },
  {
   "cell_type": "code",
   "execution_count": 50,
   "metadata": {},
   "outputs": [
    {
     "data": {
      "text/plain": [
       "array([1, 0, 0, 0, 0])"
      ]
     },
     "execution_count": 50,
     "metadata": {},
     "output_type": "execute_result"
    }
   ],
   "source": [
    "np.where(names == 'Bill',1,0)"
   ]
  },
  {
   "cell_type": "markdown",
   "metadata": {
    "collapsed": true
   },
   "source": [
    "<h2>axes</h2>\n",
    "<li>The axis parameter tells numpy which axis to operate along"
   ]
  },
  {
   "cell_type": "code",
   "execution_count": 34,
   "metadata": {},
   "outputs": [
    {
     "name": "stdout",
     "output_type": "stream",
     "text": [
      "(3, 4)\n",
      "[[ 1  2  3  4]\n",
      " [ 5  6  7  8]\n",
      " [ 9 10 11 12]]\n"
     ]
    }
   ],
   "source": [
    "ax = np.array([1,2,3,4,5,6,7,8,9,10,11,12])\n",
    "ax = ax.reshape(3,4)\n",
    "print(ax.shape)\n",
    "print(ax)"
   ]
  },
  {
   "cell_type": "markdown",
   "metadata": {},
   "source": [
    "<h4>sum each column</h4>"
   ]
  },
  {
   "cell_type": "code",
   "execution_count": 52,
   "metadata": {},
   "outputs": [
    {
     "data": {
      "text/plain": [
       "array([15, 18, 21, 24])"
      ]
     },
     "execution_count": 52,
     "metadata": {},
     "output_type": "execute_result"
    }
   ],
   "source": [
    "ax.sum(axis=0)"
   ]
  },
  {
   "cell_type": "markdown",
   "metadata": {},
   "source": [
    "<h4>sum each row</h4>"
   ]
  },
  {
   "cell_type": "code",
   "execution_count": 53,
   "metadata": {},
   "outputs": [
    {
     "data": {
      "text/plain": [
       "array([10, 26, 42])"
      ]
     },
     "execution_count": 53,
     "metadata": {},
     "output_type": "execute_result"
    }
   ],
   "source": [
    "ax.sum(axis=1)"
   ]
  },
  {
   "cell_type": "markdown",
   "metadata": {},
   "source": [
    "<h4>sum by depth</h4>"
   ]
  },
  {
   "cell_type": "code",
   "execution_count": 54,
   "metadata": {},
   "outputs": [
    {
     "data": {
      "text/plain": [
       "array([[ 3,  7, 11],\n",
       "       [15, 19, 23]])"
      ]
     },
     "execution_count": 54,
     "metadata": {},
     "output_type": "execute_result"
    }
   ],
   "source": [
    "ax=ax.reshape(2,3,2)\n",
    "ax.sum(axis=2)"
   ]
  },
  {
   "cell_type": "markdown",
   "metadata": {},
   "source": [
    "<h4>add an axis to an array</h4>\n"
   ]
  },
  {
   "cell_type": "code",
   "execution_count": 28,
   "metadata": {},
   "outputs": [
    {
     "name": "stdout",
     "output_type": "stream",
     "text": [
      "[ 1  2  3  4  5  6  7  8  9 10 11 12] (12,)\n",
      "[[ 1]\n",
      " [ 2]\n",
      " [ 3]\n",
      " [ 4]\n",
      " [ 5]\n",
      " [ 6]\n",
      " [ 7]\n",
      " [ 8]\n",
      " [ 9]\n",
      " [10]\n",
      " [11]\n",
      " [12]] (12, 1)\n",
      "[[ 1  2  3  4  5  6  7  8  9 10 11 12]] (1, 12)\n"
     ]
    }
   ],
   "source": [
    "ax = np.array([1,2,3,4,5,6,7,8,9,10,11,12])\n",
    "print(ax, ax.shape)\n",
    "# here the shape would be (12,) since it only has one dimension, comma denotes nothing followed by that\n",
    "# print(ax.reshape(1,12))\n",
    "ay = ax[:,np.newaxis]\n",
    "print(ay, ay.shape)\n",
    "az = ax[np.newaxis,:]\n",
    "print(az,az.shape)"
   ]
  },
  {
   "cell_type": "code",
   "execution_count": 10,
   "metadata": {},
   "outputs": [
    {
     "name": "stdout",
     "output_type": "stream",
     "text": [
      "[[ 1  2  3  4  5  6  7  8  9 10 11 12]]\n",
      "[ 1  2  3  4  5  6  7  8  9 10 11 12]\n"
     ]
    }
   ],
   "source": [
    "ax = np.array([1,2,3,4,5,6,7,8,9,10,11,12])\n",
    "ax.shape\n",
    "print(ax[np.newaxis])\n",
    "print(ax)"
   ]
  },
  {
   "cell_type": "markdown",
   "metadata": {},
   "source": [
    "<h4>Easy to add n-dimensions to an nd array using newaxis</h4>"
   ]
  },
  {
   "cell_type": "code",
   "execution_count": 57,
   "metadata": {},
   "outputs": [
    {
     "data": {
      "text/plain": [
       "array([[[[[ 1,  2,  3],\n",
       "          [ 4,  5,  6],\n",
       "          [ 7,  8,  9],\n",
       "          [10, 11, 12]]]]])"
      ]
     },
     "execution_count": 57,
     "metadata": {},
     "output_type": "execute_result"
    }
   ],
   "source": [
    "ax = ax.reshape(4,3)\n",
    "ax[np.newaxis,np.newaxis,np.newaxis,:,:]"
   ]
  },
  {
   "cell_type": "code",
   "execution_count": 58,
   "metadata": {},
   "outputs": [
    {
     "data": {
      "text/plain": [
       "array([[1, 0, 1, 0, 1, 0],\n",
       "       [1, 0, 1, 0, 1, 0],\n",
       "       [1, 0, 1, 0, 1, 0]])"
      ]
     },
     "execution_count": 58,
     "metadata": {},
     "output_type": "execute_result"
    }
   ],
   "source": [
    "x=[[0,1,2,3,4,5],[10,11,12,13,14,15],[20,21,22,23,24,25]]\n",
    "ax=np.array(x,float)\n",
    "# pay attention to the use of where\n",
    "np.where(ax%2==0,1,0)"
   ]
  },
  {
   "cell_type": "markdown",
   "metadata": {},
   "source": [
    "<h2>Broadcasting</h2>\n",
    "<li>arithmetic operations work element by element\n",
    "<li>so both arrays have to be of the same length\n",
    "<li><b>broadcasting</b> is used for arithmetic on arrays of different shapes"
   ]
  },
  {
   "cell_type": "code",
   "execution_count": 59,
   "metadata": {},
   "outputs": [
    {
     "data": {
      "text/plain": [
       "array([4, 4, 4])"
      ]
     },
     "execution_count": 59,
     "metadata": {},
     "output_type": "execute_result"
    }
   ],
   "source": [
    "ax = np.array([1,2,3])\n",
    "ay = np.array([3,2,1])\n",
    "ax+ay"
   ]
  },
  {
   "cell_type": "markdown",
   "metadata": {},
   "source": [
    "<li>when one operand is a scalar, numpy works as if it has created a second array\n",
    "<li>ax + 5 is equivalent to ax + np.array([5,5,5,])\n",
    "<li>note the \"as if\" because it doesn't actually do that\n",
    "<li>instead it <b>broadcasts</b> the 5 to each element of ax\n",
    "<li>we can do this broadcasting on any dimensional array"
   ]
  },
  {
   "cell_type": "code",
   "execution_count": 60,
   "metadata": {},
   "outputs": [
    {
     "data": {
      "text/plain": [
       "array([[1., 1., 1.],\n",
       "       [1., 1., 1.],\n",
       "       [1., 1., 1.]])"
      ]
     },
     "execution_count": 60,
     "metadata": {},
     "output_type": "execute_result"
    }
   ],
   "source": [
    "ay = np.ones([3,3])\n",
    "ay"
   ]
  },
  {
   "cell_type": "code",
   "execution_count": 61,
   "metadata": {},
   "outputs": [
    {
     "data": {
      "text/plain": [
       "array([[2., 3., 4.],\n",
       "       [2., 3., 4.],\n",
       "       [2., 3., 4.]])"
      ]
     },
     "execution_count": 61,
     "metadata": {},
     "output_type": "execute_result"
    }
   ],
   "source": [
    "ax = np.array([1,2,3])\n",
    "ax + ay"
   ]
  },
  {
   "cell_type": "markdown",
   "metadata": {},
   "source": [
    "<b>broadcasting</b> won't work when arrays are of incompatible dimensions"
   ]
  },
  {
   "cell_type": "code",
   "execution_count": 2,
   "metadata": {},
   "outputs": [
    {
     "name": "stdout",
     "output_type": "stream",
     "text": [
      "[[ 1]\n",
      " [ 2]\n",
      " [ 3]\n",
      " [ 4]\n",
      " [ 5]\n",
      " [ 6]\n",
      " [ 7]\n",
      " [ 8]\n",
      " [ 9]\n",
      " [10]\n",
      " [11]\n",
      " [12]]\n",
      "[ 1  2  3  4  5  6  7  8  9 10 11 12]\n"
     ]
    }
   ],
   "source": [
    "ax = np.array([1,2,3,4,5,6,7,8,9,10,11,12])\n",
    "\n",
    "ay = np.array([3,4,5])\n",
    "\n",
    "\n",
    "print(ax[:,np.newaxis])\n"
   ]
  },
  {
   "cell_type": "code",
   "execution_count": 48,
   "metadata": {},
   "outputs": [
    {
     "name": "stdout",
     "output_type": "stream",
     "text": [
      "[[ 4  5  6]\n",
      " [ 5  6  7]\n",
      " [ 6  7  8]\n",
      " [ 7  8  9]\n",
      " [ 8  9 10]\n",
      " [ 9 10 11]\n",
      " [10 11 12]\n",
      " [11 12 13]\n",
      " [12 13 14]\n",
      " [13 14 15]\n",
      " [14 15 16]\n",
      " [15 16 17]]\n",
      "[[ 1]\n",
      " [ 2]\n",
      " [ 3]\n",
      " [ 4]\n",
      " [ 5]\n",
      " [ 6]\n",
      " [ 7]\n",
      " [ 8]\n",
      " [ 9]\n",
      " [10]\n",
      " [11]\n",
      " [12]]\n"
     ]
    }
   ],
   "source": [
    "print(ax[:,np.newaxis] + ay)# its (1,12) + (3,1)\n",
    "print(ax[:,np.newaxis])"
   ]
  },
  {
   "cell_type": "markdown",
   "metadata": {},
   "source": [
    "<h4>np.newaxis is useful here because we can convert ax into a 2D array</h4>"
   ]
  },
  {
   "cell_type": "code",
   "execution_count": 52,
   "metadata": {},
   "outputs": [
    {
     "data": {
      "text/plain": [
       "array([[ 4,  5,  6],\n",
       "       [ 5,  6,  7],\n",
       "       [ 6,  7,  8],\n",
       "       [ 7,  8,  9],\n",
       "       [ 8,  9, 10],\n",
       "       [ 9, 10, 11],\n",
       "       [10, 11, 12],\n",
       "       [11, 12, 13],\n",
       "       [12, 13, 14],\n",
       "       [13, 14, 15],\n",
       "       [14, 15, 16],\n",
       "       [15, 16, 17]])"
      ]
     },
     "execution_count": 52,
     "metadata": {},
     "output_type": "execute_result"
    }
   ],
   "source": [
    "ax[:,np.newaxis] + ay"
   ]
  },
  {
   "cell_type": "code",
   "execution_count": 65,
   "metadata": {},
   "outputs": [
    {
     "data": {
      "text/plain": [
       "array([[ 4,  5,  6],\n",
       "       [ 5,  6,  7],\n",
       "       [ 6,  7,  8],\n",
       "       [ 7,  8,  9],\n",
       "       [ 8,  9, 10],\n",
       "       [ 9, 10, 11],\n",
       "       [10, 11, 12],\n",
       "       [11, 12, 13],\n",
       "       [12, 13, 14],\n",
       "       [13, 14, 15],\n",
       "       [14, 15, 16],\n",
       "       [15, 16, 17]])"
      ]
     },
     "execution_count": 65,
     "metadata": {},
     "output_type": "execute_result"
    }
   ],
   "source": [
    "#Broadcasting effectively does this:\n",
    "ax[:,np.newaxis] + np.array([[3,4,5],[3,4,5],[3,4,5],[3,4,5],[3,4,5],[3,4,5],[3,4,5],[3,4,5],[3,4,5],[3,4,5],[3,4,5],[3,4,5]])"
   ]
  },
  {
   "cell_type": "markdown",
   "metadata": {},
   "source": [
    "<h4>We could also convert ay into a 2D array</h4>\n",
    "<li>the result will be different (why?) "
   ]
  },
  {
   "cell_type": "code",
   "execution_count": 66,
   "metadata": {},
   "outputs": [
    {
     "data": {
      "text/plain": [
       "array([[ 4,  5,  6,  7,  8,  9, 10, 11, 12, 13, 14, 15],\n",
       "       [ 5,  6,  7,  8,  9, 10, 11, 12, 13, 14, 15, 16],\n",
       "       [ 6,  7,  8,  9, 10, 11, 12, 13, 14, 15, 16, 17]])"
      ]
     },
     "execution_count": 66,
     "metadata": {},
     "output_type": "execute_result"
    }
   ],
   "source": [
    "ax = np.array([1,2,3,4,5,6,7,8,9,10,11,12])\n",
    "ay = np.array([3,4,5])\n",
    "ax + ay[:,np.newaxis]"
   ]
  },
  {
   "cell_type": "markdown",
   "metadata": {},
   "source": [
    "<h2>Fancy indexing</h2>\n",
    "<li>numpy let's us work on indexed subsets of an nd array\n",
    "<li>this lets us construct arbitrary subsets of an nd array in any dimension"
   ]
  },
  {
   "cell_type": "code",
   "execution_count": 67,
   "metadata": {},
   "outputs": [
    {
     "data": {
      "text/plain": [
       "array([9, 1])"
      ]
     },
     "execution_count": 67,
     "metadata": {},
     "output_type": "execute_result"
    }
   ],
   "source": [
    "ax = np.array([4,3,9,2,1,6])\n",
    "ay = np.array([2,4])\n",
    "ax[ay]"
   ]
  },
  {
   "cell_type": "code",
   "execution_count": 68,
   "metadata": {},
   "outputs": [
    {
     "data": {
      "text/plain": [
       "array([[9, 1],\n",
       "       [3, 2]])"
      ]
     },
     "execution_count": 68,
     "metadata": {},
     "output_type": "execute_result"
    }
   ],
   "source": [
    "ay = np.array([[2,4],[1,3]])\n",
    "ax[ay]"
   ]
  },
  {
   "cell_type": "markdown",
   "metadata": {},
   "source": [
    "<h4>multi-dimentional indexes</h4>\n",
    "<li>In a 2-d, index, the index array is used to generate (row_number,col_number) pairs"
   ]
  },
  {
   "cell_type": "code",
   "execution_count": 69,
   "metadata": {},
   "outputs": [
    {
     "data": {
      "text/plain": [
       "array([34, 17])"
      ]
     },
     "execution_count": 69,
     "metadata": {},
     "output_type": "execute_result"
    }
   ],
   "source": [
    "ax = np.array([[23,34,21,34,22],[33,44,11,29,32],[14,90,10,20,17]])\n",
    "rows = np.array([0,2])\n",
    "cols = np.array([1,4])\n",
    "ax[rows,cols] # [ax[0,1],ax[2,4]]"
   ]
  },
  {
   "cell_type": "code",
   "execution_count": 70,
   "metadata": {},
   "outputs": [
    {
     "data": {
      "text/plain": [
       "array([[23, 34, 21, 34, 22],\n",
       "       [33, 44, 11, 29, 32],\n",
       "       [14, 90, 10, 20, 17]])"
      ]
     },
     "execution_count": 70,
     "metadata": {},
     "output_type": "execute_result"
    }
   ],
   "source": [
    "ax"
   ]
  },
  {
   "cell_type": "code",
   "execution_count": 71,
   "metadata": {},
   "outputs": [
    {
     "data": {
      "text/plain": [
       "array([[23, 22],\n",
       "       [14, 17]])"
      ]
     },
     "execution_count": 71,
     "metadata": {},
     "output_type": "execute_result"
    }
   ],
   "source": [
    "rows2 = np.array([[0,0],[2,2]])\n",
    "cols2 = np.array([[0,4],[0,4]])\n",
    "ax[rows2,cols2]"
   ]
  },
  {
   "cell_type": "code",
   "execution_count": 72,
   "metadata": {},
   "outputs": [
    {
     "data": {
      "text/plain": [
       "array([[11, 29, 32],\n",
       "       [10, 20, 17]])"
      ]
     },
     "execution_count": 72,
     "metadata": {},
     "output_type": "execute_result"
    }
   ],
   "source": [
    "ax[1:3,[2,3,4]]"
   ]
  },
  {
   "cell_type": "code",
   "execution_count": 73,
   "metadata": {},
   "outputs": [
    {
     "data": {
      "text/plain": [
       "array([[23, 22],\n",
       "       [14, 17]])"
      ]
     },
     "execution_count": 73,
     "metadata": {},
     "output_type": "execute_result"
    }
   ],
   "source": [
    "ax[0:3:2,0:5:4]"
   ]
  },
  {
   "cell_type": "code",
   "execution_count": 74,
   "metadata": {},
   "outputs": [],
   "source": [
    "# ax.reshape(5,3)"
   ]
  },
  {
   "cell_type": "markdown",
   "metadata": {},
   "source": [
    "<h2>Universal functions</h2>\n",
    "<li>functions that perform elementwise operations on arrays\n",
    "<li>fast \"wrapper\" functions that produce scalar (or lower dimension) results\n",
    "<li>sqrt, exp, add,maximum, minimum, abs, etc.\n",
    "<li>https://docs.scipy.org/doc/numpy/reference/ufuncs.html"
   ]
  },
  {
   "cell_type": "code",
   "execution_count": 11,
   "metadata": {},
   "outputs": [
    {
     "data": {
      "text/plain": [
       "array([   2.71828183,    7.3890561 ,   20.08553692,   54.59815003,\n",
       "        148.4131591 ,  403.42879349, 1096.63315843])"
      ]
     },
     "execution_count": 11,
     "metadata": {},
     "output_type": "execute_result"
    }
   ],
   "source": [
    "ax = np.array([1,2,3,4,5,6,7],float)\n",
    "np.sqrt(ax)\n",
    "np.exp(ax)"
   ]
  },
  {
   "cell_type": "code",
   "execution_count": 12,
   "metadata": {},
   "outputs": [
    {
     "data": {
      "text/plain": [
       "array([10., 11., 12., 13., 14., 15., 16.])"
      ]
     },
     "execution_count": 12,
     "metadata": {},
     "output_type": "execute_result"
    }
   ],
   "source": [
    "ay = np.arange(10,17)\n",
    "np.add(ax,ay)\n",
    "np.maximum(ax,ay)"
   ]
  },
  {
   "cell_type": "code",
   "execution_count": 77,
   "metadata": {},
   "outputs": [],
   "source": [
    "\n",
    "#linalg, a linear algebra module\n",
    "#functions dealing with polynomials, differentials, etc\n"
   ]
  },
  {
   "cell_type": "code",
   "execution_count": 78,
   "metadata": {},
   "outputs": [
    {
     "name": "stderr",
     "output_type": "stream",
     "text": [
      "<ipython-input-78-323a47b69711>:2: DeprecationWarning: scipy.nanmean is deprecated and will be removed in SciPy 2.0.0, use numpy.nanmean instead\n",
      "  scipy.nanmean(x)\n"
     ]
    },
    {
     "data": {
      "text/plain": [
       "12.5"
      ]
     },
     "execution_count": 78,
     "metadata": {},
     "output_type": "execute_result"
    }
   ],
   "source": [
    "import scipy\n",
    "scipy.nanmean(x)"
   ]
  },
  {
   "cell_type": "markdown",
   "metadata": {},
   "source": [
    "<h3>Random number support in numpy</h3>"
   ]
  },
  {
   "cell_type": "code",
   "execution_count": 79,
   "metadata": {},
   "outputs": [
    {
     "data": {
      "text/plain": [
       "array([-1.53907459, -1.21337694, -0.04993444, -1.3276927 , -0.95601297,\n",
       "       -1.28772498,  1.8485916 , -0.06770803, -0.32613141, -0.84073173])"
      ]
     },
     "execution_count": 79,
     "metadata": {},
     "output_type": "execute_result"
    }
   ],
   "source": [
    "np.random.normal(size=10)\n",
    "#np.random.normal(size=(100,100))\n",
    "#np.random.exponential()\n",
    "#np.random.exponential(1.0,size=(6,3))\n",
    "#np.random.randint(-10,10,size=(9,9))"
   ]
  },
  {
   "cell_type": "code",
   "execution_count": 18,
   "metadata": {},
   "outputs": [
    {
     "data": {
      "text/plain": [
       "array([ 2.57973618e-01, -2.21769601e+00,  1.08563070e+00,  4.27487931e-01,\n",
       "        3.95341375e-01,  1.37695196e+00,  1.95156502e+00, -3.56138447e-01,\n",
       "       -3.38998061e-02,  3.17932614e-01,  5.50741870e-01, -1.19184684e-01,\n",
       "       -1.15388239e+00,  8.76151087e-01,  1.58120732e-01, -2.69296010e-01,\n",
       "        3.72433554e-01, -1.04424752e+00, -5.38280500e-01, -1.06860013e+00,\n",
       "        1.29451277e+00,  7.90041211e-01, -1.06270981e-01,  1.84212977e-01,\n",
       "        2.18566130e-01,  1.54683172e+00,  1.19841591e+00, -1.31344624e-01,\n",
       "       -7.53881687e-01,  1.09075395e+00,  1.15185493e+00, -6.89035695e-01,\n",
       "        1.32487465e+00, -2.60967212e-02,  2.37579430e-02, -6.31111866e-01,\n",
       "        8.33151751e-01, -8.45994276e-01,  5.48626656e-01,  5.45024220e-01,\n",
       "        4.46916951e-01,  1.43988279e+00,  9.41255991e-01, -2.25067891e-02,\n",
       "        4.48751399e-01,  1.45800729e+00,  1.73999526e+00, -1.64735188e-02,\n",
       "        1.21040040e+00, -6.06753459e-02, -5.29275968e-02,  5.38987769e-01,\n",
       "        2.70112166e-01,  9.69986957e-01, -2.88220926e-01, -1.57704319e-01,\n",
       "        1.26222257e-01, -5.05541598e-01, -2.29535543e-01, -2.13717072e+00,\n",
       "       -6.53492521e-01,  2.91534255e-01, -1.43541945e+00,  9.16547201e-01,\n",
       "       -3.41394578e-01, -3.55578687e-01, -1.46791242e+00, -2.00826330e-02,\n",
       "       -2.98992612e-01, -1.00281581e+00,  1.65465094e+00, -3.12416951e-01,\n",
       "        1.29544668e+00, -7.41880614e-03,  9.72198796e-03, -6.12435243e-02,\n",
       "       -6.56649024e-01,  9.04237768e-01, -4.16947318e-01,  1.67054199e+00,\n",
       "       -1.01243373e+00,  1.17187019e+00,  2.15616173e+00,  2.54610496e-01,\n",
       "       -1.29622477e+00, -2.01807829e-01, -5.84667759e-01, -1.25689081e+00,\n",
       "       -1.00719935e+00, -1.13926822e+00, -2.33545253e+00, -1.69283849e+00,\n",
       "        2.69972121e-01,  7.14708240e-01,  5.47104473e-01, -1.42569233e+00,\n",
       "        5.26738698e-01,  1.33876055e-01,  9.06598246e-01, -8.83583541e-01,\n",
       "        7.99522146e-01, -6.78609292e-01, -5.04766081e-01, -1.97056638e-01,\n",
       "        6.44722260e-01,  1.02198261e+00,  1.08954700e+00,  8.00775348e-01,\n",
       "        1.02935337e+00, -3.68047150e-01,  9.51163208e-01,  3.04259780e-01,\n",
       "       -5.82524455e-01, -1.23352602e-01, -4.81028782e-01,  1.33479906e+00,\n",
       "        1.90692722e-01,  1.16059990e+00,  6.74729779e-01,  1.57321358e-01,\n",
       "       -1.98867032e-01, -6.35337323e-01, -7.96831517e-02, -2.23000745e-01,\n",
       "        6.88120340e-01, -3.10029587e-01, -2.41034296e+00,  2.48467581e-01,\n",
       "       -1.87647854e+00, -1.11217600e+00, -1.06211600e-01, -1.40270022e+00,\n",
       "        1.09123569e+00, -6.84313129e-01,  1.05968372e+00, -1.62645074e+00,\n",
       "       -1.25954776e+00,  3.10132974e-01, -4.41019818e-01, -1.48320206e+00,\n",
       "       -1.51723232e+00,  9.27081882e-01,  3.23181351e-02, -1.36748430e+00,\n",
       "       -3.64182658e-01,  8.01052498e-04,  4.35255387e-01,  6.24312798e-01,\n",
       "        4.15682589e-01, -5.87331421e-01, -2.95288959e+00,  1.23049896e+00,\n",
       "       -9.26351585e-01, -4.15209188e-01,  8.30109387e-01,  8.24376995e-01,\n",
       "        1.39802018e+00,  1.97698461e-01,  8.13361933e-01,  1.76619179e+00,\n",
       "       -3.12566428e-01,  8.49794728e-01, -5.41763477e-01, -6.70983506e-01,\n",
       "       -1.28307512e+00,  3.46295835e-01,  1.02828586e+00, -1.49498227e+00,\n",
       "        1.38469314e+00, -8.93433765e-02,  9.72703830e-01, -1.09091078e-01,\n",
       "        2.46226507e-01, -1.22630284e-01,  4.85957999e-01, -1.08040656e+00,\n",
       "        1.87828221e-01, -4.00100624e-02, -6.40997477e-01,  6.65236796e-01,\n",
       "        1.80797524e-01, -2.13104327e+00, -7.96379900e-01,  1.60499845e+00,\n",
       "       -5.30191998e-02, -2.14198162e+00, -3.07068835e-01,  7.85630636e-01,\n",
       "        1.25612617e+00,  3.72869975e-01, -1.20517791e+00,  4.71678352e-01,\n",
       "       -1.49787274e-01,  4.08129910e-02, -8.74868757e-01, -1.93989924e-01,\n",
       "       -2.45210264e-01,  1.49228470e-01,  2.13403050e-01,  9.02095343e-01,\n",
       "       -6.65074474e-03,  6.72989494e-01,  4.45861100e-01,  2.65298679e-01,\n",
       "        9.74011091e-01,  7.11917544e-01,  2.31825607e-02,  1.20189655e+00,\n",
       "       -1.19435743e+00, -6.09158473e-01,  4.27101533e-01,  1.65180172e+00,\n",
       "       -9.39888209e-03, -5.36805599e-01, -6.71686305e-01, -8.25047953e-01,\n",
       "       -2.27750851e-01,  3.27416960e-01, -1.18591896e+00,  4.75302036e-01,\n",
       "        2.09979321e+00,  7.68402142e-01, -1.44511202e-03, -1.03127329e+00,\n",
       "       -1.30257693e+00, -4.00493777e-02, -5.27884843e-01,  4.38377208e-02,\n",
       "        7.86882202e-01, -1.40867728e+00, -3.88166722e-01,  3.35965758e-01,\n",
       "       -1.30304578e+00,  3.21882922e-01, -6.59546187e-01,  1.79926957e-01,\n",
       "        1.59962602e+00,  1.35735251e-01, -6.54911155e-01,  1.09262391e+00,\n",
       "        4.73715366e-01,  7.47573965e-01,  1.14336292e+00,  1.08324391e+00,\n",
       "        3.62573621e-01,  1.94854580e-01, -4.11812726e-01,  8.47310063e-01,\n",
       "       -4.79743186e-01,  4.03818354e-01, -1.77257334e+00,  2.00701868e+00,\n",
       "        3.52699412e-04,  1.81314653e+00,  1.54185043e-01,  3.78797692e-01,\n",
       "        6.42980038e-01, -7.43000184e-01,  1.57404783e+00, -2.19976928e+00,\n",
       "       -3.58455982e-01,  4.13128544e-01, -3.81624307e-01, -6.82821608e-01,\n",
       "       -6.63065098e-01,  8.71361615e-02,  4.98268713e-01, -7.41225725e-01,\n",
       "       -5.94354335e-01,  1.45539978e+00, -4.72188080e-01, -7.35374330e-01,\n",
       "       -3.34186440e-01, -2.69208245e+00, -1.66608443e+00, -1.22061895e+00,\n",
       "        1.14438525e+00,  2.06518439e-02,  2.19766254e-01, -9.11868880e-01,\n",
       "        3.17356125e-01,  5.10889347e-01, -7.95528942e-01,  1.13231942e-01,\n",
       "       -2.45912065e-01, -3.97603853e-01, -1.19387047e-01, -6.16312237e-02,\n",
       "       -1.48569510e+00, -1.93948464e+00,  1.49057497e+00, -3.63634878e-01,\n",
       "        5.41590268e-01, -8.82036038e-01,  7.74603055e-01,  4.98517958e-01,\n",
       "       -8.14802845e-01, -1.01248155e+00,  2.81333361e-01,  6.25549831e-01,\n",
       "       -3.60295724e-01, -7.81893835e-01, -1.72858152e+00, -1.03361045e+00,\n",
       "        7.71872107e-01, -2.32438943e+00, -7.74517813e-01, -1.32876617e+00,\n",
       "        1.03601870e+00,  1.97838554e+00, -2.55899388e-01, -2.25804612e-02,\n",
       "        8.21482334e-01, -1.22275924e+00,  8.08645764e-01, -1.06979707e+00,\n",
       "       -6.71128581e-01,  6.06135202e-02,  7.83333608e-01,  1.97520918e+00,\n",
       "        4.51354100e-01, -3.37704317e-01,  1.42773140e-01, -1.17646495e+00,\n",
       "        5.53403664e-01,  2.45020533e-01, -7.65985448e-02, -7.07705802e-01,\n",
       "       -1.10904219e+00,  4.30604696e-01,  1.31121393e+00,  2.54671314e-01,\n",
       "        8.33623475e-01,  1.18695744e+00,  4.41740893e-01,  7.12959273e-01,\n",
       "        2.77421107e-01, -2.73692344e-01, -1.98466612e-01, -3.90251190e-01,\n",
       "        1.50438886e+00,  6.13973978e-01, -1.22281344e+00, -3.98069901e-01,\n",
       "       -2.86456678e-01, -9.40357533e-01,  8.96882996e-01,  7.86020068e-02,\n",
       "       -2.42072993e-01, -1.26156598e+00,  1.00509002e+00, -7.37755133e-01,\n",
       "        1.05546180e+00,  2.43556489e-01,  1.45685705e+00,  1.69917531e+00,\n",
       "       -1.35900786e+00,  5.00701849e-01,  3.14283643e-01,  9.10562937e-01,\n",
       "        4.01516362e-01, -1.40755700e+00, -2.46737358e-01,  1.34218037e+00,\n",
       "       -1.50988720e+00,  7.55672043e-01, -8.73404523e-01, -8.02460342e-01,\n",
       "       -2.06520385e+00, -3.59743715e-01, -1.12679743e+00, -6.83755450e-01,\n",
       "        1.23711206e-01, -4.88198546e-01,  5.29547091e-01,  8.32440508e-01,\n",
       "       -2.35187666e+00, -1.59862960e+00, -6.48966657e-02,  2.04243614e-01,\n",
       "       -5.15564291e-01, -1.31667991e+00,  6.34738641e-01,  4.25746029e-01,\n",
       "        1.14118132e+00,  3.07164994e-01,  2.44736112e-01,  6.19816505e-01,\n",
       "       -1.67869512e+00,  1.01711802e+00,  7.47552288e-01, -1.73969576e+00,\n",
       "        3.50656655e-01,  3.02072077e-01, -1.12238006e-01, -1.74458127e+00,\n",
       "        2.30864023e-01, -3.17280795e-01, -1.20929420e+00, -7.79541469e-01,\n",
       "        1.66733527e+00,  1.56092321e+00, -4.65859847e-01,  7.97680995e-01,\n",
       "       -3.32587756e-01,  6.96018520e-01,  1.10211397e+00,  7.04795872e-01,\n",
       "        6.59975792e-01, -3.19381735e-01,  9.89391757e-01, -3.52786373e-01,\n",
       "        1.18563049e+00, -7.37180632e-01,  1.26966732e+00, -3.82957638e-01,\n",
       "       -3.71720137e-01,  1.75196309e+00,  1.31006546e+00,  2.56102082e-01,\n",
       "        1.04810655e+00,  7.13509470e-02,  3.98172106e-01, -8.43914378e-01,\n",
       "       -2.35172663e+00, -5.35280230e-01,  1.57976728e-01,  2.88295998e-01,\n",
       "       -8.58515183e-01,  1.22914291e-02, -3.04887895e-01,  4.05573064e-01,\n",
       "        1.38397921e+00,  1.03019434e+00, -9.65624514e-01,  1.17335925e+00,\n",
       "        8.37259172e-01, -1.49102505e+00,  2.91221571e-01, -5.70587713e-01,\n",
       "        1.17915401e+00, -1.94481013e-01, -2.81732311e-01, -1.71760281e-01,\n",
       "        6.61218661e-01,  9.17667138e-01,  2.24540420e-01, -2.87725849e+00,\n",
       "       -8.55717511e-01, -1.27960172e+00, -2.23710002e-01, -9.65516006e-02,\n",
       "        1.28618689e-02, -5.89594725e-02,  6.32265569e-02, -1.64465854e+00,\n",
       "       -9.90435891e-01, -1.00974819e+00, -3.79750516e-01, -4.57126047e-01,\n",
       "        6.21039700e-01,  6.59877695e-02, -6.46415750e-01,  4.94638024e-01,\n",
       "       -4.19849227e-01,  8.28525445e-01,  7.74964638e-01,  4.02079220e-01,\n",
       "        7.28356094e-01,  6.37069993e-01,  6.10887581e-01, -8.98619678e-01,\n",
       "       -3.84713112e-01,  5.92070833e-01, -4.18913900e-01,  1.25511197e-01,\n",
       "        1.68001865e+00, -3.82837287e-01,  4.71522319e-01, -1.26347054e-01,\n",
       "        1.44950477e+00, -9.52739278e-01, -1.09121033e+00, -5.22628049e-01,\n",
       "       -2.02891099e+00, -1.00768314e+00, -3.27534375e-01,  7.03564031e-01,\n",
       "       -6.13534474e-01,  8.37356246e-01,  3.64952022e-01, -1.45546060e+00,\n",
       "        2.02198422e+00, -2.62957217e+00, -3.96869640e-01, -4.33875111e-02,\n",
       "        2.22992154e-01,  8.51116898e-02,  6.56969773e-01, -3.01722674e+00,\n",
       "       -1.26610445e+00, -8.27750948e-01, -8.49073983e-01, -8.39209802e-01,\n",
       "       -1.54295153e+00,  5.93845297e-01,  1.62943697e+00,  2.64402897e-01,\n",
       "        9.36393628e-02,  5.93993578e-01, -3.06459321e-01,  3.08706719e-01,\n",
       "        1.23014641e+00,  6.12267864e-01,  8.38875138e-01,  4.89645096e-01,\n",
       "       -3.16825156e-01,  8.01113993e-01, -2.46340524e-01,  4.49699959e-01,\n",
       "       -6.45454797e-01, -7.59553841e-01, -1.04294623e+00,  2.96995927e-01,\n",
       "        7.58736991e-01,  8.85882526e-01, -9.40924883e-01,  7.40507944e-01,\n",
       "        8.76869989e-01,  1.48432406e+00,  6.77005852e-01,  1.58971590e+00,\n",
       "        2.67178363e+00, -2.13378504e-01,  5.72032163e-01,  1.11010248e+00,\n",
       "       -2.52757955e+00, -1.76682982e+00,  1.17856374e-01, -3.98519947e-01,\n",
       "       -6.62126214e-01,  1.15635974e+00,  6.48540895e-01, -7.63755885e-01,\n",
       "       -9.88240653e-01,  1.25370928e+00,  1.51838965e+00, -4.31982936e-01,\n",
       "        3.79381691e-01,  6.46768389e-01,  3.87604784e-01,  9.23190181e-01,\n",
       "       -1.39477272e+00,  3.44218799e+00, -1.07295730e-01, -9.43964764e-01,\n",
       "       -3.34900563e-01, -1.11931684e+00,  7.47862925e-01, -2.53270599e-01,\n",
       "       -4.33093199e-01, -2.16036345e-01, -3.08231637e-01,  7.48418655e-02,\n",
       "        8.76562472e-01, -4.07394185e-01, -9.03068873e-01, -6.68146370e-01,\n",
       "       -3.95292315e-01,  1.93344292e-01, -5.38658234e-01, -7.33441575e-01,\n",
       "       -2.06351157e+00, -7.70828932e-01, -4.48887524e-01,  2.81822145e-01,\n",
       "        5.87071360e-01,  2.21967918e-01, -1.04687130e+00,  5.64162150e-01,\n",
       "        8.67326723e-01, -1.01595913e+00,  4.23748626e-01, -1.41575814e+00,\n",
       "        1.94511038e-01,  6.63890399e-01, -5.73177194e-01, -9.76574958e-01,\n",
       "       -5.49346574e-01, -2.29862803e-01,  1.03857000e+00,  1.03238690e+00,\n",
       "       -3.05109905e-01, -1.56740607e+00, -5.02779954e-01, -1.26907555e+00,\n",
       "        3.83719115e-03, -1.61840980e+00,  2.37907689e-01, -1.41148298e+00,\n",
       "        2.56308401e+00, -1.08559697e-03, -2.45891853e-01,  2.49389459e+00,\n",
       "        1.34715712e-01, -4.44613364e-01, -1.22310541e+00,  5.08509896e-01,\n",
       "        5.68776669e-01, -3.58716390e-02,  3.44941069e-01,  3.88126904e-01,\n",
       "       -8.78369640e-01,  4.72229440e-01, -2.42458334e+00,  9.94873421e-01,\n",
       "        2.05811589e+00,  1.11162759e+00, -1.19803491e+00,  7.79073422e-01,\n",
       "       -1.18174068e+00, -2.96212850e-01,  1.06029237e+00, -2.06678341e-01,\n",
       "        1.30166501e+00, -2.34928853e-01, -1.08810128e-01, -4.95590171e-01,\n",
       "       -2.37126913e+00,  4.80473708e-02, -1.57583321e+00,  8.41299752e-01,\n",
       "       -1.00539464e+00, -2.36545433e-02, -2.27003217e-01,  2.79273727e+00,\n",
       "       -1.74616823e+00, -5.57321323e-01,  1.23861355e+00, -6.02890347e-01,\n",
       "       -1.00884220e-01, -1.31855326e+00,  5.75051529e-01, -8.75167775e-01,\n",
       "       -1.05150255e+00,  1.27923351e+00,  6.59858702e-01, -2.42618741e-01,\n",
       "       -3.96225820e-01,  9.55467462e-02,  8.45075783e-01,  2.10746945e+00,\n",
       "       -3.33061449e-01, -5.33663109e-02, -5.74785321e-03,  6.69457109e-01,\n",
       "       -1.54952278e+00,  2.02073453e+00, -9.97969009e-01,  6.66580443e-01,\n",
       "       -3.74820308e-01, -1.73051430e-02, -1.26366821e+00,  3.06186068e-01,\n",
       "       -3.12451486e-01, -1.28157116e+00, -1.09358717e-01, -5.61597850e-01,\n",
       "       -6.29971799e-01,  1.25534500e-01,  1.49451000e+00,  4.89379989e-01,\n",
       "       -9.05457862e-01, -3.53184567e-01,  7.86673411e-03, -1.28180491e+00,\n",
       "        3.23745658e-01,  2.60631857e+00, -1.09886167e+00, -1.15335803e+00,\n",
       "       -8.51461818e-01,  8.56810567e-01,  1.55214516e-01, -3.17250054e-01,\n",
       "       -1.61427745e-01, -6.68716376e-01, -1.41941628e+00, -1.20610641e+00,\n",
       "        1.59819035e+00,  3.40763718e-01, -1.38957972e+00, -8.56812083e-01,\n",
       "       -1.36066696e+00, -4.85200933e-01, -1.21846963e+00, -9.73804100e-03,\n",
       "        5.93014378e-01, -2.01564286e-01, -1.98114795e-01,  1.39918596e+00,\n",
       "        1.92639076e-01, -4.40178075e-02,  3.50461091e-01, -5.45421392e-01,\n",
       "       -9.03226176e-01,  5.28525629e-01,  4.67305731e-01, -3.01162768e-01,\n",
       "        1.30127620e+00, -1.98164928e+00,  1.76603561e+00, -1.74046107e+00,\n",
       "        1.81752491e+00, -1.57025638e+00,  8.30258202e-01, -6.83039175e-01,\n",
       "       -1.69416038e+00, -6.11740788e-01,  2.32343162e-01,  1.19913682e-01,\n",
       "       -3.74997750e-01,  3.86946862e-01, -2.50925689e-02,  3.60702848e-01,\n",
       "       -3.50386887e-02, -2.24033579e-01,  1.88291617e+00,  9.06301221e-01,\n",
       "        9.97767576e-01, -1.41242756e+00,  1.00085471e+00, -9.85771262e-01,\n",
       "        6.14949667e-01,  9.85917487e-01, -1.45734415e+00,  9.36095640e-02,\n",
       "        8.55033349e-01, -2.04088704e-01, -4.02935394e-01, -1.17956200e-01,\n",
       "        1.38177649e+00, -2.33489999e+00, -1.03715052e+00, -1.41365587e+00,\n",
       "       -1.88280339e+00,  2.91089448e-02,  1.38152643e+00, -1.65998585e-01,\n",
       "        7.56403735e-02, -4.18058889e-01, -7.20424884e-01, -7.26430338e-01,\n",
       "       -1.55632958e-01, -1.18279661e+00, -1.86491630e+00, -3.79744463e-01,\n",
       "        3.71752163e-01, -1.85975203e+00,  2.07745870e+00, -2.86276637e-01,\n",
       "        1.24880755e+00, -2.99374188e-01, -1.07883120e-01,  1.18395230e+00,\n",
       "       -5.95214158e-02, -1.57428129e+00, -1.31696437e+00, -1.21537515e+00,\n",
       "        1.55499246e+00,  2.48033843e-01, -6.00054147e-01, -2.84908221e-01,\n",
       "        4.43112262e-01, -3.99118168e-01, -5.30794609e-01, -5.04677082e-01,\n",
       "       -1.91849201e+00,  1.04947447e+00,  1.80743781e+00,  6.72233938e-02,\n",
       "       -3.68010488e-01,  1.04789809e+00, -1.27414858e-01, -4.83362223e-01,\n",
       "       -9.75800546e-02,  8.29849354e-03, -8.54982519e-01,  3.36031409e-01,\n",
       "       -3.26165728e-01,  6.72507501e-01, -1.15343800e+00, -2.28426941e+00,\n",
       "       -1.47432944e+00, -3.56730064e-01,  4.45496062e-01, -2.82665382e-01,\n",
       "        7.40469683e-02, -2.25416458e-01, -8.01445223e-01, -8.71615353e-01,\n",
       "       -4.15747962e-01,  9.56844848e-01, -5.88656737e-01, -8.20101639e-01,\n",
       "       -1.03478920e+00, -2.28643364e-01,  7.73337791e-01, -2.08149582e-02,\n",
       "       -1.13069950e+00, -8.87294563e-01,  7.46626253e-01, -7.20301138e-01,\n",
       "        1.75908871e-01, -1.12886461e+00, -1.00585678e+00,  3.43381289e-01,\n",
       "       -2.27789856e-01,  3.37774329e-01,  3.33564645e-01, -5.51060660e-02,\n",
       "        9.81005986e-01, -3.87505545e-01, -6.98928138e-01,  2.24976430e-01,\n",
       "       -2.39891731e-01,  5.73544121e-01,  3.07395464e+00, -5.29361144e-01,\n",
       "       -1.50491177e-01,  1.43808605e+00, -9.70846232e-01, -2.32861698e-01,\n",
       "       -1.30493839e+00,  4.10155522e-02, -2.01353466e-01,  3.28827583e-02,\n",
       "        7.69421251e-01,  4.02711389e-02,  8.64858431e-02,  8.23874833e-01,\n",
       "       -9.71683674e-01, -7.49637522e-04, -9.47699365e-01,  6.47832462e-02,\n",
       "        4.80901218e-01, -3.54420219e-01,  4.92488469e-01, -1.99511727e+00,\n",
       "        2.13253273e+00, -1.37264658e-01,  2.65197831e-01, -1.34956527e-01,\n",
       "        6.78910598e-01, -2.47705178e-01, -6.76345514e-01,  9.27503914e-01,\n",
       "        1.10130309e-01, -6.19448034e-01,  2.63727863e-03, -1.76402354e-01,\n",
       "       -6.15270224e-01,  2.73651057e-01,  1.37314295e+00, -3.53033606e-01,\n",
       "       -1.68447542e+00, -1.25394175e+00,  7.21066907e-01, -6.02610551e-01,\n",
       "       -9.98188971e-01, -4.50522730e-01, -1.31646722e+00,  3.82097949e-01,\n",
       "        1.70092030e-01,  1.51402743e-01,  6.84746844e-01, -3.34093981e-01,\n",
       "       -9.45728429e-01, -5.72791534e-01,  5.43431395e-01, -1.90687603e-01,\n",
       "       -1.14911146e+00,  7.75331932e-01, -2.23763731e-01, -4.91290391e-01,\n",
       "       -1.38641721e+00, -1.28274319e-01,  1.49080537e-01, -9.51788339e-02,\n",
       "        5.47987415e-01,  1.66834317e+00,  1.67827705e+00, -3.56550885e-01,\n",
       "        7.06430358e-01, -8.27317188e-01, -1.53163659e-01, -1.56893423e+00,\n",
       "        1.67258148e-01, -6.98817352e-01, -4.65269616e-01,  6.80027485e-01,\n",
       "        4.39493334e-01,  2.28485126e-01, -7.20660352e-01, -3.85183944e-01,\n",
       "       -2.58529100e-01,  2.44137562e+00, -4.86721273e-01, -1.09539736e+00,\n",
       "        4.60459178e-01, -2.03616596e+00,  1.95780033e-01,  1.08742082e-01,\n",
       "       -6.56931543e-01, -9.98883651e-01, -1.30757851e+00,  2.70508790e-01,\n",
       "        5.55617636e-01,  6.96893675e-01, -1.89788598e+00, -9.19412242e-01,\n",
       "       -9.62621013e-01,  7.94816175e-01,  2.64959801e-01, -2.13216974e+00,\n",
       "       -5.35806176e-01,  1.42241973e+00, -3.67160620e-02,  8.62418367e-01,\n",
       "        1.02987651e-02, -1.28533027e+00,  1.43401279e+00, -1.48372501e+00,\n",
       "        1.02381147e+00, -1.57081511e+00,  6.41688173e-01,  4.31395539e-01,\n",
       "       -3.54612310e-01, -8.69109575e-02,  1.21727832e+00,  5.88387216e-02,\n",
       "        7.33340520e-01, -1.81350228e+00, -6.83779187e-01,  3.86812658e-01,\n",
       "       -9.67032410e-01,  3.05249709e-01,  9.07954177e-01,  4.53641566e-01,\n",
       "        1.15976678e+00,  4.29974695e-01,  6.85869216e-01, -1.20219721e+00,\n",
       "        3.58764408e-01,  8.72039643e-01,  2.02487300e-01,  9.70231903e-01,\n",
       "        3.43180180e-01,  4.30106532e-01,  8.25936808e-01, -1.70430328e+00,\n",
       "        1.43408862e+00,  1.08970286e+00,  2.91658918e-01,  3.48781405e-01,\n",
       "        3.12433562e-01,  7.57255017e-01, -6.65888166e-03, -8.25269438e-01,\n",
       "        6.63957835e-01,  2.63157201e-01, -8.27552246e-01,  3.02151259e-01,\n",
       "       -6.71978000e-01,  5.40775027e-01,  5.97261646e-01,  3.14391118e-01,\n",
       "        2.21102352e-01, -3.93285706e-01,  4.22083000e-01, -1.69703788e-01,\n",
       "        1.35666111e+00,  1.65026156e-02, -1.03224241e+00, -3.12603689e-01,\n",
       "       -1.30928522e+00,  2.24859001e-01,  7.11294467e-01,  1.61604291e-01,\n",
       "        1.86494988e+00, -2.19880224e-01,  5.42054195e-01, -8.00985133e-01,\n",
       "        1.42027631e+00, -1.01314630e-01, -1.08889065e+00, -3.66128419e-02,\n",
       "       -5.52605245e-01, -3.16736713e-01,  2.09626274e-01,  9.97107234e-01])"
      ]
     },
     "execution_count": 18,
     "metadata": {},
     "output_type": "execute_result"
    }
   ],
   "source": [
    "np.random.normal(0, 1, 1000)"
   ]
  },
  {
   "cell_type": "code",
   "execution_count": null,
   "metadata": {},
   "outputs": [],
   "source": []
  }
 ],
 "metadata": {
  "anaconda-cloud": {},
  "kernelspec": {
   "display_name": "Python 3 (ipykernel)",
   "language": "python",
   "name": "python3"
  },
  "language_info": {
   "codemirror_mode": {
    "name": "ipython",
    "version": 3
   },
   "file_extension": ".py",
   "mimetype": "text/x-python",
   "name": "python",
   "nbconvert_exporter": "python",
   "pygments_lexer": "ipython3",
   "version": "3.9.7"
  }
 },
 "nbformat": 4,
 "nbformat_minor": 1
}
